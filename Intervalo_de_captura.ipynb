{
  "nbformat": 4,
  "nbformat_minor": 0,
  "metadata": {
    "colab": {
      "provenance": [],
      "authorship_tag": "ABX9TyOLjkn1A1/X3Mgf/cbfAqJp",
      "include_colab_link": true
    },
    "kernelspec": {
      "name": "python3",
      "display_name": "Python 3"
    },
    "language_info": {
      "name": "python"
    }
  },
  "cells": [
    {
      "cell_type": "markdown",
      "metadata": {
        "id": "view-in-github",
        "colab_type": "text"
      },
      "source": [
        "<a href=\"https://colab.research.google.com/github/asdflazaro/Cow_Science_Robots/blob/main/Intervalo_de_captura.ipynb\" target=\"_parent\"><img src=\"https://colab.research.google.com/assets/colab-badge.svg\" alt=\"Open In Colab\"/></a>"
      ]
    },
    {
      "cell_type": "code",
      "execution_count": 1,
      "metadata": {
        "colab": {
          "base_uri": "https://localhost:8080/"
        },
        "id": "KY7VcL6WM2kW",
        "outputId": "62032344-1803-411e-90b6-f1e2a5cef3a3"
      },
      "outputs": [
        {
          "output_type": "stream",
          "name": "stdout",
          "text": [
            "\u001b[2K     \u001b[90m━━━━━━━━━━━━━━━━━━━━━━━━━━━━━━━━━━━━━━━━\u001b[0m \u001b[32m25.8/25.8 MB\u001b[0m \u001b[31m36.0 MB/s\u001b[0m eta \u001b[36m0:00:00\u001b[0m\n",
            "\u001b[?25h  Installing build dependencies ... \u001b[?25l\u001b[?25hdone\n",
            "  Getting requirements to build wheel ... \u001b[?25l\u001b[?25hdone\n",
            "  Preparing metadata (pyproject.toml) ... \u001b[?25l\u001b[?25hdone\n",
            "  Building wheel for scikit-optimize (pyproject.toml) ... \u001b[?25l\u001b[?25hdone\n"
          ]
        }
      ],
      "source": [
        "#Baixar e instalar o skopt\n",
        "!pip install scikit-learn==1.0.0 -q -U\n",
        "!pip install git+https://github.com/scikit-optimize/scikit-optimize.git -q -U"
      ]
    },
    {
      "cell_type": "code",
      "source": [
        "# Imports\n",
        "import numpy as np\n",
        "import pandas as pd\n",
        "import skopt"
      ],
      "metadata": {
        "id": "boMlwBosNQO5"
      },
      "execution_count": 2,
      "outputs": []
    },
    {
      "cell_type": "markdown",
      "source": [
        "⏰ **Leitura dos dados - 1 segundo**"
      ],
      "metadata": {
        "id": "lTDNUwI0NSz2"
      }
    },
    {
      "cell_type": "code",
      "source": [
        "# Leitura e amostra da tabela\n",
        "df = pd.read_csv('Tabela1s.csv', delimiter = ';')\n",
        "df.head()"
      ],
      "metadata": {
        "colab": {
          "base_uri": "https://localhost:8080/",
          "height": 206
        },
        "id": "JPwpjEwENWbS",
        "outputId": "216fd91d-b265-46fd-9e4a-ef1976f70932"
      },
      "execution_count": 3,
      "outputs": [
        {
          "output_type": "execute_result",
          "data": {
            "text/plain": [
              "         Data      Hora     ax    ay     az    gx    gy    gz  Comportamento\n",
              "0  27/01/2023  04:45:00  11669  5323   6348  1695  2941 -2270              1\n",
              "1  27/01/2023  04:45:01  11130  7025   7761 -2178 -1819  2134              1\n",
              "2  27/01/2023  04:45:02  10120  6610  10145 -2487   185  1868              1\n",
              "3  27/01/2023  04:45:03  13629  3053   7777  -837 -4725 -3067              1\n",
              "4  27/01/2023  04:45:04  13537  3296   7080  1245 -2580   571              1"
            ],
            "text/html": [
              "\n",
              "  <div id=\"df-0bca287c-522c-4a75-93bc-08b7e4aac0c7\">\n",
              "    <div class=\"colab-df-container\">\n",
              "      <div>\n",
              "<style scoped>\n",
              "    .dataframe tbody tr th:only-of-type {\n",
              "        vertical-align: middle;\n",
              "    }\n",
              "\n",
              "    .dataframe tbody tr th {\n",
              "        vertical-align: top;\n",
              "    }\n",
              "\n",
              "    .dataframe thead th {\n",
              "        text-align: right;\n",
              "    }\n",
              "</style>\n",
              "<table border=\"1\" class=\"dataframe\">\n",
              "  <thead>\n",
              "    <tr style=\"text-align: right;\">\n",
              "      <th></th>\n",
              "      <th>Data</th>\n",
              "      <th>Hora</th>\n",
              "      <th>ax</th>\n",
              "      <th>ay</th>\n",
              "      <th>az</th>\n",
              "      <th>gx</th>\n",
              "      <th>gy</th>\n",
              "      <th>gz</th>\n",
              "      <th>Comportamento</th>\n",
              "    </tr>\n",
              "  </thead>\n",
              "  <tbody>\n",
              "    <tr>\n",
              "      <th>0</th>\n",
              "      <td>27/01/2023</td>\n",
              "      <td>04:45:00</td>\n",
              "      <td>11669</td>\n",
              "      <td>5323</td>\n",
              "      <td>6348</td>\n",
              "      <td>1695</td>\n",
              "      <td>2941</td>\n",
              "      <td>-2270</td>\n",
              "      <td>1</td>\n",
              "    </tr>\n",
              "    <tr>\n",
              "      <th>1</th>\n",
              "      <td>27/01/2023</td>\n",
              "      <td>04:45:01</td>\n",
              "      <td>11130</td>\n",
              "      <td>7025</td>\n",
              "      <td>7761</td>\n",
              "      <td>-2178</td>\n",
              "      <td>-1819</td>\n",
              "      <td>2134</td>\n",
              "      <td>1</td>\n",
              "    </tr>\n",
              "    <tr>\n",
              "      <th>2</th>\n",
              "      <td>27/01/2023</td>\n",
              "      <td>04:45:02</td>\n",
              "      <td>10120</td>\n",
              "      <td>6610</td>\n",
              "      <td>10145</td>\n",
              "      <td>-2487</td>\n",
              "      <td>185</td>\n",
              "      <td>1868</td>\n",
              "      <td>1</td>\n",
              "    </tr>\n",
              "    <tr>\n",
              "      <th>3</th>\n",
              "      <td>27/01/2023</td>\n",
              "      <td>04:45:03</td>\n",
              "      <td>13629</td>\n",
              "      <td>3053</td>\n",
              "      <td>7777</td>\n",
              "      <td>-837</td>\n",
              "      <td>-4725</td>\n",
              "      <td>-3067</td>\n",
              "      <td>1</td>\n",
              "    </tr>\n",
              "    <tr>\n",
              "      <th>4</th>\n",
              "      <td>27/01/2023</td>\n",
              "      <td>04:45:04</td>\n",
              "      <td>13537</td>\n",
              "      <td>3296</td>\n",
              "      <td>7080</td>\n",
              "      <td>1245</td>\n",
              "      <td>-2580</td>\n",
              "      <td>571</td>\n",
              "      <td>1</td>\n",
              "    </tr>\n",
              "  </tbody>\n",
              "</table>\n",
              "</div>\n",
              "      <button class=\"colab-df-convert\" onclick=\"convertToInteractive('df-0bca287c-522c-4a75-93bc-08b7e4aac0c7')\"\n",
              "              title=\"Convert this dataframe to an interactive table.\"\n",
              "              style=\"display:none;\">\n",
              "        \n",
              "  <svg xmlns=\"http://www.w3.org/2000/svg\" height=\"24px\"viewBox=\"0 0 24 24\"\n",
              "       width=\"24px\">\n",
              "    <path d=\"M0 0h24v24H0V0z\" fill=\"none\"/>\n",
              "    <path d=\"M18.56 5.44l.94 2.06.94-2.06 2.06-.94-2.06-.94-.94-2.06-.94 2.06-2.06.94zm-11 1L8.5 8.5l.94-2.06 2.06-.94-2.06-.94L8.5 2.5l-.94 2.06-2.06.94zm10 10l.94 2.06.94-2.06 2.06-.94-2.06-.94-.94-2.06-.94 2.06-2.06.94z\"/><path d=\"M17.41 7.96l-1.37-1.37c-.4-.4-.92-.59-1.43-.59-.52 0-1.04.2-1.43.59L10.3 9.45l-7.72 7.72c-.78.78-.78 2.05 0 2.83L4 21.41c.39.39.9.59 1.41.59.51 0 1.02-.2 1.41-.59l7.78-7.78 2.81-2.81c.8-.78.8-2.07 0-2.86zM5.41 20L4 18.59l7.72-7.72 1.47 1.35L5.41 20z\"/>\n",
              "  </svg>\n",
              "      </button>\n",
              "      \n",
              "  <style>\n",
              "    .colab-df-container {\n",
              "      display:flex;\n",
              "      flex-wrap:wrap;\n",
              "      gap: 12px;\n",
              "    }\n",
              "\n",
              "    .colab-df-convert {\n",
              "      background-color: #E8F0FE;\n",
              "      border: none;\n",
              "      border-radius: 50%;\n",
              "      cursor: pointer;\n",
              "      display: none;\n",
              "      fill: #1967D2;\n",
              "      height: 32px;\n",
              "      padding: 0 0 0 0;\n",
              "      width: 32px;\n",
              "    }\n",
              "\n",
              "    .colab-df-convert:hover {\n",
              "      background-color: #E2EBFA;\n",
              "      box-shadow: 0px 1px 2px rgba(60, 64, 67, 0.3), 0px 1px 3px 1px rgba(60, 64, 67, 0.15);\n",
              "      fill: #174EA6;\n",
              "    }\n",
              "\n",
              "    [theme=dark] .colab-df-convert {\n",
              "      background-color: #3B4455;\n",
              "      fill: #D2E3FC;\n",
              "    }\n",
              "\n",
              "    [theme=dark] .colab-df-convert:hover {\n",
              "      background-color: #434B5C;\n",
              "      box-shadow: 0px 1px 3px 1px rgba(0, 0, 0, 0.15);\n",
              "      filter: drop-shadow(0px 1px 2px rgba(0, 0, 0, 0.3));\n",
              "      fill: #FFFFFF;\n",
              "    }\n",
              "  </style>\n",
              "\n",
              "      <script>\n",
              "        const buttonEl =\n",
              "          document.querySelector('#df-0bca287c-522c-4a75-93bc-08b7e4aac0c7 button.colab-df-convert');\n",
              "        buttonEl.style.display =\n",
              "          google.colab.kernel.accessAllowed ? 'block' : 'none';\n",
              "\n",
              "        async function convertToInteractive(key) {\n",
              "          const element = document.querySelector('#df-0bca287c-522c-4a75-93bc-08b7e4aac0c7');\n",
              "          const dataTable =\n",
              "            await google.colab.kernel.invokeFunction('convertToInteractive',\n",
              "                                                     [key], {});\n",
              "          if (!dataTable) return;\n",
              "\n",
              "          const docLinkHtml = 'Like what you see? Visit the ' +\n",
              "            '<a target=\"_blank\" href=https://colab.research.google.com/notebooks/data_table.ipynb>data table notebook</a>'\n",
              "            + ' to learn more about interactive tables.';\n",
              "          element.innerHTML = '';\n",
              "          dataTable['output_type'] = 'display_data';\n",
              "          await google.colab.output.renderOutput(dataTable, element);\n",
              "          const docLink = document.createElement('div');\n",
              "          docLink.innerHTML = docLinkHtml;\n",
              "          element.appendChild(docLink);\n",
              "        }\n",
              "      </script>\n",
              "    </div>\n",
              "  </div>\n",
              "  "
            ]
          },
          "metadata": {},
          "execution_count": 3
        }
      ]
    },
    {
      "cell_type": "code",
      "source": [
        "# Exibe os tipos presentes na tabela\n",
        "df.dtypes"
      ],
      "metadata": {
        "colab": {
          "base_uri": "https://localhost:8080/"
        },
        "id": "VCmRvg0kNvex",
        "outputId": "06c64922-d68e-47fa-d724-84d41c867662"
      },
      "execution_count": 4,
      "outputs": [
        {
          "output_type": "execute_result",
          "data": {
            "text/plain": [
              "Data             object\n",
              "Hora             object\n",
              "ax                int64\n",
              "ay                int64\n",
              "az                int64\n",
              "gx                int64\n",
              "gy                int64\n",
              "gz                int64\n",
              "Comportamento     int64\n",
              "dtype: object"
            ]
          },
          "metadata": {},
          "execution_count": 4
        }
      ]
    },
    {
      "cell_type": "code",
      "source": [
        "# Imports\n",
        "from sklearn.model_selection import train_test_split\n",
        "from sklearn.metrics import accuracy_score, confusion_matrix, classification_report\n",
        "from sklearn.model_selection import cross_val_score\n",
        "from sklearn.model_selection import RandomizedSearchCV\n",
        "from skopt import gp_minimize"
      ],
      "metadata": {
        "id": "FIcwBdbWN0Ez"
      },
      "execution_count": 5,
      "outputs": []
    },
    {
      "cell_type": "code",
      "source": [
        "# Exibe as colunas existentes\n",
        "df.columns"
      ],
      "metadata": {
        "colab": {
          "base_uri": "https://localhost:8080/"
        },
        "id": "KSCWD3cuOABa",
        "outputId": "996453a5-6d8a-4d5e-aad0-426a91cdafa0"
      },
      "execution_count": 6,
      "outputs": [
        {
          "output_type": "execute_result",
          "data": {
            "text/plain": [
              "Index(['Data', 'Hora', 'ax', 'ay', 'az', 'gx', 'gy', 'gz', 'Comportamento'], dtype='object')"
            ]
          },
          "metadata": {},
          "execution_count": 6
        }
      ]
    },
    {
      "cell_type": "code",
      "source": [
        "# Lista com os atributos aplicáveis - colunas\n",
        "features_aplicaveis = ['ax', 'ay' ,'az', 'gx', 'gy', 'gz', 'Comportamento']"
      ],
      "metadata": {
        "id": "LiWjvcYfOKY7"
      },
      "execution_count": 12,
      "outputs": []
    },
    {
      "cell_type": "code",
      "source": [
        "# Seleciona os abributos correspondentes da lista features_aplicaveis\n",
        "df = df[features_aplicaveis]"
      ],
      "metadata": {
        "id": "7dh-01erOOBp"
      },
      "execution_count": 13,
      "outputs": []
    },
    {
      "cell_type": "code",
      "source": [
        "def imprimir_quantidade_dados(X_train, X_test):\n",
        "    print(10*\"-\",\" Quantidade de dados \",  10*\"-\")\n",
        "    \n",
        "    print('Treino: ', X_train.shape[0])\n",
        "    print('Teste: ', X_test.shape[0])\n",
        "    \n",
        "    print(43*\"-\")"
      ],
      "metadata": {
        "id": "szH0QN0XOSfe"
      },
      "execution_count": 14,
      "outputs": []
    },
    {
      "cell_type": "code",
      "source": [
        "y = df.Comportamento\n",
        "X = df.drop('Comportamento', axis=1)\n",
        "\n",
        "# Conjunto de dados PRO: Pastejando x Ruminando x Ócio\n",
        "X_train, X_test, y_train, y_test = train_test_split(X, y, train_size=0.8, random_state = 0, stratify=y)"
      ],
      "metadata": {
        "id": "l8PbfAc7OVTP"
      },
      "execution_count": 15,
      "outputs": []
    },
    {
      "cell_type": "code",
      "source": [
        "imprimir_quantidade_dados(X_train, X_test)"
      ],
      "metadata": {
        "colab": {
          "base_uri": "https://localhost:8080/"
        },
        "id": "0E_B7sFsOXWj",
        "outputId": "df40f5ae-1941-4d0c-bd98-cac28c1882ee"
      },
      "execution_count": 16,
      "outputs": [
        {
          "output_type": "stream",
          "name": "stdout",
          "text": [
            "----------  Quantidade de dados  ----------\n",
            "Treino:  62896\n",
            "Teste:  15725\n",
            "-------------------------------------------\n"
          ]
        }
      ]
    },
    {
      "cell_type": "code",
      "source": [
        "# Função para imprimir e salvar matriz de confusão\n",
        "def imprimeMatrizDeConfusão(y_test, preds, model, salvarFigura = False):\n",
        "    from sklearn.metrics import confusion_matrix\n",
        "    from sklearn.metrics import ConfusionMatrixDisplay\n",
        "    import matplotlib.pyplot as plt\n",
        "\n",
        "    cm = confusion_matrix(y_test, preds, normalize='true')\n",
        "    disp = ConfusionMatrixDisplay(confusion_matrix=cm, display_labels=model.classes_)\n",
        "    disp.plot(values_format= '.2%', xticks_rotation=60, colorbar=False)\n",
        "    disp.ax_.set_title(\"Matriz de confusão normalizada sobre as condições verdadeiras\")\n",
        "    if(salvarFigura):\n",
        "        plt.savefig(input('Nome da figura a ser salva:' ) + '.png')\n",
        "    plt.show()"
      ],
      "metadata": {
        "id": "hKtnneHCOZcq"
      },
      "execution_count": 17,
      "outputs": []
    },
    {
      "cell_type": "code",
      "source": [
        "from sklearn.metrics import classification_report\n",
        "\n",
        "def classification_report_extendido(y_true: np.array, y_pred: np.array, classes: set = None):\n",
        "    report = classification_report(y_true, y_pred, output_dict=True, zero_division=0)\n",
        "    \n",
        "    if classes is None: # Determina classes pelos valores\n",
        "        classes = set(np.concatenate((np.unique(y_true), np.unique(y_pred))))\n",
        "    for cls in classes:\n",
        "        y_true_cls = (y_true == cls).astype(int)\n",
        "        y_pred_cls = (y_pred == cls).astype(int)\n",
        "\n",
        "        fp = sum(y_pred_cls[y_true_cls != 1])\n",
        "        tn = sum(y_pred_cls[y_true_cls == 0] == False)\n",
        "        fn = sum(y_pred_cls[y_true_cls == 1] == False)\n",
        "\n",
        "        \n",
        "        specificity_val = tn / (tn + fp)\n",
        "        report[cls]['specificity'] = specificity_val\n",
        "        npv_val = tn / (tn + fn)\n",
        "        report[cls]['npv'] = npv_val\n",
        "        \n",
        "    return report"
      ],
      "metadata": {
        "id": "QovPusCKObe6"
      },
      "execution_count": 18,
      "outputs": []
    },
    {
      "cell_type": "markdown",
      "source": [
        "Predição"
      ],
      "metadata": {
        "id": "7Wrxi5BLOg3G"
      }
    },
    {
      "cell_type": "code",
      "source": [
        "# imports\n",
        "from sklearn.ensemble import RandomForestClassifier"
      ],
      "metadata": {
        "id": "b8AggnxcOiQQ"
      },
      "execution_count": 19,
      "outputs": []
    },
    {
      "cell_type": "code",
      "source": [
        "rf_Model = RandomForestClassifier(random_state=0, n_jobs=-1)"
      ],
      "metadata": {
        "id": "K88q1OJxOkn-"
      },
      "execution_count": 20,
      "outputs": []
    },
    {
      "cell_type": "code",
      "source": [
        "# criação de um grid\n",
        "rf_param_grid = {'n_estimators':  np.arange(50, 250, 50),\n",
        "               'max_features': ['auto', 'sqrt'],\n",
        "               'max_depth':[50, 100, 150, None],\n",
        "               'criterion': ['gini', 'entropy'],\n",
        "               'min_samples_split': [2, 5, 10, 30, 50],\n",
        "               'min_samples_leaf': [1, 2],\n",
        "               'bootstrap': [True, False]}"
      ],
      "metadata": {
        "id": "WRyFxY8-Omy_"
      },
      "execution_count": 21,
      "outputs": []
    },
    {
      "cell_type": "code",
      "source": [
        "rf_RandomGrid = RandomizedSearchCV(estimator = rf_Model, param_distributions = rf_param_grid, cv = 3, verbose=1, random_state=0)"
      ],
      "metadata": {
        "id": "y1JctueEOq5c"
      },
      "execution_count": 22,
      "outputs": []
    },
    {
      "cell_type": "code",
      "source": [
        "def tune_rf(params):\n",
        "    n_estimators = params[0]\n",
        "    max_features = params[1]\n",
        "    max_depth = params[2]\n",
        "    criterion = params[3]\n",
        "    min_samples_split = params[4]\n",
        "    min_samples_leaf = params[5]\n",
        "    bootstrap = params[6]\n",
        "    \n",
        "    print(params, '\\n')\n",
        "    \n",
        "    rf_Model = RandomForestClassifier(n_estimators=n_estimators, max_features=max_features, max_depth=max_depth, criterion=criterion, min_samples_split=min_samples_split,\n",
        "                                       min_samples_leaf = min_samples_leaf, bootstrap=bootstrap, random_state=0, n_jobs=-1)\n",
        "    \n",
        "    auc = cross_val_score(rf_Model, X_train, y_train, cv=3, scoring ='accuracy')\n",
        "    \n",
        "    return -auc.mean()\n",
        "\n",
        "space = [ np.arange(50, 250, 50), # n_estimators\n",
        "         ['auto', 'sqrt'], # max_features\n",
        "         [50, 100, 150, None], # max_depth\n",
        "         ['gini', 'entropy'], # criterion\n",
        "         [2, 5, 10, 30, 50], # min_samples_split\n",
        "         [1,2,4], # min_samples_leaf\n",
        "         [True, False]] # bootstrap] "
      ],
      "metadata": {
        "id": "XYDHWVquOuO4"
      },
      "execution_count": 23,
      "outputs": []
    },
    {
      "cell_type": "code",
      "source": [
        "%%time\n",
        "from skopt import forest_minimize\n",
        "resultado_rf = gp_minimize(tune_rf, space, random_state=0, verbose=1, n_calls=30, n_random_starts=15, n_jobs=-1)"
      ],
      "metadata": {
        "colab": {
          "base_uri": "https://localhost:8080/"
        },
        "id": "tEU8SgLNOwMi",
        "outputId": "7b6bd110-2883-49a8-ec6f-5c1d0b3eb7c5"
      },
      "execution_count": 24,
      "outputs": [
        {
          "output_type": "stream",
          "name": "stdout",
          "text": [
            "Iteration No: 1 started. Evaluating function at random point.\n",
            "[150, 'sqrt', None, 'gini', 10, 2, False] \n",
            "\n",
            "Iteration No: 1 ended. Evaluation done at random point.\n",
            "Time taken: 91.2557\n",
            "Function value obtained: -0.9080\n",
            "Current minimum: -0.9080\n",
            "Iteration No: 2 started. Evaluating function at random point.\n",
            "[50, 'auto', 100, 'gini', 10, 2, True] \n",
            "\n",
            "Iteration No: 2 ended. Evaluation done at random point.\n",
            "Time taken: 18.0680\n",
            "Function value obtained: -0.9072\n",
            "Current minimum: -0.9080\n",
            "Iteration No: 3 started. Evaluating function at random point.\n",
            "[100, 'sqrt', 100, 'gini', 5, 4, False] \n",
            "\n",
            "Iteration No: 3 ended. Evaluation done at random point.\n",
            "Time taken: 48.1109\n",
            "Function value obtained: -0.9074\n",
            "Current minimum: -0.9080\n",
            "Iteration No: 4 started. Evaluating function at random point.\n",
            "[150, 'sqrt', 150, 'gini', 10, 2, True] \n",
            "\n",
            "Iteration No: 4 ended. Evaluation done at random point.\n",
            "Time taken: 63.6190\n",
            "Function value obtained: -0.9076\n",
            "Current minimum: -0.9080\n",
            "Iteration No: 5 started. Evaluating function at random point.\n",
            "[50, 'auto', 100, 'gini', 5, 1, False] \n",
            "\n",
            "Iteration No: 5 ended. Evaluation done at random point.\n",
            "Time taken: 27.7123\n",
            "Function value obtained: -0.9060\n",
            "Current minimum: -0.9080\n",
            "Iteration No: 6 started. Evaluating function at random point.\n",
            "[50, 'auto', 100, 'gini', 10, 2, True] \n",
            "\n",
            "Iteration No: 6 ended. Evaluation done at random point.\n",
            "Time taken: 16.3694\n",
            "Function value obtained: -0.9072\n",
            "Current minimum: -0.9080\n",
            "Iteration No: 7 started. Evaluating function at random point.\n",
            "[50, 'sqrt', 150, 'entropy', 5, 4, True] \n",
            "\n",
            "Iteration No: 7 ended. Evaluation done at random point.\n",
            "Time taken: 19.2802\n",
            "Function value obtained: -0.9062\n",
            "Current minimum: -0.9080\n",
            "Iteration No: 8 started. Evaluating function at random point.\n",
            "[100, 'auto', 150, 'gini', 30, 2, True] \n",
            "\n",
            "Iteration No: 8 ended. Evaluation done at random point.\n",
            "Time taken: 37.9984\n",
            "Function value obtained: -0.9070\n",
            "Current minimum: -0.9080\n",
            "Iteration No: 9 started. Evaluating function at random point.\n",
            "[150, 'auto', 100, 'gini', 5, 2, False] \n",
            "\n",
            "Iteration No: 9 ended. Evaluation done at random point.\n",
            "Time taken: 68.6568\n",
            "Function value obtained: -0.9070\n",
            "Current minimum: -0.9080\n",
            "Iteration No: 10 started. Evaluating function at random point.\n",
            "[150, 'sqrt', 150, 'entropy', 10, 2, True] \n",
            "\n",
            "Iteration No: 10 ended. Evaluation done at random point.\n",
            "Time taken: 47.5803\n",
            "Function value obtained: -0.9073\n",
            "Current minimum: -0.9080\n",
            "Iteration No: 11 started. Evaluating function at random point.\n",
            "[200, 'sqrt', 50, 'entropy', 2, 2, True] \n",
            "\n",
            "Iteration No: 11 ended. Evaluation done at random point.\n",
            "Time taken: 64.9645\n",
            "Function value obtained: -0.9077\n",
            "Current minimum: -0.9080\n",
            "Iteration No: 12 started. Evaluating function at random point.\n",
            "[100, 'auto', 150, 'gini', 50, 1, True] \n",
            "\n",
            "Iteration No: 12 ended. Evaluation done at random point.\n",
            "Time taken: 28.2131\n",
            "Function value obtained: -0.9057\n",
            "Current minimum: -0.9080\n",
            "Iteration No: 13 started. Evaluating function at random point.\n",
            "[200, 'sqrt', None, 'gini', 2, 2, False] \n",
            "\n",
            "Iteration No: 13 ended. Evaluation done at random point.\n",
            "Time taken: 93.7629\n",
            "Function value obtained: -0.9073\n",
            "Current minimum: -0.9080\n",
            "Iteration No: 14 started. Evaluating function at random point.\n",
            "[200, 'sqrt', None, 'entropy', 10, 2, False] \n",
            "\n",
            "Iteration No: 14 ended. Evaluation done at random point.\n",
            "Time taken: 97.1910\n",
            "Function value obtained: -0.9071\n",
            "Current minimum: -0.9080\n",
            "Iteration No: 15 started. Evaluating function at random point.\n",
            "[100, 'auto', 150, 'gini', 5, 2, True] \n",
            "\n",
            "Iteration No: 15 ended. Evaluation done at random point.\n",
            "Time taken: 29.9148\n",
            "Function value obtained: -0.9075\n",
            "Current minimum: -0.9080\n",
            "Iteration No: 16 started. Searching for the next optimal point.\n",
            "[100, 'auto', 100, 'gini', 5, 4, False] \n",
            "\n",
            "Iteration No: 16 ended. Search finished for the next optimal point.\n",
            "Time taken: 44.2493\n",
            "Function value obtained: -0.9074\n",
            "Current minimum: -0.9080\n",
            "Iteration No: 17 started. Searching for the next optimal point.\n",
            "[150, 'sqrt', None, 'gini', 2, 2, False] \n",
            "\n",
            "Iteration No: 17 ended. Search finished for the next optimal point.\n",
            "Time taken: 69.3849\n",
            "Function value obtained: -0.9070\n",
            "Current minimum: -0.9080\n",
            "Iteration No: 18 started. Searching for the next optimal point.\n",
            "[150, 'auto', 100, 'gini', 10, 2, False] \n",
            "\n",
            "Iteration No: 18 ended. Search finished for the next optimal point.\n",
            "Time taken: 68.4885\n",
            "Function value obtained: -0.9080\n",
            "Current minimum: -0.9080\n",
            "Iteration No: 19 started. Searching for the next optimal point.\n",
            "[100, 'auto', None, 'gini', 10, 2, False] \n",
            "\n",
            "Iteration No: 19 ended. Search finished for the next optimal point.\n",
            "Time taken: 45.2488\n",
            "Function value obtained: -0.9076\n",
            "Current minimum: -0.9080\n",
            "Iteration No: 20 started. Searching for the next optimal point.\n",
            "[100, 'auto', 150, 'entropy', 5, 2, True] \n",
            "\n",
            "Iteration No: 20 ended. Search finished for the next optimal point.\n",
            "Time taken: 34.2068\n",
            "Function value obtained: -0.9070\n",
            "Current minimum: -0.9080\n",
            "Iteration No: 21 started. Searching for the next optimal point.\n",
            "[50, 'sqrt', 100, 'entropy', 10, 4, False] \n",
            "\n",
            "Iteration No: 21 ended. Search finished for the next optimal point.\n",
            "Time taken: 24.6914\n",
            "Function value obtained: -0.9075\n",
            "Current minimum: -0.9080\n",
            "Iteration No: 22 started. Searching for the next optimal point.\n",
            "[50, 'sqrt', 100, 'gini', 10, 4, False] \n",
            "\n",
            "Iteration No: 22 ended. Search finished for the next optimal point.\n",
            "Time taken: 22.0302\n",
            "Function value obtained: -0.9074\n",
            "Current minimum: -0.9080\n",
            "Iteration No: 23 started. Searching for the next optimal point.\n",
            "[50, 'sqrt', 50, 'entropy', 50, 4, False] \n",
            "\n",
            "Iteration No: 23 ended. Search finished for the next optimal point.\n",
            "Time taken: 24.0582\n",
            "Function value obtained: -0.9068\n",
            "Current minimum: -0.9080\n",
            "Iteration No: 24 started. Searching for the next optimal point.\n",
            "[150, 'sqrt', 100, 'gini', 30, 4, False] \n",
            "\n",
            "Iteration No: 24 ended. Search finished for the next optimal point.\n",
            "Time taken: 65.2705\n",
            "Function value obtained: -0.9075\n",
            "Current minimum: -0.9080\n",
            "Iteration No: 25 started. Searching for the next optimal point.\n",
            "[150, 'auto', 150, 'entropy', 10, 1, True] \n",
            "\n",
            "Iteration No: 25 ended. Search finished for the next optimal point.\n",
            "Time taken: 48.5147\n",
            "Function value obtained: -0.9074\n",
            "Current minimum: -0.9080\n",
            "Iteration No: 26 started. Searching for the next optimal point.\n",
            "[100, 'auto', 150, 'gini', 50, 2, True] \n",
            "\n",
            "Iteration No: 26 ended. Search finished for the next optimal point.\n",
            "Time taken: 28.5758\n",
            "Function value obtained: -0.9057\n",
            "Current minimum: -0.9080\n",
            "Iteration No: 27 started. Searching for the next optimal point.\n",
            "[200, 'sqrt', None, 'entropy', 30, 1, False] \n",
            "\n",
            "Iteration No: 27 ended. Search finished for the next optimal point.\n",
            "Time taken: 97.5581\n",
            "Function value obtained: -0.9076\n",
            "Current minimum: -0.9080\n",
            "Iteration No: 28 started. Searching for the next optimal point.\n",
            "[100, 'auto', 100, 'entropy', 2, 4, False] \n",
            "\n",
            "Iteration No: 28 ended. Search finished for the next optimal point.\n",
            "Time taken: 49.5946\n",
            "Function value obtained: -0.9070\n",
            "Current minimum: -0.9080\n",
            "Iteration No: 29 started. Searching for the next optimal point.\n",
            "[50, 'auto', 50, 'entropy', 30, 4, True] \n",
            "\n",
            "Iteration No: 29 ended. Search finished for the next optimal point.\n",
            "Time taken: 15.9431\n",
            "Function value obtained: -0.9062\n",
            "Current minimum: -0.9080\n",
            "Iteration No: 30 started. Searching for the next optimal point.\n",
            "[50, 'auto', 50, 'gini', 2, 4, True] \n",
            "\n",
            "Iteration No: 30 ended. Search finished for the next optimal point.\n",
            "Time taken: 15.0927\n",
            "Function value obtained: -0.9068\n",
            "Current minimum: -0.9080\n",
            "CPU times: user 1min 48s, sys: 13.2 s, total: 2min 1s\n",
            "Wall time: 23min 25s\n"
          ]
        }
      ]
    },
    {
      "cell_type": "code",
      "source": [
        "# Retorna o melhor hiperparametro\n",
        "# Em ordem: n_estimators, max_features, max_depth, criterion, min_samples_split, min_samples_leaf, bootstrap\n",
        "resultado_rf.x"
      ],
      "metadata": {
        "colab": {
          "base_uri": "https://localhost:8080/"
        },
        "id": "YBaTdzmYOyiH",
        "outputId": "45d0a5a2-d862-4335-cbe8-4b409a126b69"
      },
      "execution_count": 25,
      "outputs": [
        {
          "output_type": "execute_result",
          "data": {
            "text/plain": [
              "[150, 'sqrt', None, 'gini', 10, 2, False]"
            ]
          },
          "metadata": {},
          "execution_count": 25
        }
      ]
    },
    {
      "cell_type": "code",
      "source": [
        "from skopt.plots import plot_convergence\n",
        "plot_convergence(resultado_rf)"
      ],
      "metadata": {
        "colab": {
          "base_uri": "https://localhost:8080/",
          "height": 314
        },
        "id": "-Sca-2LNOy-B",
        "outputId": "c9e0fce9-c026-494a-8836-d6c6d1263df8"
      },
      "execution_count": 26,
      "outputs": [
        {
          "output_type": "execute_result",
          "data": {
            "text/plain": [
              "<matplotlib.axes._subplots.AxesSubplot at 0x7f5083f64370>"
            ]
          },
          "metadata": {},
          "execution_count": 26
        },
        {
          "output_type": "display_data",
          "data": {
            "text/plain": [
              "<Figure size 432x288 with 1 Axes>"
            ],
            "image/png": "[encoded data removed]"
          },
          "metadata": {
            "needs_background": "light"
          }
        }
      ]
    },
    {
      "cell_type": "code",
      "source": [
        "# Inserir manualmente os melhores hiperparametros\n",
        "%%time\n",
        "rf_model = RandomForestClassifier(n_estimators=150, max_features='sqrt', max_depth=None, criterion='gini',\n",
        "                                  min_samples_split=10, min_samples_leaf=2 , bootstrap=False, random_state=0, n_jobs=-1)\n",
        "rf_model.fit(X_train, y_train)\n",
        "preds = rf_model.predict(X_test)"
      ],
      "metadata": {
        "colab": {
          "base_uri": "https://localhost:8080/"
        },
        "id": "kVtGdTctO2VD",
        "outputId": "7a03d534-16c1-418a-8c24-e792e36d369a"
      },
      "execution_count": 27,
      "outputs": [
        {
          "output_type": "stream",
          "name": "stdout",
          "text": [
            "CPU times: user 58.6 s, sys: 43.9 ms, total: 58.6 s\n",
            "Wall time: 35.1 s\n"
          ]
        }
      ]
    },
    {
      "cell_type": "code",
      "source": [
        "# Retorna a acurácia\n",
        "accuracy_score(y_test, preds)*100"
      ],
      "metadata": {
        "colab": {
          "base_uri": "https://localhost:8080/"
        },
        "id": "07OOXZnnO3vZ",
        "outputId": "1169c0f3-0a18-4254-b813-1a82db8903f5"
      },
      "execution_count": 28,
      "outputs": [
        {
          "output_type": "execute_result",
          "data": {
            "text/plain": [
              "91.17965023847377"
            ]
          },
          "metadata": {},
          "execution_count": 28
        }
      ]
    },
    {
      "cell_type": "code",
      "source": [
        "# Retorna a tabela com alguns resultados\n",
        "# digits= define quantidade de casas após a virgula\n",
        "print(classification_report(y_test, preds, digits=4))"
      ],
      "metadata": {
        "colab": {
          "base_uri": "https://localhost:8080/"
        },
        "id": "SxE0rrckO5qY",
        "outputId": "9ac6a2ab-c340-4428-b8aa-e3d8f94ce291"
      },
      "execution_count": 29,
      "outputs": [
        {
          "output_type": "stream",
          "name": "stdout",
          "text": [
            "              precision    recall  f1-score   support\n",
            "\n",
            "           1     0.8561    0.8785    0.8671      5152\n",
            "           2     0.9400    0.9280    0.9340     10573\n",
            "\n",
            "    accuracy                         0.9118     15725\n",
            "   macro avg     0.8980    0.9033    0.9006     15725\n",
            "weighted avg     0.9125    0.9118    0.9121     15725\n",
            "\n"
          ]
        }
      ]
    },
    {
      "cell_type": "code",
      "source": [
        "imprimeMatrizDeConfusão(y_test, preds, rf_model)"
      ],
      "metadata": {
        "colab": {
          "base_uri": "https://localhost:8080/",
          "height": 296
        },
        "id": "xl9_J9WLO7oO",
        "outputId": "edd69a12-e928-406c-8071-223e026d3b09"
      },
      "execution_count": 30,
      "outputs": [
        {
          "output_type": "display_data",
          "data": {
            "text/plain": [
              "<Figure size 432x288 with 1 Axes>"
            ],
            "image/png": "[encoded data removed]"
          },
          "metadata": {
            "needs_background": "light"
          }
        }
      ]
    },
    {
      "cell_type": "markdown",
      "source": [
        "⏰ **Leitura dos dados - 2 segundo**"
      ],
      "metadata": {
        "id": "2ovYlrHSPIby"
      }
    },
    {
      "cell_type": "code",
      "source": [
        "# Leitura e amostra da tabela\n",
        "df = pd.read_csv('Tabela2s.csv', delimiter = ';')\n",
        "df.head()"
      ],
      "metadata": {
        "colab": {
          "base_uri": "https://localhost:8080/",
          "height": 206
        },
        "id": "2wnIN6D3PNNJ",
        "outputId": "72fd7d5a-95dd-480a-ba6a-ef7bb520a75c"
      },
      "execution_count": 32,
      "outputs": [
        {
          "output_type": "execute_result",
          "data": {
            "text/plain": [
              "         Data      Hora     ax    ay     az    gx    gy    gz  Comportamento\n",
              "0  27/01/2023  04:45:00  11669  5323   6348  1695  2941 -2270              1\n",
              "1  27/01/2023  04:45:02  10120  6610  10145 -2487   185  1868              1\n",
              "2  27/01/2023  04:45:04  13537  3296   7080  1245 -2580   571              1\n",
              "3  27/01/2023  04:45:06  13314  1680   7984  -576  -272   155              1\n",
              "4  27/01/2023  04:45:08  13757   647   6779  -318  1201  -472              1"
            ],
            "text/html": [
              "\n",
              "  <div id=\"df-3b21efce-11d1-49c3-8813-2cd7fa952bc9\">\n",
              "    <div class=\"colab-df-container\">\n",
              "      <div>\n",
              "<style scoped>\n",
              "    .dataframe tbody tr th:only-of-type {\n",
              "        vertical-align: middle;\n",
              "    }\n",
              "\n",
              "    .dataframe tbody tr th {\n",
              "        vertical-align: top;\n",
              "    }\n",
              "\n",
              "    .dataframe thead th {\n",
              "        text-align: right;\n",
              "    }\n",
              "</style>\n",
              "<table border=\"1\" class=\"dataframe\">\n",
              "  <thead>\n",
              "    <tr style=\"text-align: right;\">\n",
              "      <th></th>\n",
              "      <th>Data</th>\n",
              "      <th>Hora</th>\n",
              "      <th>ax</th>\n",
              "      <th>ay</th>\n",
              "      <th>az</th>\n",
              "      <th>gx</th>\n",
              "      <th>gy</th>\n",
              "      <th>gz</th>\n",
              "      <th>Comportamento</th>\n",
              "    </tr>\n",
              "  </thead>\n",
              "  <tbody>\n",
              "    <tr>\n",
              "      <th>0</th>\n",
              "      <td>27/01/2023</td>\n",
              "      <td>04:45:00</td>\n",
              "      <td>11669</td>\n",
              "      <td>5323</td>\n",
              "      <td>6348</td>\n",
              "      <td>1695</td>\n",
              "      <td>2941</td>\n",
              "      <td>-2270</td>\n",
              "      <td>1</td>\n",
              "    </tr>\n",
              "    <tr>\n",
              "      <th>1</th>\n",
              "      <td>27/01/2023</td>\n",
              "      <td>04:45:02</td>\n",
              "      <td>10120</td>\n",
              "      <td>6610</td>\n",
              "      <td>10145</td>\n",
              "      <td>-2487</td>\n",
              "      <td>185</td>\n",
              "      <td>1868</td>\n",
              "      <td>1</td>\n",
              "    </tr>\n",
              "    <tr>\n",
              "      <th>2</th>\n",
              "      <td>27/01/2023</td>\n",
              "      <td>04:45:04</td>\n",
              "      <td>13537</td>\n",
              "      <td>3296</td>\n",
              "      <td>7080</td>\n",
              "      <td>1245</td>\n",
              "      <td>-2580</td>\n",
              "      <td>571</td>\n",
              "      <td>1</td>\n",
              "    </tr>\n",
              "    <tr>\n",
              "      <th>3</th>\n",
              "      <td>27/01/2023</td>\n",
              "      <td>04:45:06</td>\n",
              "      <td>13314</td>\n",
              "      <td>1680</td>\n",
              "      <td>7984</td>\n",
              "      <td>-576</td>\n",
              "      <td>-272</td>\n",
              "      <td>155</td>\n",
              "      <td>1</td>\n",
              "    </tr>\n",
              "    <tr>\n",
              "      <th>4</th>\n",
              "      <td>27/01/2023</td>\n",
              "      <td>04:45:08</td>\n",
              "      <td>13757</td>\n",
              "      <td>647</td>\n",
              "      <td>6779</td>\n",
              "      <td>-318</td>\n",
              "      <td>1201</td>\n",
              "      <td>-472</td>\n",
              "      <td>1</td>\n",
              "    </tr>\n",
              "  </tbody>\n",
              "</table>\n",
              "</div>\n",
              "      <button class=\"colab-df-convert\" onclick=\"convertToInteractive('df-3b21efce-11d1-49c3-8813-2cd7fa952bc9')\"\n",
              "              title=\"Convert this dataframe to an interactive table.\"\n",
              "              style=\"display:none;\">\n",
              "        \n",
              "  <svg xmlns=\"http://www.w3.org/2000/svg\" height=\"24px\"viewBox=\"0 0 24 24\"\n",
              "       width=\"24px\">\n",
              "    <path d=\"M0 0h24v24H0V0z\" fill=\"none\"/>\n",
              "    <path d=\"M18.56 5.44l.94 2.06.94-2.06 2.06-.94-2.06-.94-.94-2.06-.94 2.06-2.06.94zm-11 1L8.5 8.5l.94-2.06 2.06-.94-2.06-.94L8.5 2.5l-.94 2.06-2.06.94zm10 10l.94 2.06.94-2.06 2.06-.94-2.06-.94-.94-2.06-.94 2.06-2.06.94z\"/><path d=\"M17.41 7.96l-1.37-1.37c-.4-.4-.92-.59-1.43-.59-.52 0-1.04.2-1.43.59L10.3 9.45l-7.72 7.72c-.78.78-.78 2.05 0 2.83L4 21.41c.39.39.9.59 1.41.59.51 0 1.02-.2 1.41-.59l7.78-7.78 2.81-2.81c.8-.78.8-2.07 0-2.86zM5.41 20L4 18.59l7.72-7.72 1.47 1.35L5.41 20z\"/>\n",
              "  </svg>\n",
              "      </button>\n",
              "      \n",
              "  <style>\n",
              "    .colab-df-container {\n",
              "      display:flex;\n",
              "      flex-wrap:wrap;\n",
              "      gap: 12px;\n",
              "    }\n",
              "\n",
              "    .colab-df-convert {\n",
              "      background-color: #E8F0FE;\n",
              "      border: none;\n",
              "      border-radius: 50%;\n",
              "      cursor: pointer;\n",
              "      display: none;\n",
              "      fill: #1967D2;\n",
              "      height: 32px;\n",
              "      padding: 0 0 0 0;\n",
              "      width: 32px;\n",
              "    }\n",
              "\n",
              "    .colab-df-convert:hover {\n",
              "      background-color: #E2EBFA;\n",
              "      box-shadow: 0px 1px 2px rgba(60, 64, 67, 0.3), 0px 1px 3px 1px rgba(60, 64, 67, 0.15);\n",
              "      fill: #174EA6;\n",
              "    }\n",
              "\n",
              "    [theme=dark] .colab-df-convert {\n",
              "      background-color: #3B4455;\n",
              "      fill: #D2E3FC;\n",
              "    }\n",
              "\n",
              "    [theme=dark] .colab-df-convert:hover {\n",
              "      background-color: #434B5C;\n",
              "      box-shadow: 0px 1px 3px 1px rgba(0, 0, 0, 0.15);\n",
              "      filter: drop-shadow(0px 1px 2px rgba(0, 0, 0, 0.3));\n",
              "      fill: #FFFFFF;\n",
              "    }\n",
              "  </style>\n",
              "\n",
              "      <script>\n",
              "        const buttonEl =\n",
              "          document.querySelector('#df-3b21efce-11d1-49c3-8813-2cd7fa952bc9 button.colab-df-convert');\n",
              "        buttonEl.style.display =\n",
              "          google.colab.kernel.accessAllowed ? 'block' : 'none';\n",
              "\n",
              "        async function convertToInteractive(key) {\n",
              "          const element = document.querySelector('#df-3b21efce-11d1-49c3-8813-2cd7fa952bc9');\n",
              "          const dataTable =\n",
              "            await google.colab.kernel.invokeFunction('convertToInteractive',\n",
              "                                                     [key], {});\n",
              "          if (!dataTable) return;\n",
              "\n",
              "          const docLinkHtml = 'Like what you see? Visit the ' +\n",
              "            '<a target=\"_blank\" href=https://colab.research.google.com/notebooks/data_table.ipynb>data table notebook</a>'\n",
              "            + ' to learn more about interactive tables.';\n",
              "          element.innerHTML = '';\n",
              "          dataTable['output_type'] = 'display_data';\n",
              "          await google.colab.output.renderOutput(dataTable, element);\n",
              "          const docLink = document.createElement('div');\n",
              "          docLink.innerHTML = docLinkHtml;\n",
              "          element.appendChild(docLink);\n",
              "        }\n",
              "      </script>\n",
              "    </div>\n",
              "  </div>\n",
              "  "
            ]
          },
          "metadata": {},
          "execution_count": 32
        }
      ]
    },
    {
      "cell_type": "code",
      "source": [
        "# Exibe os tipos presentes na tabela\n",
        "df.dtypes"
      ],
      "metadata": {
        "colab": {
          "base_uri": "https://localhost:8080/"
        },
        "id": "w_yf8iEyPVyO",
        "outputId": "7330590e-9878-49a0-dfac-0ae8c438b8fb"
      },
      "execution_count": 33,
      "outputs": [
        {
          "output_type": "execute_result",
          "data": {
            "text/plain": [
              "Data             object\n",
              "Hora             object\n",
              "ax                int64\n",
              "ay                int64\n",
              "az                int64\n",
              "gx                int64\n",
              "gy                int64\n",
              "gz                int64\n",
              "Comportamento     int64\n",
              "dtype: object"
            ]
          },
          "metadata": {},
          "execution_count": 33
        }
      ]
    },
    {
      "cell_type": "code",
      "source": [
        "# Imports\n",
        "from sklearn.model_selection import train_test_split\n",
        "from sklearn.metrics import accuracy_score, confusion_matrix, classification_report\n",
        "from sklearn.model_selection import cross_val_score\n",
        "from sklearn.model_selection import RandomizedSearchCV\n",
        "from skopt import gp_minimize"
      ],
      "metadata": {
        "id": "4BmfIszvPZPg"
      },
      "execution_count": 34,
      "outputs": []
    },
    {
      "cell_type": "code",
      "source": [
        "# Exibe as colunas existentes\n",
        "df.columns"
      ],
      "metadata": {
        "colab": {
          "base_uri": "https://localhost:8080/"
        },
        "id": "mzLH9NZlPalV",
        "outputId": "74dd93a6-35f2-4ebf-ef76-d0411c504aac"
      },
      "execution_count": 35,
      "outputs": [
        {
          "output_type": "execute_result",
          "data": {
            "text/plain": [
              "Index(['Data', 'Hora', 'ax', 'ay', 'az', 'gx', 'gy', 'gz', 'Comportamento'], dtype='object')"
            ]
          },
          "metadata": {},
          "execution_count": 35
        }
      ]
    },
    {
      "cell_type": "code",
      "source": [
        "# Lista com os atributos aplicáveis - colunas\n",
        "features_aplicaveis = ['ax', 'ay' ,'az', 'gx', 'gy', 'gz', 'Comportamento']"
      ],
      "metadata": {
        "id": "DY2eR7QtPb9l"
      },
      "execution_count": 36,
      "outputs": []
    },
    {
      "cell_type": "code",
      "source": [
        "# Seleciona os abributos correspondentes da lista features_aplicaveis\n",
        "df = df[features_aplicaveis]"
      ],
      "metadata": {
        "id": "bJHeB4c8Pdmx"
      },
      "execution_count": 37,
      "outputs": []
    },
    {
      "cell_type": "code",
      "source": [
        "def imprimir_quantidade_dados(X_train, X_test):\n",
        "    print(10*\"-\",\" Quantidade de dados \",  10*\"-\")\n",
        "    \n",
        "    print('Treino: ', X_train.shape[0])\n",
        "    print('Teste: ', X_test.shape[0])\n",
        "    \n",
        "    print(43*\"-\")"
      ],
      "metadata": {
        "id": "7XvhCiKdPe-D"
      },
      "execution_count": 38,
      "outputs": []
    },
    {
      "cell_type": "code",
      "source": [
        "y = df.Comportamento\n",
        "X = df.drop('Comportamento', axis=1)\n",
        "\n",
        "# Conjunto de dados PRO: Pastejando x Ruminando x Ócio\n",
        "X_train, X_test, y_train, y_test = train_test_split(X, y, train_size=0.8, random_state = 0, stratify=y)"
      ],
      "metadata": {
        "id": "tEEZfj9jPgb2"
      },
      "execution_count": 39,
      "outputs": []
    },
    {
      "cell_type": "code",
      "source": [
        "imprimir_quantidade_dados(X_train, X_test)"
      ],
      "metadata": {
        "colab": {
          "base_uri": "https://localhost:8080/"
        },
        "id": "4CWNDrdRPgzg",
        "outputId": "db3e7b94-8af0-46b5-cc6c-c09eb92301af"
      },
      "execution_count": 40,
      "outputs": [
        {
          "output_type": "stream",
          "name": "stdout",
          "text": [
            "----------  Quantidade de dados  ----------\n",
            "Treino:  31436\n",
            "Teste:  7860\n",
            "-------------------------------------------\n"
          ]
        }
      ]
    },
    {
      "cell_type": "code",
      "source": [
        "# Função para imprimir e salvar matriz de confusão\n",
        "def imprimeMatrizDeConfusão(y_test, preds, model, salvarFigura = False):\n",
        "    from sklearn.metrics import confusion_matrix\n",
        "    from sklearn.metrics import ConfusionMatrixDisplay\n",
        "    import matplotlib.pyplot as plt\n",
        "\n",
        "    cm = confusion_matrix(y_test, preds, normalize='true')\n",
        "    disp = ConfusionMatrixDisplay(confusion_matrix=cm, display_labels=model.classes_)\n",
        "    disp.plot(values_format= '.2%', xticks_rotation=60, colorbar=False)\n",
        "    disp.ax_.set_title(\"Matriz de confusão normalizada sobre as condições verdadeiras\")\n",
        "    if(salvarFigura):\n",
        "        plt.savefig(input('Nome da figura a ser salva:' ) + '.png')\n",
        "    plt.show()"
      ],
      "metadata": {
        "id": "UjRY2mMsPjeA"
      },
      "execution_count": 41,
      "outputs": []
    },
    {
      "cell_type": "code",
      "source": [
        "from sklearn.metrics import classification_report\n",
        "\n",
        "def classification_report_extendido(y_true: np.array, y_pred: np.array, classes: set = None):\n",
        "    report = classification_report(y_true, y_pred, output_dict=True, zero_division=0)\n",
        "    \n",
        "    if classes is None: # Determina classes pelos valores\n",
        "        classes = set(np.concatenate((np.unique(y_true), np.unique(y_pred))))\n",
        "    for cls in classes:\n",
        "        y_true_cls = (y_true == cls).astype(int)\n",
        "        y_pred_cls = (y_pred == cls).astype(int)\n",
        "\n",
        "        fp = sum(y_pred_cls[y_true_cls != 1])\n",
        "        tn = sum(y_pred_cls[y_true_cls == 0] == False)\n",
        "        fn = sum(y_pred_cls[y_true_cls == 1] == False)\n",
        "\n",
        "        \n",
        "        specificity_val = tn / (tn + fp)\n",
        "        report[cls]['specificity'] = specificity_val\n",
        "        npv_val = tn / (tn + fn)\n",
        "        report[cls]['npv'] = npv_val\n",
        "        \n",
        "    return report"
      ],
      "metadata": {
        "id": "6cyGFqqqPlSf"
      },
      "execution_count": 42,
      "outputs": []
    },
    {
      "cell_type": "code",
      "source": [
        "# imports\n",
        "from sklearn.ensemble import RandomForestClassifier"
      ],
      "metadata": {
        "id": "9FZfzU_4Pn7h"
      },
      "execution_count": 43,
      "outputs": []
    },
    {
      "cell_type": "code",
      "source": [
        "rf_Model = RandomForestClassifier(random_state=0, n_jobs=-1)"
      ],
      "metadata": {
        "id": "vLBSXKwJPpIo"
      },
      "execution_count": 44,
      "outputs": []
    },
    {
      "cell_type": "code",
      "source": [
        "# criação de um grid\n",
        "rf_param_grid = {'n_estimators':  np.arange(50, 250, 50),\n",
        "               'max_features': ['auto', 'sqrt'],\n",
        "               'max_depth':[50, 100, 150, None],\n",
        "               'criterion': ['gini', 'entropy'],\n",
        "               'min_samples_split': [2, 5, 10, 30, 50],\n",
        "               'min_samples_leaf': [1, 2],\n",
        "               'bootstrap': [True, False]}"
      ],
      "metadata": {
        "id": "9ja4bKg_PqO5"
      },
      "execution_count": 45,
      "outputs": []
    },
    {
      "cell_type": "code",
      "source": [
        "rf_RandomGrid = RandomizedSearchCV(estimator = rf_Model, param_distributions = rf_param_grid, cv = 3, verbose=1, random_state=0)"
      ],
      "metadata": {
        "id": "1RLRq3eJPsIs"
      },
      "execution_count": 46,
      "outputs": []
    },
    {
      "cell_type": "code",
      "source": [
        "def tune_rf(params):\n",
        "    n_estimators = params[0]\n",
        "    max_features = params[1]\n",
        "    max_depth = params[2]\n",
        "    criterion = params[3]\n",
        "    min_samples_split = params[4]\n",
        "    min_samples_leaf = params[5]\n",
        "    bootstrap = params[6]\n",
        "    \n",
        "    print(params, '\\n')\n",
        "    \n",
        "    rf_Model = RandomForestClassifier(n_estimators=n_estimators, max_features=max_features, max_depth=max_depth, criterion=criterion, min_samples_split=min_samples_split,\n",
        "                                       min_samples_leaf = min_samples_leaf, bootstrap=bootstrap, random_state=0, n_jobs=-1)\n",
        "    \n",
        "    auc = cross_val_score(rf_Model, X_train, y_train, cv=3, scoring ='accuracy')\n",
        "    \n",
        "    return -auc.mean()\n",
        "\n",
        "space = [ np.arange(50, 250, 50), # n_estimators\n",
        "         ['auto', 'sqrt'], # max_features\n",
        "         [50, 100, 150, None], # max_depth\n",
        "         ['gini', 'entropy'], # criterion\n",
        "         [2, 5, 10, 30, 50], # min_samples_split\n",
        "         [1,2,4], # min_samples_leaf\n",
        "         [True, False]] # bootstrap] "
      ],
      "metadata": {
        "id": "WE_H60XEPv2s"
      },
      "execution_count": 47,
      "outputs": []
    },
    {
      "cell_type": "code",
      "source": [
        "%%time\n",
        "from skopt import forest_minimize\n",
        "resultado_rf = gp_minimize(tune_rf, space, random_state=0, verbose=1, n_calls=30, n_random_starts=15, n_jobs=-1)"
      ],
      "metadata": {
        "colab": {
          "base_uri": "https://localhost:8080/"
        },
        "id": "fLPq0TevPxzu",
        "outputId": "d1489095-0817-4918-93a8-617a58dcc270"
      },
      "execution_count": 48,
      "outputs": [
        {
          "output_type": "stream",
          "name": "stdout",
          "text": [
            "Iteration No: 1 started. Evaluating function at random point.\n",
            "[150, 'sqrt', None, 'gini', 10, 2, False] \n",
            "\n",
            "Iteration No: 1 ended. Evaluation done at random point.\n",
            "Time taken: 31.4201\n",
            "Function value obtained: -0.9063\n",
            "Current minimum: -0.9063\n",
            "Iteration No: 2 started. Evaluating function at random point.\n",
            "[50, 'auto', 100, 'gini', 10, 2, True] \n",
            "\n",
            "Iteration No: 2 ended. Evaluation done at random point.\n",
            "Time taken: 6.7231\n",
            "Function value obtained: -0.9056\n",
            "Current minimum: -0.9063\n",
            "Iteration No: 3 started. Evaluating function at random point.\n",
            "[100, 'sqrt', 100, 'gini', 5, 4, False] \n",
            "\n",
            "Iteration No: 3 ended. Evaluation done at random point.\n",
            "Time taken: 19.3941\n",
            "Function value obtained: -0.9052\n",
            "Current minimum: -0.9063\n",
            "Iteration No: 4 started. Evaluating function at random point.\n",
            "[150, 'sqrt', 150, 'gini', 10, 2, True] \n",
            "\n",
            "Iteration No: 4 ended. Evaluation done at random point.\n",
            "Time taken: 19.3289\n",
            "Function value obtained: -0.9061\n",
            "Current minimum: -0.9063\n",
            "Iteration No: 5 started. Evaluating function at random point.\n",
            "[50, 'auto', 100, 'gini', 5, 1, False] \n",
            "\n",
            "Iteration No: 5 ended. Evaluation done at random point.\n",
            "Time taken: 10.9081\n",
            "Function value obtained: -0.9045\n",
            "Current minimum: -0.9063\n",
            "Iteration No: 6 started. Evaluating function at random point.\n",
            "[50, 'auto', 100, 'gini', 10, 2, True] \n",
            "\n",
            "Iteration No: 6 ended. Evaluation done at random point.\n",
            "Time taken: 7.2855\n",
            "Function value obtained: -0.9056\n",
            "Current minimum: -0.9063\n",
            "Iteration No: 7 started. Evaluating function at random point.\n",
            "[50, 'sqrt', 150, 'entropy', 5, 4, True] \n",
            "\n",
            "Iteration No: 7 ended. Evaluation done at random point.\n",
            "Time taken: 6.6224\n",
            "Function value obtained: -0.9050\n",
            "Current minimum: -0.9063\n",
            "Iteration No: 8 started. Evaluating function at random point.\n",
            "[100, 'auto', 150, 'gini', 30, 2, True] \n",
            "\n",
            "Iteration No: 8 ended. Evaluation done at random point.\n",
            "Time taken: 12.8300\n",
            "Function value obtained: -0.9047\n",
            "Current minimum: -0.9063\n",
            "Iteration No: 9 started. Evaluating function at random point.\n",
            "[150, 'auto', 100, 'gini', 5, 2, False] \n",
            "\n",
            "Iteration No: 9 ended. Evaluation done at random point.\n",
            "Time taken: 30.5228\n",
            "Function value obtained: -0.9050\n",
            "Current minimum: -0.9063\n",
            "Iteration No: 10 started. Evaluating function at random point.\n",
            "[150, 'sqrt', 150, 'entropy', 10, 2, True] \n",
            "\n",
            "Iteration No: 10 ended. Evaluation done at random point.\n",
            "Time taken: 22.8182\n",
            "Function value obtained: -0.9058\n",
            "Current minimum: -0.9063\n",
            "Iteration No: 11 started. Evaluating function at random point.\n",
            "[200, 'sqrt', 50, 'entropy', 2, 2, True] \n",
            "\n",
            "Iteration No: 11 ended. Evaluation done at random point.\n",
            "Time taken: 29.9237\n",
            "Function value obtained: -0.9062\n",
            "Current minimum: -0.9063\n",
            "Iteration No: 12 started. Evaluating function at random point.\n",
            "[100, 'auto', 150, 'gini', 50, 1, True] \n",
            "\n",
            "Iteration No: 12 ended. Evaluation done at random point.\n",
            "Time taken: 12.9336\n",
            "Function value obtained: -0.9028\n",
            "Current minimum: -0.9063\n",
            "Iteration No: 13 started. Evaluating function at random point.\n",
            "[200, 'sqrt', None, 'gini', 2, 2, False] \n",
            "\n",
            "Iteration No: 13 ended. Evaluation done at random point.\n",
            "Time taken: 40.5395\n",
            "Function value obtained: -0.9054\n",
            "Current minimum: -0.9063\n",
            "Iteration No: 14 started. Evaluating function at random point.\n",
            "[200, 'sqrt', None, 'entropy', 10, 2, False] \n",
            "\n",
            "Iteration No: 14 ended. Evaluation done at random point.\n",
            "Time taken: 44.3027\n",
            "Function value obtained: -0.9058\n",
            "Current minimum: -0.9063\n",
            "Iteration No: 15 started. Evaluating function at random point.\n",
            "[100, 'auto', 150, 'gini', 5, 2, True] \n",
            "\n",
            "Iteration No: 15 ended. Evaluation done at random point.\n",
            "Time taken: 14.2926\n",
            "Function value obtained: -0.9057\n",
            "Current minimum: -0.9063\n",
            "Iteration No: 16 started. Searching for the next optimal point.\n",
            "[150, 'auto', 50, 'entropy', 50, 4, False] \n",
            "\n",
            "Iteration No: 16 ended. Search finished for the next optimal point.\n",
            "Time taken: 31.3808\n",
            "Function value obtained: -0.9040\n",
            "Current minimum: -0.9063\n",
            "Iteration No: 17 started. Searching for the next optimal point.\n",
            "[150, 'sqrt', 50, 'gini', 10, 4, False] \n",
            "\n",
            "Iteration No: 17 ended. Search finished for the next optimal point.\n",
            "Time taken: 30.3900\n",
            "Function value obtained: -0.9065\n",
            "Current minimum: -0.9065\n",
            "Iteration No: 18 started. Searching for the next optimal point.\n",
            "[150, 'auto', 150, 'entropy', 2, 4, False] \n",
            "\n",
            "Iteration No: 18 ended. Search finished for the next optimal point.\n",
            "Time taken: 33.6282\n",
            "Function value obtained: -0.9053\n",
            "Current minimum: -0.9065\n",
            "Iteration No: 19 started. Searching for the next optimal point.\n",
            "[150, 'sqrt', 100, 'entropy', 30, 2, True] \n",
            "\n",
            "Iteration No: 19 ended. Search finished for the next optimal point.\n",
            "Time taken: 22.0475\n",
            "Function value obtained: -0.9046\n",
            "Current minimum: -0.9065\n",
            "Iteration No: 20 started. Searching for the next optimal point.\n",
            "[200, 'sqrt', 50, 'gini', 30, 4, False] \n",
            "\n",
            "Iteration No: 20 ended. Search finished for the next optimal point.\n",
            "Time taken: 37.9346\n",
            "Function value obtained: -0.9055\n",
            "Current minimum: -0.9065\n",
            "Iteration No: 21 started. Searching for the next optimal point.\n",
            "[100, 'auto', 100, 'gini', 2, 1, True] \n",
            "\n",
            "Iteration No: 21 ended. Search finished for the next optimal point.\n",
            "Time taken: 14.3177\n",
            "Function value obtained: -0.9059\n",
            "Current minimum: -0.9065\n",
            "Iteration No: 22 started. Searching for the next optimal point.\n",
            "[200, 'sqrt', 100, 'gini', 50, 4, False] \n",
            "\n",
            "Iteration No: 22 ended. Search finished for the next optimal point.\n",
            "Time taken: 38.3475\n",
            "Function value obtained: -0.9038\n",
            "Current minimum: -0.9065\n",
            "Iteration No: 23 started. Searching for the next optimal point.\n",
            "[100, 'sqrt', 150, 'gini', 10, 4, False] \n",
            "\n",
            "Iteration No: 23 ended. Search finished for the next optimal point.\n",
            "Time taken: 20.0904\n",
            "Function value obtained: -0.9064\n",
            "Current minimum: -0.9065\n",
            "Iteration No: 24 started. Searching for the next optimal point.\n",
            "[150, 'auto', 100, 'entropy', 30, 1, False] \n",
            "\n",
            "Iteration No: 24 ended. Search finished for the next optimal point.\n",
            "Time taken: 34.3512\n",
            "Function value obtained: -0.9056\n",
            "Current minimum: -0.9065\n",
            "Iteration No: 25 started. Searching for the next optimal point.\n",
            "[150, 'sqrt', 50, 'entropy', 50, 2, True] \n",
            "\n",
            "Iteration No: 25 ended. Search finished for the next optimal point.\n",
            "Time taken: 21.8852\n",
            "Function value obtained: -0.9030\n",
            "Current minimum: -0.9065\n",
            "Iteration No: 26 started. Searching for the next optimal point.\n",
            "[50, 'sqrt', 150, 'gini', 2, 4, True] \n",
            "\n",
            "Iteration No: 26 ended. Search finished for the next optimal point.\n",
            "Time taken: 6.8693\n",
            "Function value obtained: -0.9055\n",
            "Current minimum: -0.9065\n",
            "Iteration No: 27 started. Searching for the next optimal point.\n",
            "[50, 'sqrt', None, 'entropy', 30, 2, False] \n",
            "\n",
            "Iteration No: 27 ended. Search finished for the next optimal point.\n",
            "Time taken: 12.1842\n",
            "Function value obtained: -0.9053\n",
            "Current minimum: -0.9065\n",
            "Iteration No: 28 started. Searching for the next optimal point.\n",
            "[200, 'sqrt', 50, 'entropy', 5, 1, True] \n",
            "\n",
            "Iteration No: 28 ended. Search finished for the next optimal point.\n",
            "Time taken: 30.5702\n",
            "Function value obtained: -0.9064\n",
            "Current minimum: -0.9065\n",
            "Iteration No: 29 started. Searching for the next optimal point.\n",
            "[200, 'auto', 150, 'entropy', 5, 2, False] \n",
            "\n",
            "Iteration No: 29 ended. Search finished for the next optimal point.\n",
            "Time taken: 48.8188\n",
            "Function value obtained: -0.9055\n",
            "Current minimum: -0.9065\n",
            "Iteration No: 30 started. Searching for the next optimal point.\n",
            "[100, 'auto', 50, 'gini', 10, 1, False] \n",
            "\n",
            "Iteration No: 30 ended. Search finished for the next optimal point.\n",
            "Time taken: 20.7270\n",
            "Function value obtained: -0.9061\n",
            "Current minimum: -0.9065\n",
            "CPU times: user 1min 12s, sys: 8.78 s, total: 1min 20s\n",
            "Wall time: 11min 53s\n"
          ]
        }
      ]
    },
    {
      "cell_type": "code",
      "source": [
        "# Retorna o melhor hiperparametro\n",
        "# Em ordem: n_estimators, max_features, max_depth, criterion, min_samples_split, min_samples_leaf, bootstrap\n",
        "resultado_rf.x"
      ],
      "metadata": {
        "colab": {
          "base_uri": "https://localhost:8080/"
        },
        "id": "BWaFlIVKPzc3",
        "outputId": "ff7d6b5f-28c0-44b4-83be-6010fcea4a3e"
      },
      "execution_count": 49,
      "outputs": [
        {
          "output_type": "execute_result",
          "data": {
            "text/plain": [
              "[150, 'sqrt', 50, 'gini', 10, 4, False]"
            ]
          },
          "metadata": {},
          "execution_count": 49
        }
      ]
    },
    {
      "cell_type": "code",
      "source": [
        "from skopt.plots import plot_convergence\n",
        "plot_convergence(resultado_rf)"
      ],
      "metadata": {
        "colab": {
          "base_uri": "https://localhost:8080/",
          "height": 314
        },
        "id": "VPbcN5f8P0zv",
        "outputId": "c8330fb8-21f8-4e74-ed67-84441d170f77"
      },
      "execution_count": 50,
      "outputs": [
        {
          "output_type": "execute_result",
          "data": {
            "text/plain": [
              "<matplotlib.axes._subplots.AxesSubplot at 0x7f5083bc20d0>"
            ]
          },
          "metadata": {},
          "execution_count": 50
        },
        {
          "output_type": "display_data",
          "data": {
            "text/plain": [
              "<Figure size 432x288 with 1 Axes>"
            ],
            "image/png": "[encoded data removed]"
          },
          "metadata": {
            "needs_background": "light"
          }
        }
      ]
    },
    {
      "cell_type": "code",
      "source": [
        "# Inserir manualmente os melhores hiperparametros\n",
        "%%time\n",
        "rf_model = RandomForestClassifier(n_estimators=150, max_features='sqrt', max_depth=50, criterion='gini',\n",
        "                                  min_samples_split=10, min_samples_leaf=4 , bootstrap=False, random_state=0, n_jobs=-1)\n",
        "rf_model.fit(X_train, y_train)\n",
        "preds = rf_model.predict(X_test)"
      ],
      "metadata": {
        "colab": {
          "base_uri": "https://localhost:8080/"
        },
        "id": "5kYe3-qNP1In",
        "outputId": "9469ed4a-04e4-49d6-af71-32584391e641"
      },
      "execution_count": 51,
      "outputs": [
        {
          "output_type": "stream",
          "name": "stdout",
          "text": [
            "CPU times: user 24.8 s, sys: 27.3 ms, total: 24.8 s\n",
            "Wall time: 14.6 s\n"
          ]
        }
      ]
    },
    {
      "cell_type": "code",
      "source": [
        "# Retorna a acurácia\n",
        "accuracy_score(y_test, preds)*100"
      ],
      "metadata": {
        "colab": {
          "base_uri": "https://localhost:8080/"
        },
        "id": "nHpTVAZ4P2uD",
        "outputId": "dcf1ae38-9260-4728-b64a-659ed06cb1a6"
      },
      "execution_count": 52,
      "outputs": [
        {
          "output_type": "execute_result",
          "data": {
            "text/plain": [
              "91.23409669211196"
            ]
          },
          "metadata": {},
          "execution_count": 52
        }
      ]
    },
    {
      "cell_type": "code",
      "source": [
        "# Retorna a tabela com alguns resultados\n",
        "# digits= define quantidade de casas após a virgula\n",
        "print(classification_report(y_test, preds, digits=4))"
      ],
      "metadata": {
        "colab": {
          "base_uri": "https://localhost:8080/"
        },
        "id": "TzAnDcRHP4T6",
        "outputId": "2b1d248d-5b95-4420-d999-15006bd826ee"
      },
      "execution_count": 53,
      "outputs": [
        {
          "output_type": "stream",
          "name": "stdout",
          "text": [
            "              precision    recall  f1-score   support\n",
            "\n",
            "           1     0.8596    0.8753    0.8674      2574\n",
            "           2     0.9387    0.9304    0.9345      5286\n",
            "\n",
            "    accuracy                         0.9123      7860\n",
            "   macro avg     0.8992    0.9028    0.9010      7860\n",
            "weighted avg     0.9128    0.9123    0.9125      7860\n",
            "\n"
          ]
        }
      ]
    },
    {
      "cell_type": "code",
      "source": [
        "imprimeMatrizDeConfusão(y_test, preds, rf_model)"
      ],
      "metadata": {
        "colab": {
          "base_uri": "https://localhost:8080/",
          "height": 296
        },
        "id": "oiQ_O8zoP7j-",
        "outputId": "57c4c4c3-735f-4db2-db63-d591c556c1a9"
      },
      "execution_count": 54,
      "outputs": [
        {
          "output_type": "display_data",
          "data": {
            "text/plain": [
              "<Figure size 432x288 with 1 Axes>"
            ],
            "image/png": "[encoded data removed]"
          },
          "metadata": {
            "needs_background": "light"
          }
        }
      ]
    },
    {
      "cell_type": "markdown",
      "source": [
        "⏰ **Leitura dos dados - 5 segundo**"
      ],
      "metadata": {
        "id": "xmDE0uTmbAZh"
      }
    },
    {
      "cell_type": "code",
      "source": [
        "# Leitura e amostra da tabela\n",
        "df = pd.read_csv('Tabela5s.csv', delimiter = ';')\n",
        "df.head()"
      ],
      "metadata": {
        "colab": {
          "base_uri": "https://localhost:8080/",
          "height": 206
        },
        "id": "TT5HXDvHbFs6",
        "outputId": "716f6eea-d131-497c-eea7-6dd95872f5c3"
      },
      "execution_count": 55,
      "outputs": [
        {
          "output_type": "execute_result",
          "data": {
            "text/plain": [
              "         Data      Hora     ax    ay    az    gx    gy    gz  Comportamento\n",
              "0  27/01/2023  04:45:00  11669  5323  6348  1695  2941 -2270              1\n",
              "1  27/01/2023  04:45:05  14396    37  7123   788  -115  2614              1\n",
              "2  27/01/2023  04:45:10  15455  3777  5197 -3290 -4716 -2942              1\n",
              "3  27/01/2023  04:45:20  11041  5976  6794  2375  5881 -1205              1\n",
              "4  27/01/2023  04:45:25  12031  8183  8270    76  1433   485              1"
            ],
            "text/html": [
              "\n",
              "  <div id=\"df-dc0d5d89-bebc-447d-85a9-af31693de0e3\">\n",
              "    <div class=\"colab-df-container\">\n",
              "      <div>\n",
              "<style scoped>\n",
              "    .dataframe tbody tr th:only-of-type {\n",
              "        vertical-align: middle;\n",
              "    }\n",
              "\n",
              "    .dataframe tbody tr th {\n",
              "        vertical-align: top;\n",
              "    }\n",
              "\n",
              "    .dataframe thead th {\n",
              "        text-align: right;\n",
              "    }\n",
              "</style>\n",
              "<table border=\"1\" class=\"dataframe\">\n",
              "  <thead>\n",
              "    <tr style=\"text-align: right;\">\n",
              "      <th></th>\n",
              "      <th>Data</th>\n",
              "      <th>Hora</th>\n",
              "      <th>ax</th>\n",
              "      <th>ay</th>\n",
              "      <th>az</th>\n",
              "      <th>gx</th>\n",
              "      <th>gy</th>\n",
              "      <th>gz</th>\n",
              "      <th>Comportamento</th>\n",
              "    </tr>\n",
              "  </thead>\n",
              "  <tbody>\n",
              "    <tr>\n",
              "      <th>0</th>\n",
              "      <td>27/01/2023</td>\n",
              "      <td>04:45:00</td>\n",
              "      <td>11669</td>\n",
              "      <td>5323</td>\n",
              "      <td>6348</td>\n",
              "      <td>1695</td>\n",
              "      <td>2941</td>\n",
              "      <td>-2270</td>\n",
              "      <td>1</td>\n",
              "    </tr>\n",
              "    <tr>\n",
              "      <th>1</th>\n",
              "      <td>27/01/2023</td>\n",
              "      <td>04:45:05</td>\n",
              "      <td>14396</td>\n",
              "      <td>37</td>\n",
              "      <td>7123</td>\n",
              "      <td>788</td>\n",
              "      <td>-115</td>\n",
              "      <td>2614</td>\n",
              "      <td>1</td>\n",
              "    </tr>\n",
              "    <tr>\n",
              "      <th>2</th>\n",
              "      <td>27/01/2023</td>\n",
              "      <td>04:45:10</td>\n",
              "      <td>15455</td>\n",
              "      <td>3777</td>\n",
              "      <td>5197</td>\n",
              "      <td>-3290</td>\n",
              "      <td>-4716</td>\n",
              "      <td>-2942</td>\n",
              "      <td>1</td>\n",
              "    </tr>\n",
              "    <tr>\n",
              "      <th>3</th>\n",
              "      <td>27/01/2023</td>\n",
              "      <td>04:45:20</td>\n",
              "      <td>11041</td>\n",
              "      <td>5976</td>\n",
              "      <td>6794</td>\n",
              "      <td>2375</td>\n",
              "      <td>5881</td>\n",
              "      <td>-1205</td>\n",
              "      <td>1</td>\n",
              "    </tr>\n",
              "    <tr>\n",
              "      <th>4</th>\n",
              "      <td>27/01/2023</td>\n",
              "      <td>04:45:25</td>\n",
              "      <td>12031</td>\n",
              "      <td>8183</td>\n",
              "      <td>8270</td>\n",
              "      <td>76</td>\n",
              "      <td>1433</td>\n",
              "      <td>485</td>\n",
              "      <td>1</td>\n",
              "    </tr>\n",
              "  </tbody>\n",
              "</table>\n",
              "</div>\n",
              "      <button class=\"colab-df-convert\" onclick=\"convertToInteractive('df-dc0d5d89-bebc-447d-85a9-af31693de0e3')\"\n",
              "              title=\"Convert this dataframe to an interactive table.\"\n",
              "              style=\"display:none;\">\n",
              "        \n",
              "  <svg xmlns=\"http://www.w3.org/2000/svg\" height=\"24px\"viewBox=\"0 0 24 24\"\n",
              "       width=\"24px\">\n",
              "    <path d=\"M0 0h24v24H0V0z\" fill=\"none\"/>\n",
              "    <path d=\"M18.56 5.44l.94 2.06.94-2.06 2.06-.94-2.06-.94-.94-2.06-.94 2.06-2.06.94zm-11 1L8.5 8.5l.94-2.06 2.06-.94-2.06-.94L8.5 2.5l-.94 2.06-2.06.94zm10 10l.94 2.06.94-2.06 2.06-.94-2.06-.94-.94-2.06-.94 2.06-2.06.94z\"/><path d=\"M17.41 7.96l-1.37-1.37c-.4-.4-.92-.59-1.43-.59-.52 0-1.04.2-1.43.59L10.3 9.45l-7.72 7.72c-.78.78-.78 2.05 0 2.83L4 21.41c.39.39.9.59 1.41.59.51 0 1.02-.2 1.41-.59l7.78-7.78 2.81-2.81c.8-.78.8-2.07 0-2.86zM5.41 20L4 18.59l7.72-7.72 1.47 1.35L5.41 20z\"/>\n",
              "  </svg>\n",
              "      </button>\n",
              "      \n",
              "  <style>\n",
              "    .colab-df-container {\n",
              "      display:flex;\n",
              "      flex-wrap:wrap;\n",
              "      gap: 12px;\n",
              "    }\n",
              "\n",
              "    .colab-df-convert {\n",
              "      background-color: #E8F0FE;\n",
              "      border: none;\n",
              "      border-radius: 50%;\n",
              "      cursor: pointer;\n",
              "      display: none;\n",
              "      fill: #1967D2;\n",
              "      height: 32px;\n",
              "      padding: 0 0 0 0;\n",
              "      width: 32px;\n",
              "    }\n",
              "\n",
              "    .colab-df-convert:hover {\n",
              "      background-color: #E2EBFA;\n",
              "      box-shadow: 0px 1px 2px rgba(60, 64, 67, 0.3), 0px 1px 3px 1px rgba(60, 64, 67, 0.15);\n",
              "      fill: #174EA6;\n",
              "    }\n",
              "\n",
              "    [theme=dark] .colab-df-convert {\n",
              "      background-color: #3B4455;\n",
              "      fill: #D2E3FC;\n",
              "    }\n",
              "\n",
              "    [theme=dark] .colab-df-convert:hover {\n",
              "      background-color: #434B5C;\n",
              "      box-shadow: 0px 1px 3px 1px rgba(0, 0, 0, 0.15);\n",
              "      filter: drop-shadow(0px 1px 2px rgba(0, 0, 0, 0.3));\n",
              "      fill: #FFFFFF;\n",
              "    }\n",
              "  </style>\n",
              "\n",
              "      <script>\n",
              "        const buttonEl =\n",
              "          document.querySelector('#df-dc0d5d89-bebc-447d-85a9-af31693de0e3 button.colab-df-convert');\n",
              "        buttonEl.style.display =\n",
              "          google.colab.kernel.accessAllowed ? 'block' : 'none';\n",
              "\n",
              "        async function convertToInteractive(key) {\n",
              "          const element = document.querySelector('#df-dc0d5d89-bebc-447d-85a9-af31693de0e3');\n",
              "          const dataTable =\n",
              "            await google.colab.kernel.invokeFunction('convertToInteractive',\n",
              "                                                     [key], {});\n",
              "          if (!dataTable) return;\n",
              "\n",
              "          const docLinkHtml = 'Like what you see? Visit the ' +\n",
              "            '<a target=\"_blank\" href=https://colab.research.google.com/notebooks/data_table.ipynb>data table notebook</a>'\n",
              "            + ' to learn more about interactive tables.';\n",
              "          element.innerHTML = '';\n",
              "          dataTable['output_type'] = 'display_data';\n",
              "          await google.colab.output.renderOutput(dataTable, element);\n",
              "          const docLink = document.createElement('div');\n",
              "          docLink.innerHTML = docLinkHtml;\n",
              "          element.appendChild(docLink);\n",
              "        }\n",
              "      </script>\n",
              "    </div>\n",
              "  </div>\n",
              "  "
            ]
          },
          "metadata": {},
          "execution_count": 55
        }
      ]
    },
    {
      "cell_type": "code",
      "source": [
        "# Exibe os tipos presentes na tabela\n",
        "df.dtypes"
      ],
      "metadata": {
        "colab": {
          "base_uri": "https://localhost:8080/"
        },
        "id": "NBtTyoJwbI_i",
        "outputId": "b9525136-2da0-47e3-827e-1e0812180af9"
      },
      "execution_count": 56,
      "outputs": [
        {
          "output_type": "execute_result",
          "data": {
            "text/plain": [
              "Data             object\n",
              "Hora             object\n",
              "ax                int64\n",
              "ay                int64\n",
              "az                int64\n",
              "gx                int64\n",
              "gy                int64\n",
              "gz                int64\n",
              "Comportamento     int64\n",
              "dtype: object"
            ]
          },
          "metadata": {},
          "execution_count": 56
        }
      ]
    },
    {
      "cell_type": "code",
      "source": [
        "# Imports\n",
        "from sklearn.model_selection import train_test_split\n",
        "from sklearn.metrics import accuracy_score, confusion_matrix, classification_report\n",
        "from sklearn.model_selection import cross_val_score\n",
        "from sklearn.model_selection import RandomizedSearchCV\n",
        "from skopt import gp_minimize"
      ],
      "metadata": {
        "id": "HDl3yIjobLJs"
      },
      "execution_count": 57,
      "outputs": []
    },
    {
      "cell_type": "code",
      "source": [
        "# Exibe as colunas existentes\n",
        "df.columns"
      ],
      "metadata": {
        "colab": {
          "base_uri": "https://localhost:8080/"
        },
        "id": "MTPlKnF3bMqs",
        "outputId": "3e9a3daa-2725-4d23-ab70-8514f4a5bad3"
      },
      "execution_count": 58,
      "outputs": [
        {
          "output_type": "execute_result",
          "data": {
            "text/plain": [
              "Index(['Data', 'Hora', 'ax', 'ay', 'az', 'gx', 'gy', 'gz', 'Comportamento'], dtype='object')"
            ]
          },
          "metadata": {},
          "execution_count": 58
        }
      ]
    },
    {
      "cell_type": "code",
      "source": [
        "# Lista com os atributos aplicáveis - colunas\n",
        "features_aplicaveis = ['ax', 'ay' ,'az', 'gx', 'gy', 'gz', 'Comportamento']"
      ],
      "metadata": {
        "id": "VdmlddukbOVs"
      },
      "execution_count": 62,
      "outputs": []
    },
    {
      "cell_type": "code",
      "source": [
        "# Seleciona os abributos correspondentes da lista features_aplicaveis\n",
        "df = df[features_aplicaveis]"
      ],
      "metadata": {
        "id": "s_OcAkmNbP6q"
      },
      "execution_count": 63,
      "outputs": []
    },
    {
      "cell_type": "code",
      "source": [
        "def imprimir_quantidade_dados(X_train, X_test):\n",
        "    print(10*\"-\",\" Quantidade de dados \",  10*\"-\")\n",
        "    \n",
        "    print('Treino: ', X_train.shape[0])\n",
        "    print('Teste: ', X_test.shape[0])\n",
        "    \n",
        "    print(43*\"-\")"
      ],
      "metadata": {
        "id": "5TIzIUYQbTj5"
      },
      "execution_count": 64,
      "outputs": []
    },
    {
      "cell_type": "code",
      "source": [
        "y = df.Comportamento\n",
        "X = df.drop('Comportamento', axis=1)\n",
        "\n",
        "# Conjunto de dados PRO: Pastejando x Ruminando x Ócio\n",
        "X_train, X_test, y_train, y_test = train_test_split(X, y, train_size=0.8, random_state = 0, stratify=y)"
      ],
      "metadata": {
        "id": "THQ_JrhtbViZ"
      },
      "execution_count": 65,
      "outputs": []
    },
    {
      "cell_type": "code",
      "source": [
        "imprimir_quantidade_dados(X_train, X_test)"
      ],
      "metadata": {
        "colab": {
          "base_uri": "https://localhost:8080/"
        },
        "id": "3X6I3-MsbXJ9",
        "outputId": "0932ccfa-235d-4359-d510-1420ace69213"
      },
      "execution_count": 66,
      "outputs": [
        {
          "output_type": "stream",
          "name": "stdout",
          "text": [
            "----------  Quantidade de dados  ----------\n",
            "Treino:  12601\n",
            "Teste:  3151\n",
            "-------------------------------------------\n"
          ]
        }
      ]
    },
    {
      "cell_type": "code",
      "source": [
        "# Função para imprimir e salvar matriz de confusão\n",
        "def imprimeMatrizDeConfusão(y_test, preds, model, salvarFigura = False):\n",
        "    from sklearn.metrics import confusion_matrix\n",
        "    from sklearn.metrics import ConfusionMatrixDisplay\n",
        "    import matplotlib.pyplot as plt\n",
        "\n",
        "    cm = confusion_matrix(y_test, preds, normalize='true')\n",
        "    disp = ConfusionMatrixDisplay(confusion_matrix=cm, display_labels=model.classes_)\n",
        "    disp.plot(values_format= '.2%', xticks_rotation=60, colorbar=False)\n",
        "    disp.ax_.set_title(\"Matriz de confusão normalizada sobre as condições verdadeiras\")\n",
        "    if(salvarFigura):\n",
        "        plt.savefig(input('Nome da figura a ser salva:' ) + '.png')\n",
        "    plt.show()"
      ],
      "metadata": {
        "id": "J1yP5JbYbi3_"
      },
      "execution_count": 67,
      "outputs": []
    },
    {
      "cell_type": "code",
      "source": [
        "from sklearn.metrics import classification_report\n",
        "\n",
        "def classification_report_extendido(y_true: np.array, y_pred: np.array, classes: set = None):\n",
        "    report = classification_report(y_true, y_pred, output_dict=True, zero_division=0)\n",
        "    \n",
        "    if classes is None: # Determina classes pelos valores\n",
        "        classes = set(np.concatenate((np.unique(y_true), np.unique(y_pred))))\n",
        "    for cls in classes:\n",
        "        y_true_cls = (y_true == cls).astype(int)\n",
        "        y_pred_cls = (y_pred == cls).astype(int)\n",
        "\n",
        "        fp = sum(y_pred_cls[y_true_cls != 1])\n",
        "        tn = sum(y_pred_cls[y_true_cls == 0] == False)\n",
        "        fn = sum(y_pred_cls[y_true_cls == 1] == False)\n",
        "\n",
        "        \n",
        "        specificity_val = tn / (tn + fp)\n",
        "        report[cls]['specificity'] = specificity_val\n",
        "        npv_val = tn / (tn + fn)\n",
        "        report[cls]['npv'] = npv_val\n",
        "        \n",
        "    return report"
      ],
      "metadata": {
        "id": "fmZE09hsbkfs"
      },
      "execution_count": 68,
      "outputs": []
    },
    {
      "cell_type": "code",
      "source": [
        "# imports\n",
        "from sklearn.ensemble import RandomForestClassifier"
      ],
      "metadata": {
        "id": "XG0RkrwPboIm"
      },
      "execution_count": 69,
      "outputs": []
    },
    {
      "cell_type": "code",
      "source": [
        "rf_Model = RandomForestClassifier(random_state=0, n_jobs=-1)"
      ],
      "metadata": {
        "id": "R0O1Hia8bp0E"
      },
      "execution_count": 70,
      "outputs": []
    },
    {
      "cell_type": "code",
      "source": [
        "# criação de um grid\n",
        "rf_param_grid = {'n_estimators':  np.arange(50, 250, 50),\n",
        "               'max_features': ['auto', 'sqrt'],\n",
        "               'max_depth':[50, 100, 150, None],\n",
        "               'criterion': ['gini', 'entropy'],\n",
        "               'min_samples_split': [2, 5, 10, 30, 50],\n",
        "               'min_samples_leaf': [1, 2],\n",
        "               'bootstrap': [True, False]}"
      ],
      "metadata": {
        "id": "NGGfj7-0brW9"
      },
      "execution_count": 71,
      "outputs": []
    },
    {
      "cell_type": "code",
      "source": [
        "rf_RandomGrid = RandomizedSearchCV(estimator = rf_Model, param_distributions = rf_param_grid, cv = 3, verbose=1, random_state=0)"
      ],
      "metadata": {
        "id": "1u5XaUi8btYp"
      },
      "execution_count": 72,
      "outputs": []
    },
    {
      "cell_type": "code",
      "source": [
        "def tune_rf(params):\n",
        "    n_estimators = params[0]\n",
        "    max_features = params[1]\n",
        "    max_depth = params[2]\n",
        "    criterion = params[3]\n",
        "    min_samples_split = params[4]\n",
        "    min_samples_leaf = params[5]\n",
        "    bootstrap = params[6]\n",
        "    \n",
        "    print(params, '\\n')\n",
        "    \n",
        "    rf_Model = RandomForestClassifier(n_estimators=n_estimators, max_features=max_features, max_depth=max_depth, criterion=criterion, min_samples_split=min_samples_split,\n",
        "                                       min_samples_leaf = min_samples_leaf, bootstrap=bootstrap, random_state=0, n_jobs=-1)\n",
        "    \n",
        "    auc = cross_val_score(rf_Model, X_train, y_train, cv=3, scoring ='accuracy')\n",
        "    \n",
        "    return -auc.mean()\n",
        "\n",
        "space = [ np.arange(50, 250, 50), # n_estimators\n",
        "         ['auto', 'sqrt'], # max_features\n",
        "         [50, 100, 150, None], # max_depth\n",
        "         ['gini', 'entropy'], # criterion\n",
        "         [2, 5, 10, 30, 50], # min_samples_split\n",
        "         [1,2,4], # min_samples_leaf\n",
        "         [True, False]] # bootstrap] "
      ],
      "metadata": {
        "id": "3fBha-a0bwQc"
      },
      "execution_count": 73,
      "outputs": []
    },
    {
      "cell_type": "code",
      "source": [
        "%%time\n",
        "from skopt import forest_minimize\n",
        "resultado_rf = gp_minimize(tune_rf, space, random_state=0, verbose=1, n_calls=30, n_random_starts=15, n_jobs=-1)"
      ],
      "metadata": {
        "colab": {
          "base_uri": "https://localhost:8080/"
        },
        "id": "a1OjkpqqbyQH",
        "outputId": "d5d774e9-8b73-491c-9442-b692470be64e"
      },
      "execution_count": 74,
      "outputs": [
        {
          "output_type": "stream",
          "name": "stdout",
          "text": [
            "Iteration No: 1 started. Evaluating function at random point.\n",
            "[150, 'sqrt', None, 'gini', 10, 2, False] \n",
            "\n",
            "Iteration No: 1 ended. Evaluation done at random point.\n",
            "Time taken: 15.0422\n",
            "Function value obtained: -0.9022\n",
            "Current minimum: -0.9022\n",
            "Iteration No: 2 started. Evaluating function at random point.\n",
            "[50, 'auto', 100, 'gini', 10, 2, True] \n",
            "\n",
            "Iteration No: 2 ended. Evaluation done at random point.\n",
            "Time taken: 2.1628\n",
            "Function value obtained: -0.9019\n",
            "Current minimum: -0.9022\n",
            "Iteration No: 3 started. Evaluating function at random point.\n",
            "[100, 'sqrt', 100, 'gini', 5, 4, False] \n",
            "\n",
            "Iteration No: 3 ended. Evaluation done at random point.\n",
            "Time taken: 8.6421\n",
            "Function value obtained: -0.9013\n",
            "Current minimum: -0.9022\n",
            "Iteration No: 4 started. Evaluating function at random point.\n",
            "[150, 'sqrt', 150, 'gini', 10, 2, True] \n",
            "\n",
            "Iteration No: 4 ended. Evaluation done at random point.\n",
            "Time taken: 7.4189\n",
            "Function value obtained: -0.9026\n",
            "Current minimum: -0.9026\n",
            "Iteration No: 5 started. Evaluating function at random point.\n",
            "[50, 'auto', 100, 'gini', 5, 1, False] \n",
            "\n",
            "Iteration No: 5 ended. Evaluation done at random point.\n",
            "Time taken: 5.8346\n",
            "Function value obtained: -0.9000\n",
            "Current minimum: -0.9026\n",
            "Iteration No: 6 started. Evaluating function at random point.\n",
            "[50, 'auto', 100, 'gini', 10, 2, True] \n",
            "\n",
            "Iteration No: 6 ended. Evaluation done at random point.\n",
            "Time taken: 2.1680\n",
            "Function value obtained: -0.9019\n",
            "Current minimum: -0.9026\n",
            "Iteration No: 7 started. Evaluating function at random point.\n",
            "[50, 'sqrt', 150, 'entropy', 5, 4, True] \n",
            "\n",
            "Iteration No: 7 ended. Evaluation done at random point.\n",
            "Time taken: 3.4416\n",
            "Function value obtained: -0.9020\n",
            "Current minimum: -0.9026\n",
            "Iteration No: 8 started. Evaluating function at random point.\n",
            "[100, 'auto', 150, 'gini', 30, 2, True] \n",
            "\n",
            "Iteration No: 8 ended. Evaluation done at random point.\n",
            "Time taken: 4.0662\n",
            "Function value obtained: -0.9006\n",
            "Current minimum: -0.9026\n",
            "Iteration No: 9 started. Evaluating function at random point.\n",
            "[150, 'auto', 100, 'gini', 5, 2, False] \n",
            "\n",
            "Iteration No: 9 ended. Evaluation done at random point.\n",
            "Time taken: 11.3457\n",
            "Function value obtained: -0.9006\n",
            "Current minimum: -0.9026\n",
            "Iteration No: 10 started. Evaluating function at random point.\n",
            "[150, 'sqrt', 150, 'entropy', 10, 2, True] \n",
            "\n",
            "Iteration No: 10 ended. Evaluation done at random point.\n",
            "Time taken: 9.2691\n",
            "Function value obtained: -0.9025\n",
            "Current minimum: -0.9026\n",
            "Iteration No: 11 started. Evaluating function at random point.\n",
            "[200, 'sqrt', 50, 'entropy', 2, 2, True] \n",
            "\n",
            "Iteration No: 11 ended. Evaluation done at random point.\n",
            "Time taken: 11.4169\n",
            "Function value obtained: -0.9018\n",
            "Current minimum: -0.9026\n",
            "Iteration No: 12 started. Evaluating function at random point.\n",
            "[100, 'auto', 150, 'gini', 50, 1, True] \n",
            "\n",
            "Iteration No: 12 ended. Evaluation done at random point.\n",
            "Time taken: 3.9780\n",
            "Function value obtained: -0.8995\n",
            "Current minimum: -0.9026\n",
            "Iteration No: 13 started. Evaluating function at random point.\n",
            "[200, 'sqrt', None, 'gini', 2, 2, False] \n",
            "\n",
            "Iteration No: 13 ended. Evaluation done at random point.\n",
            "Time taken: 14.3211\n",
            "Function value obtained: -0.8998\n",
            "Current minimum: -0.9026\n",
            "Iteration No: 14 started. Evaluating function at random point.\n",
            "[200, 'sqrt', None, 'entropy', 10, 2, False] \n",
            "\n",
            "Iteration No: 14 ended. Evaluation done at random point.\n",
            "Time taken: 16.1860\n",
            "Function value obtained: -0.9020\n",
            "Current minimum: -0.9026\n",
            "Iteration No: 15 started. Evaluating function at random point.\n",
            "[100, 'auto', 150, 'gini', 5, 2, True] \n",
            "\n",
            "Iteration No: 15 ended. Evaluation done at random point.\n",
            "Time taken: 6.5180\n",
            "Function value obtained: -0.9026\n",
            "Current minimum: -0.9026\n",
            "Iteration No: 16 started. Searching for the next optimal point.\n",
            "[200, 'sqrt', 100, 'entropy', 50, 4, False] \n",
            "\n",
            "Iteration No: 16 ended. Search finished for the next optimal point.\n",
            "Time taken: 15.6263\n",
            "Function value obtained: -0.8995\n",
            "Current minimum: -0.9026\n",
            "Iteration No: 17 started. Searching for the next optimal point.\n",
            "[200, 'sqrt', None, 'entropy', 30, 4, False] \n",
            "\n",
            "Iteration No: 17 ended. Search finished for the next optimal point.\n",
            "Time taken: 16.0778\n",
            "Function value obtained: -0.9010\n",
            "Current minimum: -0.9026\n",
            "Iteration No: 18 started. Searching for the next optimal point.\n",
            "[50, 'auto', 100, 'gini', 2, 1, True] \n",
            "\n",
            "Iteration No: 18 ended. Search finished for the next optimal point.\n",
            "Time taken: 3.0102\n",
            "Function value obtained: -0.9018\n",
            "Current minimum: -0.9026\n",
            "Iteration No: 19 started. Searching for the next optimal point.\n",
            "[100, 'auto', 150, 'gini', 10, 4, False] \n",
            "\n",
            "Iteration No: 19 ended. Search finished for the next optimal point.\n",
            "Time taken: 8.6122\n",
            "Function value obtained: -0.9010\n",
            "Current minimum: -0.9026\n",
            "Iteration No: 20 started. Searching for the next optimal point.\n",
            "[50, 'auto', 100, 'gini', 30, 1, False] \n",
            "\n",
            "Iteration No: 20 ended. Search finished for the next optimal point.\n",
            "Time taken: 4.0415\n",
            "Function value obtained: -0.9001\n",
            "Current minimum: -0.9026\n",
            "Iteration No: 21 started. Searching for the next optimal point.\n",
            "[150, 'sqrt', 50, 'entropy', 30, 1, True] \n",
            "\n",
            "Iteration No: 21 ended. Search finished for the next optimal point.\n",
            "Time taken: 9.5252\n",
            "Function value obtained: -0.9009\n",
            "Current minimum: -0.9026\n",
            "Iteration No: 22 started. Searching for the next optimal point.\n",
            "[100, 'sqrt', 150, 'entropy', 2, 1, False] \n",
            "\n",
            "Iteration No: 22 ended. Search finished for the next optimal point.\n",
            "Time taken: 8.4774\n",
            "Function value obtained: -0.9026\n",
            "Current minimum: -0.9026\n",
            "Iteration No: 23 started. Searching for the next optimal point.\n",
            "[150, 'auto', 150, 'gini', 2, 2, False] \n",
            "\n",
            "Iteration No: 23 ended. Search finished for the next optimal point.\n",
            "Time taken: 12.0742\n",
            "Function value obtained: -0.8998\n",
            "Current minimum: -0.9026\n",
            "Iteration No: 24 started. Searching for the next optimal point.\n",
            "[150, 'sqrt', 150, 'gini', 10, 1, True] \n",
            "\n",
            "Iteration No: 24 ended. Search finished for the next optimal point.\n",
            "Time taken: 9.0323\n",
            "Function value obtained: -0.9020\n",
            "Current minimum: -0.9026\n",
            "Iteration No: 25 started. Searching for the next optimal point.\n",
            "[100, 'sqrt', 150, 'entropy', 2, 4, True] \n",
            "\n",
            "Iteration No: 25 ended. Search finished for the next optimal point.\n",
            "Time taken: 5.5838\n",
            "Function value obtained: -0.9022\n",
            "Current minimum: -0.9026\n",
            "Iteration No: 26 started. Searching for the next optimal point.\n",
            "[150, 'sqrt', None, 'gini', 10, 4, True] \n",
            "\n",
            "Iteration No: 26 ended. Search finished for the next optimal point.\n",
            "Time taken: 8.6656\n",
            "Function value obtained: -0.9016\n",
            "Current minimum: -0.9026\n",
            "Iteration No: 27 started. Searching for the next optimal point.\n",
            "[150, 'sqrt', None, 'entropy', 50, 2, True] \n",
            "\n",
            "Iteration No: 27 ended. Search finished for the next optimal point.\n",
            "Time taken: 8.6845\n",
            "Function value obtained: -0.8993\n",
            "Current minimum: -0.9026\n",
            "Iteration No: 28 started. Searching for the next optimal point.\n",
            "[200, 'sqrt', 50, 'entropy', 5, 2, True] \n",
            "\n",
            "Iteration No: 28 ended. Search finished for the next optimal point.\n",
            "Time taken: 10.8559\n",
            "Function value obtained: -0.9019\n",
            "Current minimum: -0.9026\n",
            "Iteration No: 29 started. Searching for the next optimal point.\n",
            "[50, 'auto', 50, 'entropy', 2, 4, False] \n",
            "\n",
            "Iteration No: 29 ended. Search finished for the next optimal point.\n",
            "Time taken: 6.4881\n",
            "Function value obtained: -0.8997\n",
            "Current minimum: -0.9026\n",
            "Iteration No: 30 started. Searching for the next optimal point.\n",
            "[100, 'sqrt', 150, 'entropy', 2, 1, True] \n",
            "\n",
            "Iteration No: 30 ended. Search finished for the next optimal point.\n",
            "Time taken: 6.0217\n",
            "Function value obtained: -0.9030\n",
            "Current minimum: -0.9030\n",
            "CPU times: user 41.3 s, sys: 6.84 s, total: 48.2 s\n",
            "Wall time: 4min 14s\n"
          ]
        }
      ]
    },
    {
      "cell_type": "code",
      "source": [
        "# Retorna o melhor hiperparametro\n",
        "# Em ordem: n_estimators, max_features, max_depth, criterion, min_samples_split, min_samples_leaf, bootstrap\n",
        "resultado_rf.x"
      ],
      "metadata": {
        "colab": {
          "base_uri": "https://localhost:8080/"
        },
        "id": "BpBvhO6gb0IV",
        "outputId": "71cafd29-4700-4133-d6f7-3fcb2c83cf09"
      },
      "execution_count": 75,
      "outputs": [
        {
          "output_type": "execute_result",
          "data": {
            "text/plain": [
              "[100, 'sqrt', 150, 'entropy', 2, 1, True]"
            ]
          },
          "metadata": {},
          "execution_count": 75
        }
      ]
    },
    {
      "cell_type": "code",
      "source": [
        "from skopt.plots import plot_convergence\n",
        "plot_convergence(resultado_rf)"
      ],
      "metadata": {
        "colab": {
          "base_uri": "https://localhost:8080/",
          "height": 314
        },
        "id": "YTqBv10pb1eJ",
        "outputId": "e555cf51-25d3-4955-a6c4-2f8e7bc3a06a"
      },
      "execution_count": 76,
      "outputs": [
        {
          "output_type": "execute_result",
          "data": {
            "text/plain": [
              "<matplotlib.axes._subplots.AxesSubplot at 0x7f50810c34c0>"
            ]
          },
          "metadata": {},
          "execution_count": 76
        },
        {
          "output_type": "display_data",
          "data": {
            "text/plain": [
              "<Figure size 432x288 with 1 Axes>"
            ],
            "image/png": "[encoded data removed]"
          },
          "metadata": {
            "needs_background": "light"
          }
        }
      ]
    },
    {
      "cell_type": "code",
      "source": [
        "# Inserir manualmente os melhores hiperparametros\n",
        "%%time\n",
        "rf_model = RandomForestClassifier(n_estimators=100, max_features='sqrt', max_depth=150, criterion='entropy',\n",
        "                                  min_samples_split=2, min_samples_leaf=1 , bootstrap=True, random_state=0, n_jobs=-1)\n",
        "rf_model.fit(X_train, y_train)\n",
        "preds = rf_model.predict(X_test)"
      ],
      "metadata": {
        "colab": {
          "base_uri": "https://localhost:8080/"
        },
        "id": "oZoeVbPeb3Q4",
        "outputId": "b772fa59-a772-4c23-e62e-1b7a1e2229c2"
      },
      "execution_count": 77,
      "outputs": [
        {
          "output_type": "stream",
          "name": "stdout",
          "text": [
            "CPU times: user 4.7 s, sys: 40.9 ms, total: 4.74 s\n",
            "Wall time: 3.03 s\n"
          ]
        }
      ]
    },
    {
      "cell_type": "code",
      "source": [
        "# Retorna a acurácia\n",
        "accuracy_score(y_test, preds)*100"
      ],
      "metadata": {
        "colab": {
          "base_uri": "https://localhost:8080/"
        },
        "id": "nCl-DFYQb4uq",
        "outputId": "ee8e7807-3319-4bf1-f028-69ada8725d61"
      },
      "execution_count": 78,
      "outputs": [
        {
          "output_type": "execute_result",
          "data": {
            "text/plain": [
              "90.47921294827039"
            ]
          },
          "metadata": {},
          "execution_count": 78
        }
      ]
    },
    {
      "cell_type": "code",
      "source": [
        "# Retorna a tabela com alguns resultados\n",
        "# digits= define quantidade de casas após a virgula\n",
        "print(classification_report(y_test, preds, digits=4))"
      ],
      "metadata": {
        "colab": {
          "base_uri": "https://localhost:8080/"
        },
        "id": "kO-imsAMb5N1",
        "outputId": "3dea617a-db72-4ad4-941a-b80e9e4c3b52"
      },
      "execution_count": 79,
      "outputs": [
        {
          "output_type": "stream",
          "name": "stdout",
          "text": [
            "              precision    recall  f1-score   support\n",
            "\n",
            "           1     0.8403    0.8775    0.8585      1037\n",
            "           2     0.9386    0.9182    0.9283      2114\n",
            "\n",
            "    accuracy                         0.9048      3151\n",
            "   macro avg     0.8894    0.8978    0.8934      3151\n",
            "weighted avg     0.9062    0.9048    0.9053      3151\n",
            "\n"
          ]
        }
      ]
    },
    {
      "cell_type": "code",
      "source": [
        "imprimeMatrizDeConfusão(y_test, preds, rf_model)"
      ],
      "metadata": {
        "colab": {
          "base_uri": "https://localhost:8080/",
          "height": 296
        },
        "id": "XRbZ4STYb8fY",
        "outputId": "5ab26e61-7264-4769-a32a-a50810754979"
      },
      "execution_count": 80,
      "outputs": [
        {
          "output_type": "display_data",
          "data": {
            "text/plain": [
              "<Figure size 432x288 with 1 Axes>"
            ],
            "image/png": "[encoded data removed]"
          },
          "metadata": {
            "needs_background": "light"
          }
        }
      ]
    },
    {
      "cell_type": "markdown",
      "source": [
        "⏰ **Leitura dos dados - 10 segundos**"
      ],
      "metadata": {
        "id": "_zMniqwujlfL"
      }
    },
    {
      "cell_type": "code",
      "source": [
        "# Leitura e amostra da tabela\n",
        "df = pd.read_csv('Tabela10s.csv', delimiter = ';')\n",
        "df.head()"
      ],
      "metadata": {
        "colab": {
          "base_uri": "https://localhost:8080/",
          "height": 206
        },
        "id": "N2ZT98sejq2u",
        "outputId": "b5f6dad3-44f3-4b67-93c4-6b262a2c00cf"
      },
      "execution_count": 81,
      "outputs": [
        {
          "output_type": "execute_result",
          "data": {
            "text/plain": [
              "         Data      Hora     ax    ay    az    gx    gy    gz  Comportamento\n",
              "0  27/01/2023  04:45:00  11669  5323  6348  1695  2941 -2270              1\n",
              "1  27/01/2023  04:45:10  15455  3777  5197 -3290 -4716 -2942              1\n",
              "2  27/01/2023  04:45:20  11041  5976  6794  2375  5881 -1205              1\n",
              "3  27/01/2023  04:45:30  13125 -1943  7929  6067  4001  3819              1\n",
              "4  27/01/2023  04:45:40  11195  8273  5761   292 -1201 -3766              1"
            ],
            "text/html": [
              "\n",
              "  <div id=\"df-3e81a465-9726-47ec-b47d-5f05a6dc6fab\">\n",
              "    <div class=\"colab-df-container\">\n",
              "      <div>\n",
              "<style scoped>\n",
              "    .dataframe tbody tr th:only-of-type {\n",
              "        vertical-align: middle;\n",
              "    }\n",
              "\n",
              "    .dataframe tbody tr th {\n",
              "        vertical-align: top;\n",
              "    }\n",
              "\n",
              "    .dataframe thead th {\n",
              "        text-align: right;\n",
              "    }\n",
              "</style>\n",
              "<table border=\"1\" class=\"dataframe\">\n",
              "  <thead>\n",
              "    <tr style=\"text-align: right;\">\n",
              "      <th></th>\n",
              "      <th>Data</th>\n",
              "      <th>Hora</th>\n",
              "      <th>ax</th>\n",
              "      <th>ay</th>\n",
              "      <th>az</th>\n",
              "      <th>gx</th>\n",
              "      <th>gy</th>\n",
              "      <th>gz</th>\n",
              "      <th>Comportamento</th>\n",
              "    </tr>\n",
              "  </thead>\n",
              "  <tbody>\n",
              "    <tr>\n",
              "      <th>0</th>\n",
              "      <td>27/01/2023</td>\n",
              "      <td>04:45:00</td>\n",
              "      <td>11669</td>\n",
              "      <td>5323</td>\n",
              "      <td>6348</td>\n",
              "      <td>1695</td>\n",
              "      <td>2941</td>\n",
              "      <td>-2270</td>\n",
              "      <td>1</td>\n",
              "    </tr>\n",
              "    <tr>\n",
              "      <th>1</th>\n",
              "      <td>27/01/2023</td>\n",
              "      <td>04:45:10</td>\n",
              "      <td>15455</td>\n",
              "      <td>3777</td>\n",
              "      <td>5197</td>\n",
              "      <td>-3290</td>\n",
              "      <td>-4716</td>\n",
              "      <td>-2942</td>\n",
              "      <td>1</td>\n",
              "    </tr>\n",
              "    <tr>\n",
              "      <th>2</th>\n",
              "      <td>27/01/2023</td>\n",
              "      <td>04:45:20</td>\n",
              "      <td>11041</td>\n",
              "      <td>5976</td>\n",
              "      <td>6794</td>\n",
              "      <td>2375</td>\n",
              "      <td>5881</td>\n",
              "      <td>-1205</td>\n",
              "      <td>1</td>\n",
              "    </tr>\n",
              "    <tr>\n",
              "      <th>3</th>\n",
              "      <td>27/01/2023</td>\n",
              "      <td>04:45:30</td>\n",
              "      <td>13125</td>\n",
              "      <td>-1943</td>\n",
              "      <td>7929</td>\n",
              "      <td>6067</td>\n",
              "      <td>4001</td>\n",
              "      <td>3819</td>\n",
              "      <td>1</td>\n",
              "    </tr>\n",
              "    <tr>\n",
              "      <th>4</th>\n",
              "      <td>27/01/2023</td>\n",
              "      <td>04:45:40</td>\n",
              "      <td>11195</td>\n",
              "      <td>8273</td>\n",
              "      <td>5761</td>\n",
              "      <td>292</td>\n",
              "      <td>-1201</td>\n",
              "      <td>-3766</td>\n",
              "      <td>1</td>\n",
              "    </tr>\n",
              "  </tbody>\n",
              "</table>\n",
              "</div>\n",
              "      <button class=\"colab-df-convert\" onclick=\"convertToInteractive('df-3e81a465-9726-47ec-b47d-5f05a6dc6fab')\"\n",
              "              title=\"Convert this dataframe to an interactive table.\"\n",
              "              style=\"display:none;\">\n",
              "        \n",
              "  <svg xmlns=\"http://www.w3.org/2000/svg\" height=\"24px\"viewBox=\"0 0 24 24\"\n",
              "       width=\"24px\">\n",
              "    <path d=\"M0 0h24v24H0V0z\" fill=\"none\"/>\n",
              "    <path d=\"M18.56 5.44l.94 2.06.94-2.06 2.06-.94-2.06-.94-.94-2.06-.94 2.06-2.06.94zm-11 1L8.5 8.5l.94-2.06 2.06-.94-2.06-.94L8.5 2.5l-.94 2.06-2.06.94zm10 10l.94 2.06.94-2.06 2.06-.94-2.06-.94-.94-2.06-.94 2.06-2.06.94z\"/><path d=\"M17.41 7.96l-1.37-1.37c-.4-.4-.92-.59-1.43-.59-.52 0-1.04.2-1.43.59L10.3 9.45l-7.72 7.72c-.78.78-.78 2.05 0 2.83L4 21.41c.39.39.9.59 1.41.59.51 0 1.02-.2 1.41-.59l7.78-7.78 2.81-2.81c.8-.78.8-2.07 0-2.86zM5.41 20L4 18.59l7.72-7.72 1.47 1.35L5.41 20z\"/>\n",
              "  </svg>\n",
              "      </button>\n",
              "      \n",
              "  <style>\n",
              "    .colab-df-container {\n",
              "      display:flex;\n",
              "      flex-wrap:wrap;\n",
              "      gap: 12px;\n",
              "    }\n",
              "\n",
              "    .colab-df-convert {\n",
              "      background-color: #E8F0FE;\n",
              "      border: none;\n",
              "      border-radius: 50%;\n",
              "      cursor: pointer;\n",
              "      display: none;\n",
              "      fill: #1967D2;\n",
              "      height: 32px;\n",
              "      padding: 0 0 0 0;\n",
              "      width: 32px;\n",
              "    }\n",
              "\n",
              "    .colab-df-convert:hover {\n",
              "      background-color: #E2EBFA;\n",
              "      box-shadow: 0px 1px 2px rgba(60, 64, 67, 0.3), 0px 1px 3px 1px rgba(60, 64, 67, 0.15);\n",
              "      fill: #174EA6;\n",
              "    }\n",
              "\n",
              "    [theme=dark] .colab-df-convert {\n",
              "      background-color: #3B4455;\n",
              "      fill: #D2E3FC;\n",
              "    }\n",
              "\n",
              "    [theme=dark] .colab-df-convert:hover {\n",
              "      background-color: #434B5C;\n",
              "      box-shadow: 0px 1px 3px 1px rgba(0, 0, 0, 0.15);\n",
              "      filter: drop-shadow(0px 1px 2px rgba(0, 0, 0, 0.3));\n",
              "      fill: #FFFFFF;\n",
              "    }\n",
              "  </style>\n",
              "\n",
              "      <script>\n",
              "        const buttonEl =\n",
              "          document.querySelector('#df-3e81a465-9726-47ec-b47d-5f05a6dc6fab button.colab-df-convert');\n",
              "        buttonEl.style.display =\n",
              "          google.colab.kernel.accessAllowed ? 'block' : 'none';\n",
              "\n",
              "        async function convertToInteractive(key) {\n",
              "          const element = document.querySelector('#df-3e81a465-9726-47ec-b47d-5f05a6dc6fab');\n",
              "          const dataTable =\n",
              "            await google.colab.kernel.invokeFunction('convertToInteractive',\n",
              "                                                     [key], {});\n",
              "          if (!dataTable) return;\n",
              "\n",
              "          const docLinkHtml = 'Like what you see? Visit the ' +\n",
              "            '<a target=\"_blank\" href=https://colab.research.google.com/notebooks/data_table.ipynb>data table notebook</a>'\n",
              "            + ' to learn more about interactive tables.';\n",
              "          element.innerHTML = '';\n",
              "          dataTable['output_type'] = 'display_data';\n",
              "          await google.colab.output.renderOutput(dataTable, element);\n",
              "          const docLink = document.createElement('div');\n",
              "          docLink.innerHTML = docLinkHtml;\n",
              "          element.appendChild(docLink);\n",
              "        }\n",
              "      </script>\n",
              "    </div>\n",
              "  </div>\n",
              "  "
            ]
          },
          "metadata": {},
          "execution_count": 81
        }
      ]
    },
    {
      "cell_type": "code",
      "source": [
        "# Exibe os tipos presentes na tabela\n",
        "df.dtypes"
      ],
      "metadata": {
        "colab": {
          "base_uri": "https://localhost:8080/"
        },
        "id": "ZsuOVYQxju2I",
        "outputId": "9ba5b806-dde9-4e02-d4e1-6db77582d19f"
      },
      "execution_count": 82,
      "outputs": [
        {
          "output_type": "execute_result",
          "data": {
            "text/plain": [
              "Data             object\n",
              "Hora             object\n",
              "ax                int64\n",
              "ay                int64\n",
              "az                int64\n",
              "gx                int64\n",
              "gy                int64\n",
              "gz                int64\n",
              "Comportamento     int64\n",
              "dtype: object"
            ]
          },
          "metadata": {},
          "execution_count": 82
        }
      ]
    },
    {
      "cell_type": "code",
      "source": [
        "# Imports\n",
        "from sklearn.model_selection import train_test_split\n",
        "from sklearn.metrics import accuracy_score, confusion_matrix, classification_report\n",
        "from sklearn.model_selection import cross_val_score\n",
        "from sklearn.model_selection import RandomizedSearchCV\n",
        "from skopt import gp_minimize"
      ],
      "metadata": {
        "id": "W_5BvzhLjwkj"
      },
      "execution_count": 83,
      "outputs": []
    },
    {
      "cell_type": "code",
      "source": [
        "# Exibe as colunas existentes\n",
        "df.columns"
      ],
      "metadata": {
        "colab": {
          "base_uri": "https://localhost:8080/"
        },
        "id": "sUCLRevdjyYy",
        "outputId": "2fc78115-a0c6-45f7-c6bf-18ea75dec20e"
      },
      "execution_count": 84,
      "outputs": [
        {
          "output_type": "execute_result",
          "data": {
            "text/plain": [
              "Index(['Data', 'Hora', 'ax', 'ay', 'az', 'gx', 'gy', 'gz', 'Comportamento'], dtype='object')"
            ]
          },
          "metadata": {},
          "execution_count": 84
        }
      ]
    },
    {
      "cell_type": "code",
      "source": [
        "# Lista com os atributos aplicáveis - colunas\n",
        "features_aplicaveis = ['ax', 'ay' ,'az', 'gx', 'gy', 'gz', 'Comportamento']"
      ],
      "metadata": {
        "id": "JnPMF9TNj0Mk"
      },
      "execution_count": 85,
      "outputs": []
    },
    {
      "cell_type": "code",
      "source": [
        "# Seleciona os abributos correspondentes da lista features_aplicaveis\n",
        "df = df[features_aplicaveis]"
      ],
      "metadata": {
        "id": "SL6TgTCBj2Pz"
      },
      "execution_count": 86,
      "outputs": []
    },
    {
      "cell_type": "code",
      "source": [
        "def imprimir_quantidade_dados(X_train, X_test):\n",
        "    print(10*\"-\",\" Quantidade de dados \",  10*\"-\")\n",
        "    \n",
        "    print('Treino: ', X_train.shape[0])\n",
        "    print('Teste: ', X_test.shape[0])\n",
        "    \n",
        "    print(43*\"-\")"
      ],
      "metadata": {
        "id": "dG4UTZrzj3-i"
      },
      "execution_count": 87,
      "outputs": []
    },
    {
      "cell_type": "code",
      "source": [
        "y = df.Comportamento\n",
        "X = df.drop('Comportamento', axis=1)\n",
        "\n",
        "# Conjunto de dados PRO: Pastejando x Ruminando x Ócio\n",
        "X_train, X_test, y_train, y_test = train_test_split(X, y, train_size=0.8, random_state = 0, stratify=y)"
      ],
      "metadata": {
        "id": "PdiV7v5Bj5wT"
      },
      "execution_count": 88,
      "outputs": []
    },
    {
      "cell_type": "code",
      "source": [
        "imprimir_quantidade_dados(X_train, X_test)"
      ],
      "metadata": {
        "colab": {
          "base_uri": "https://localhost:8080/"
        },
        "id": "jYXW9Effj7q9",
        "outputId": "980796bf-82c9-4925-a25e-7ecb287c88b1"
      },
      "execution_count": 89,
      "outputs": [
        {
          "output_type": "stream",
          "name": "stdout",
          "text": [
            "----------  Quantidade de dados  ----------\n",
            "Treino:  6306\n",
            "Teste:  1577\n",
            "-------------------------------------------\n"
          ]
        }
      ]
    },
    {
      "cell_type": "code",
      "source": [
        "# Função para imprimir e salvar matriz de confusão\n",
        "def imprimeMatrizDeConfusão(y_test, preds, model, salvarFigura = False):\n",
        "    from sklearn.metrics import confusion_matrix\n",
        "    from sklearn.metrics import ConfusionMatrixDisplay\n",
        "    import matplotlib.pyplot as plt\n",
        "\n",
        "    cm = confusion_matrix(y_test, preds, normalize='true')\n",
        "    disp = ConfusionMatrixDisplay(confusion_matrix=cm, display_labels=model.classes_)\n",
        "    disp.plot(values_format= '.2%', xticks_rotation=60, colorbar=False)\n",
        "    disp.ax_.set_title(\"Matriz de confusão normalizada sobre as condições verdadeiras\")\n",
        "    if(salvarFigura):\n",
        "        plt.savefig(input('Nome da figura a ser salva:' ) + '.png')\n",
        "    plt.show()"
      ],
      "metadata": {
        "id": "l0lLWXX4kDOn"
      },
      "execution_count": 90,
      "outputs": []
    },
    {
      "cell_type": "code",
      "source": [
        "from sklearn.metrics import classification_report\n",
        "\n",
        "def classification_report_extendido(y_true: np.array, y_pred: np.array, classes: set = None):\n",
        "    report = classification_report(y_true, y_pred, output_dict=True, zero_division=0)\n",
        "    \n",
        "    if classes is None: # Determina classes pelos valores\n",
        "        classes = set(np.concatenate((np.unique(y_true), np.unique(y_pred))))\n",
        "    for cls in classes:\n",
        "        y_true_cls = (y_true == cls).astype(int)\n",
        "        y_pred_cls = (y_pred == cls).astype(int)\n",
        "\n",
        "        fp = sum(y_pred_cls[y_true_cls != 1])\n",
        "        tn = sum(y_pred_cls[y_true_cls == 0] == False)\n",
        "        fn = sum(y_pred_cls[y_true_cls == 1] == False)\n",
        "\n",
        "        \n",
        "        specificity_val = tn / (tn + fp)\n",
        "        report[cls]['specificity'] = specificity_val\n",
        "        npv_val = tn / (tn + fn)\n",
        "        report[cls]['npv'] = npv_val\n",
        "        \n",
        "    return report"
      ],
      "metadata": {
        "id": "Ms91VNFykEpf"
      },
      "execution_count": 91,
      "outputs": []
    },
    {
      "cell_type": "code",
      "source": [
        "# imports\n",
        "from sklearn.ensemble import RandomForestClassifier"
      ],
      "metadata": {
        "id": "k4AsVBKUkIiJ"
      },
      "execution_count": 92,
      "outputs": []
    },
    {
      "cell_type": "code",
      "source": [
        "rf_Model = RandomForestClassifier(random_state=0, n_jobs=-1)"
      ],
      "metadata": {
        "id": "YcTRf4qkkJ2H"
      },
      "execution_count": 93,
      "outputs": []
    },
    {
      "cell_type": "code",
      "source": [
        "# criação de um grid\n",
        "rf_param_grid = {'n_estimators':  np.arange(50, 250, 50),\n",
        "               'max_features': ['auto', 'sqrt'],\n",
        "               'max_depth':[50, 100, 150, None],\n",
        "               'criterion': ['gini', 'entropy'],\n",
        "               'min_samples_split': [2, 5, 10, 30, 50],\n",
        "               'min_samples_leaf': [1, 2],\n",
        "               'bootstrap': [True, False]}"
      ],
      "metadata": {
        "id": "swvUOm4XkLfK"
      },
      "execution_count": 94,
      "outputs": []
    },
    {
      "cell_type": "code",
      "source": [
        "rf_RandomGrid = RandomizedSearchCV(estimator = rf_Model, param_distributions = rf_param_grid, cv = 3, verbose=1, random_state=0)"
      ],
      "metadata": {
        "id": "dNfLaCpZkNPv"
      },
      "execution_count": 95,
      "outputs": []
    },
    {
      "cell_type": "code",
      "source": [
        "def tune_rf(params):\n",
        "    n_estimators = params[0]\n",
        "    max_features = params[1]\n",
        "    max_depth = params[2]\n",
        "    criterion = params[3]\n",
        "    min_samples_split = params[4]\n",
        "    min_samples_leaf = params[5]\n",
        "    bootstrap = params[6]\n",
        "    \n",
        "    print(params, '\\n')\n",
        "    \n",
        "    rf_Model = RandomForestClassifier(n_estimators=n_estimators, max_features=max_features, max_depth=max_depth, criterion=criterion, min_samples_split=min_samples_split,\n",
        "                                       min_samples_leaf = min_samples_leaf, bootstrap=bootstrap, random_state=0, n_jobs=-1)\n",
        "    \n",
        "    auc = cross_val_score(rf_Model, X_train, y_train, cv=3, scoring ='accuracy')\n",
        "    \n",
        "    return -auc.mean()\n",
        "\n",
        "space = [ np.arange(50, 250, 50), # n_estimators\n",
        "         ['auto', 'sqrt'], # max_features\n",
        "         [50, 100, 150, None], # max_depth\n",
        "         ['gini', 'entropy'], # criterion\n",
        "         [2, 5, 10, 30, 50], # min_samples_split\n",
        "         [1,2,4], # min_samples_leaf\n",
        "         [True, False]] # bootstrap] "
      ],
      "metadata": {
        "id": "Yb1Nd2W0kQKn"
      },
      "execution_count": 96,
      "outputs": []
    },
    {
      "cell_type": "code",
      "source": [
        "%%time\n",
        "from skopt import forest_minimize\n",
        "resultado_rf = gp_minimize(tune_rf, space, random_state=0, verbose=1, n_calls=30, n_random_starts=15, n_jobs=-1)"
      ],
      "metadata": {
        "colab": {
          "base_uri": "https://localhost:8080/"
        },
        "id": "mBfCOmxtkShu",
        "outputId": "b07b9b32-be08-4a22-a699-1df91138c4f1"
      },
      "execution_count": 97,
      "outputs": [
        {
          "output_type": "stream",
          "name": "stdout",
          "text": [
            "Iteration No: 1 started. Evaluating function at random point.\n",
            "[150, 'sqrt', None, 'gini', 10, 2, False] \n",
            "\n",
            "Iteration No: 1 ended. Evaluation done at random point.\n",
            "Time taken: 7.1835\n",
            "Function value obtained: -0.8993\n",
            "Current minimum: -0.8993\n",
            "Iteration No: 2 started. Evaluating function at random point.\n",
            "[50, 'auto', 100, 'gini', 10, 2, True] \n",
            "\n",
            "Iteration No: 2 ended. Evaluation done at random point.\n",
            "Time taken: 1.6566\n",
            "Function value obtained: -0.8984\n",
            "Current minimum: -0.8993\n",
            "Iteration No: 3 started. Evaluating function at random point.\n",
            "[100, 'sqrt', 100, 'gini', 5, 4, False] \n",
            "\n",
            "Iteration No: 3 ended. Evaluation done at random point.\n",
            "Time taken: 3.4122\n",
            "Function value obtained: -0.8988\n",
            "Current minimum: -0.8993\n",
            "Iteration No: 4 started. Evaluating function at random point.\n",
            "[150, 'sqrt', 150, 'gini', 10, 2, True] \n",
            "\n",
            "Iteration No: 4 ended. Evaluation done at random point.\n",
            "Time taken: 4.3161\n",
            "Function value obtained: -0.8984\n",
            "Current minimum: -0.8993\n",
            "Iteration No: 5 started. Evaluating function at random point.\n",
            "[50, 'auto', 100, 'gini', 5, 1, False] \n",
            "\n",
            "Iteration No: 5 ended. Evaluation done at random point.\n",
            "Time taken: 3.0387\n",
            "Function value obtained: -0.8976\n",
            "Current minimum: -0.8993\n",
            "Iteration No: 6 started. Evaluating function at random point.\n",
            "[50, 'auto', 100, 'gini', 10, 2, True] \n",
            "\n",
            "Iteration No: 6 ended. Evaluation done at random point.\n",
            "Time taken: 1.1686\n",
            "Function value obtained: -0.8984\n",
            "Current minimum: -0.8993\n",
            "Iteration No: 7 started. Evaluating function at random point.\n",
            "[50, 'sqrt', 150, 'entropy', 5, 4, True] \n",
            "\n",
            "Iteration No: 7 ended. Evaluation done at random point.\n",
            "Time taken: 1.2773\n",
            "Function value obtained: -0.8991\n",
            "Current minimum: -0.8993\n",
            "Iteration No: 8 started. Evaluating function at random point.\n",
            "[100, 'auto', 150, 'gini', 30, 2, True] \n",
            "\n",
            "Iteration No: 8 ended. Evaluation done at random point.\n",
            "Time taken: 2.0710\n",
            "Function value obtained: -0.8998\n",
            "Current minimum: -0.8998\n",
            "Iteration No: 9 started. Evaluating function at random point.\n",
            "[150, 'auto', 100, 'gini', 5, 2, False] \n",
            "\n",
            "Iteration No: 9 ended. Evaluation done at random point.\n",
            "Time taken: 6.0132\n",
            "Function value obtained: -0.8995\n",
            "Current minimum: -0.8998\n",
            "Iteration No: 10 started. Evaluating function at random point.\n",
            "[150, 'sqrt', 150, 'entropy', 10, 2, True] \n",
            "\n",
            "Iteration No: 10 ended. Evaluation done at random point.\n",
            "Time taken: 4.7044\n",
            "Function value obtained: -0.9020\n",
            "Current minimum: -0.9020\n",
            "Iteration No: 11 started. Evaluating function at random point.\n",
            "[200, 'sqrt', 50, 'entropy', 2, 2, True] \n",
            "\n",
            "Iteration No: 11 ended. Evaluation done at random point.\n",
            "Time taken: 5.7059\n",
            "Function value obtained: -0.9004\n",
            "Current minimum: -0.9020\n",
            "Iteration No: 12 started. Evaluating function at random point.\n",
            "[100, 'auto', 150, 'gini', 50, 1, True] \n",
            "\n",
            "Iteration No: 12 ended. Evaluation done at random point.\n",
            "Time taken: 2.1090\n",
            "Function value obtained: -0.8968\n",
            "Current minimum: -0.9020\n",
            "Iteration No: 13 started. Evaluating function at random point.\n",
            "[200, 'sqrt', None, 'gini', 2, 2, False] \n",
            "\n",
            "Iteration No: 13 ended. Evaluation done at random point.\n",
            "Time taken: 9.8005\n",
            "Function value obtained: -0.8977\n",
            "Current minimum: -0.9020\n",
            "Iteration No: 14 started. Evaluating function at random point.\n",
            "[200, 'sqrt', None, 'entropy', 10, 2, False] \n",
            "\n",
            "Iteration No: 14 ended. Evaluation done at random point.\n",
            "Time taken: 8.5762\n",
            "Function value obtained: -0.9001\n",
            "Current minimum: -0.9020\n",
            "Iteration No: 15 started. Evaluating function at random point.\n",
            "[100, 'auto', 150, 'gini', 5, 2, True] \n",
            "\n",
            "Iteration No: 15 ended. Evaluation done at random point.\n",
            "Time taken: 2.8714\n",
            "Function value obtained: -0.9004\n",
            "Current minimum: -0.9020\n",
            "Iteration No: 16 started. Searching for the next optimal point.\n",
            "[150, 'auto', 100, 'entropy', 10, 1, False] \n",
            "\n",
            "Iteration No: 16 ended. Search finished for the next optimal point.\n",
            "Time taken: 6.1338\n",
            "Function value obtained: -0.8974\n",
            "Current minimum: -0.9020\n",
            "Iteration No: 17 started. Searching for the next optimal point.\n",
            "[150, 'sqrt', 100, 'entropy', 5, 2, True] \n",
            "\n",
            "Iteration No: 17 ended. Search finished for the next optimal point.\n",
            "Time taken: 6.1438\n",
            "Function value obtained: -0.9006\n",
            "Current minimum: -0.9020\n",
            "Iteration No: 18 started. Searching for the next optimal point.\n",
            "[150, 'sqrt', 100, 'entropy', 10, 1, False] \n",
            "\n",
            "Iteration No: 18 ended. Search finished for the next optimal point.\n",
            "Time taken: 6.0539\n",
            "Function value obtained: -0.8974\n",
            "Current minimum: -0.9020\n",
            "Iteration No: 19 started. Searching for the next optimal point.\n",
            "[150, 'auto', 50, 'entropy', 30, 4, False] \n",
            "\n",
            "Iteration No: 19 ended. Search finished for the next optimal point.\n",
            "Time taken: 7.3328\n",
            "Function value obtained: -0.8987\n",
            "Current minimum: -0.9020\n",
            "Iteration No: 20 started. Searching for the next optimal point.\n",
            "[150, 'auto', None, 'gini', 10, 4, True] \n",
            "\n",
            "Iteration No: 20 ended. Search finished for the next optimal point.\n",
            "Time taken: 3.9967\n",
            "Function value obtained: -0.8998\n",
            "Current minimum: -0.9020\n",
            "Iteration No: 21 started. Searching for the next optimal point.\n",
            "[100, 'auto', 150, 'entropy', 30, 2, True] \n",
            "\n",
            "Iteration No: 21 ended. Search finished for the next optimal point.\n",
            "Time taken: 3.0942\n",
            "Function value obtained: -0.8988\n",
            "Current minimum: -0.9020\n",
            "Iteration No: 22 started. Searching for the next optimal point.\n",
            "[50, 'sqrt', 50, 'entropy', 10, 2, True] \n",
            "\n",
            "Iteration No: 22 ended. Search finished for the next optimal point.\n",
            "Time taken: 2.3442\n",
            "Function value obtained: -0.8977\n",
            "Current minimum: -0.9020\n",
            "Iteration No: 23 started. Searching for the next optimal point.\n",
            "[150, 'auto', 150, 'entropy', 10, 2, False] \n",
            "\n",
            "Iteration No: 23 ended. Search finished for the next optimal point.\n",
            "Time taken: 7.3334\n",
            "Function value obtained: -0.9004\n",
            "Current minimum: -0.9020\n",
            "Iteration No: 24 started. Searching for the next optimal point.\n",
            "[100, 'sqrt', 150, 'entropy', 5, 1, False] \n",
            "\n",
            "Iteration No: 24 ended. Search finished for the next optimal point.\n",
            "Time taken: 4.4726\n",
            "Function value obtained: -0.8985\n",
            "Current minimum: -0.9020\n",
            "Iteration No: 25 started. Searching for the next optimal point.\n",
            "[200, 'sqrt', 50, 'gini', 10, 4, False] \n",
            "\n",
            "Iteration No: 25 ended. Search finished for the next optimal point.\n",
            "Time taken: 8.0872\n",
            "Function value obtained: -0.8985\n",
            "Current minimum: -0.9020\n",
            "Iteration No: 26 started. Searching for the next optimal point.\n",
            "[50, 'auto', 150, 'entropy', 10, 1, False] \n",
            "\n",
            "Iteration No: 26 ended. Search finished for the next optimal point.\n",
            "Time taken: 2.6198\n",
            "Function value obtained: -0.8984\n",
            "Current minimum: -0.9020\n",
            "Iteration No: 27 started. Searching for the next optimal point.\n",
            "[100, 'auto', 50, 'entropy', 2, 4, False] \n",
            "\n",
            "Iteration No: 27 ended. Search finished for the next optimal point.\n",
            "Time taken: 4.2669\n",
            "Function value obtained: -0.8988\n",
            "Current minimum: -0.9020\n",
            "Iteration No: 28 started. Searching for the next optimal point.\n",
            "[100, 'sqrt', 150, 'gini', 30, 1, False] \n",
            "\n",
            "Iteration No: 28 ended. Search finished for the next optimal point.\n",
            "Time taken: 5.6003\n",
            "Function value obtained: -0.8987\n",
            "Current minimum: -0.9020\n",
            "Iteration No: 29 started. Searching for the next optimal point.\n",
            "[200, 'sqrt', 150, 'entropy', 30, 1, True] \n",
            "\n",
            "Iteration No: 29 ended. Search finished for the next optimal point.\n",
            "Time taken: 5.4138\n",
            "Function value obtained: -0.8982\n",
            "Current minimum: -0.9020\n",
            "Iteration No: 30 started. Searching for the next optimal point.\n",
            "[150, 'sqrt', 150, 'entropy', 30, 2, True] \n",
            "\n",
            "Iteration No: 30 ended. Search finished for the next optimal point.\n",
            "Time taken: 5.3403\n",
            "Function value obtained: -0.8993\n",
            "Current minimum: -0.9020\n",
            "CPU times: user 33.4 s, sys: 6.33 s, total: 39.7 s\n",
            "Wall time: 2min 22s\n"
          ]
        }
      ]
    },
    {
      "cell_type": "code",
      "source": [
        "# Retorna o melhor hiperparametro\n",
        "# Em ordem: n_estimators, max_features, max_depth, criterion, min_samples_split, min_samples_leaf, bootstrap\n",
        "resultado_rf.x"
      ],
      "metadata": {
        "colab": {
          "base_uri": "https://localhost:8080/"
        },
        "id": "tMGc4mqVkVTG",
        "outputId": "89e1f228-4b7a-4382-edd0-e07de28d812d"
      },
      "execution_count": 98,
      "outputs": [
        {
          "output_type": "execute_result",
          "data": {
            "text/plain": [
              "[150, 'sqrt', 150, 'entropy', 10, 2, True]"
            ]
          },
          "metadata": {},
          "execution_count": 98
        }
      ]
    },
    {
      "cell_type": "code",
      "source": [
        "from skopt.plots import plot_convergence\n",
        "plot_convergence(resultado_rf)"
      ],
      "metadata": {
        "colab": {
          "base_uri": "https://localhost:8080/",
          "height": 314
        },
        "id": "EVRh3oWbkXKB",
        "outputId": "812997bc-5be0-448d-d939-d9dfc4f003fc"
      },
      "execution_count": 99,
      "outputs": [
        {
          "output_type": "execute_result",
          "data": {
            "text/plain": [
              "<matplotlib.axes._subplots.AxesSubplot at 0x7f5083ec6fd0>"
            ]
          },
          "metadata": {},
          "execution_count": 99
        },
        {
          "output_type": "display_data",
          "data": {
            "text/plain": [
              "<Figure size 432x288 with 1 Axes>"
            ],
            "image/png": "[encoded data removed]"
          },
          "metadata": {
            "needs_background": "light"
          }
        }
      ]
    },
    {
      "cell_type": "code",
      "source": [
        "# Inserir manualmente os melhores hiperparametros\n",
        "%%time\n",
        "rf_model = RandomForestClassifier(n_estimators=150, max_features='sqrt', max_depth=150, criterion='entropy',\n",
        "                                  min_samples_split=10, min_samples_leaf=2 , bootstrap=True, random_state=0, n_jobs=-1)\n",
        "rf_model.fit(X_train, y_train)\n",
        "preds = rf_model.predict(X_test)"
      ],
      "metadata": {
        "colab": {
          "base_uri": "https://localhost:8080/"
        },
        "id": "oST5ZCWdkZlA",
        "outputId": "e30b5d16-c756-479a-e5a2-89150c1f077f"
      },
      "execution_count": 100,
      "outputs": [
        {
          "output_type": "stream",
          "name": "stdout",
          "text": [
            "CPU times: user 3.2 s, sys: 27.5 ms, total: 3.23 s\n",
            "Wall time: 2.09 s\n"
          ]
        }
      ]
    },
    {
      "cell_type": "code",
      "source": [
        "# Retorna a acurácia\n",
        "accuracy_score(y_test, preds)*100"
      ],
      "metadata": {
        "colab": {
          "base_uri": "https://localhost:8080/"
        },
        "id": "ydhz22W3kcne",
        "outputId": "d7e09f74-8b69-42fb-fc0f-919a7d640da9"
      },
      "execution_count": 101,
      "outputs": [
        {
          "output_type": "execute_result",
          "data": {
            "text/plain": [
              "89.85415345592898"
            ]
          },
          "metadata": {},
          "execution_count": 101
        }
      ]
    },
    {
      "cell_type": "code",
      "source": [
        "# Retorna a tabela com alguns resultados\n",
        "# digits= define quantidade de casas após a virgula\n",
        "print(classification_report(y_test, preds, digits=4))"
      ],
      "metadata": {
        "colab": {
          "base_uri": "https://localhost:8080/"
        },
        "id": "XJzjfKcDkd-P",
        "outputId": "22353b4e-02c5-4472-cadd-6516450050d1"
      },
      "execution_count": 102,
      "outputs": [
        {
          "output_type": "stream",
          "name": "stdout",
          "text": [
            "              precision    recall  f1-score   support\n",
            "\n",
            "           1     0.8499    0.8401    0.8450       519\n",
            "           2     0.9220    0.9272    0.9246      1058\n",
            "\n",
            "    accuracy                         0.8985      1577\n",
            "   macro avg     0.8859    0.8836    0.8848      1577\n",
            "weighted avg     0.8983    0.8985    0.8984      1577\n",
            "\n"
          ]
        }
      ]
    },
    {
      "cell_type": "code",
      "source": [
        "imprimeMatrizDeConfusão(y_test, preds, rf_model)"
      ],
      "metadata": {
        "colab": {
          "base_uri": "https://localhost:8080/",
          "height": 296
        },
        "id": "ReUDfmuvkfiN",
        "outputId": "64446224-8aa1-4e1b-d5b5-109842271ab0"
      },
      "execution_count": 103,
      "outputs": [
        {
          "output_type": "display_data",
          "data": {
            "text/plain": [
              "<Figure size 432x288 with 1 Axes>"
            ],
            "image/png": "[encoded data removed]"
          },
          "metadata": {
            "needs_background": "light"
          }
        }
      ]
    }
  ]
}