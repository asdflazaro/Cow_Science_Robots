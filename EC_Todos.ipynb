{
  "nbformat": 4,
  "nbformat_minor": 0,
  "metadata": {
    "colab": {
      "provenance": [],
      "authorship_tag": "ABX9TyNc/xuHaQxSunLiJyviECxh",
      "include_colab_link": true
    },
    "kernelspec": {
      "name": "python3",
      "display_name": "Python 3"
    },
    "language_info": {
      "name": "python"
    }
  },
  "cells": [
    {
      "cell_type": "markdown",
      "metadata": {
        "id": "view-in-github",
        "colab_type": "text"
      },
      "source": [
        "<a href=\"https://colab.research.google.com/github/asdflazaro/Cow_Science_Robots/blob/main/EC_Todos.ipynb\" target=\"_parent\"><img src=\"https://colab.research.google.com/assets/colab-badge.svg\" alt=\"Open In Colab\"/></a>"
      ]
    },
    {
      "cell_type": "code",
      "execution_count": 44,
      "metadata": {
        "id": "gBZYjiAhbLxU"
      },
      "outputs": [],
      "source": [
        "import pandas as pd\n",
        "import sklearn.ensemble\n",
        "import sklearn.metrics\n",
        "import sklearn.model_selection\n",
        "from sklearn.model_selection import train_test_split"
      ]
    },
    {
      "cell_type": "code",
      "source": [
        "dados = pd.read_csv('Tabela.all.csv', delimiter = ';')\n",
        "\n",
        "dados.head()"
      ],
      "metadata": {
        "colab": {
          "base_uri": "https://localhost:8080/",
          "height": 206
        },
        "id": "V-zA1_7pb5V2",
        "outputId": "b9869e9e-725a-446a-80c3-d45e4fa5a1b8"
      },
      "execution_count": 45,
      "outputs": [
        {
          "output_type": "execute_result",
          "data": {
            "text/plain": [
              "         Data      Hora     ax    ay     az    gx    gy   gz   Comportamento\n",
              "0  27/01/2023  04:45:00  11669  5323   6348  1695  2941 -2270              1\n",
              "1  27/01/2023  04:45:01  11130  7025   7761 -2178 -1819  2134              1\n",
              "2  27/01/2023  04:45:02  10120  6610  10145 -2487   185  1868              1\n",
              "3  27/01/2023  04:45:03  13629  3053   7777  -837 -4725 -3067              1\n",
              "4  27/01/2023  04:45:04  13537  3296   7080  1245 -2580   571              1"
            ],
            "text/html": [
              "\n",
              "  <div id=\"df-88df4d04-73f2-497c-9cd0-bea040dad710\">\n",
              "    <div class=\"colab-df-container\">\n",
              "      <div>\n",
              "<style scoped>\n",
              "    .dataframe tbody tr th:only-of-type {\n",
              "        vertical-align: middle;\n",
              "    }\n",
              "\n",
              "    .dataframe tbody tr th {\n",
              "        vertical-align: top;\n",
              "    }\n",
              "\n",
              "    .dataframe thead th {\n",
              "        text-align: right;\n",
              "    }\n",
              "</style>\n",
              "<table border=\"1\" class=\"dataframe\">\n",
              "  <thead>\n",
              "    <tr style=\"text-align: right;\">\n",
              "      <th></th>\n",
              "      <th>Data</th>\n",
              "      <th>Hora</th>\n",
              "      <th>ax</th>\n",
              "      <th>ay</th>\n",
              "      <th>az</th>\n",
              "      <th>gx</th>\n",
              "      <th>gy</th>\n",
              "      <th>gz</th>\n",
              "      <th>Comportamento</th>\n",
              "    </tr>\n",
              "  </thead>\n",
              "  <tbody>\n",
              "    <tr>\n",
              "      <th>0</th>\n",
              "      <td>27/01/2023</td>\n",
              "      <td>04:45:00</td>\n",
              "      <td>11669</td>\n",
              "      <td>5323</td>\n",
              "      <td>6348</td>\n",
              "      <td>1695</td>\n",
              "      <td>2941</td>\n",
              "      <td>-2270</td>\n",
              "      <td>1</td>\n",
              "    </tr>\n",
              "    <tr>\n",
              "      <th>1</th>\n",
              "      <td>27/01/2023</td>\n",
              "      <td>04:45:01</td>\n",
              "      <td>11130</td>\n",
              "      <td>7025</td>\n",
              "      <td>7761</td>\n",
              "      <td>-2178</td>\n",
              "      <td>-1819</td>\n",
              "      <td>2134</td>\n",
              "      <td>1</td>\n",
              "    </tr>\n",
              "    <tr>\n",
              "      <th>2</th>\n",
              "      <td>27/01/2023</td>\n",
              "      <td>04:45:02</td>\n",
              "      <td>10120</td>\n",
              "      <td>6610</td>\n",
              "      <td>10145</td>\n",
              "      <td>-2487</td>\n",
              "      <td>185</td>\n",
              "      <td>1868</td>\n",
              "      <td>1</td>\n",
              "    </tr>\n",
              "    <tr>\n",
              "      <th>3</th>\n",
              "      <td>27/01/2023</td>\n",
              "      <td>04:45:03</td>\n",
              "      <td>13629</td>\n",
              "      <td>3053</td>\n",
              "      <td>7777</td>\n",
              "      <td>-837</td>\n",
              "      <td>-4725</td>\n",
              "      <td>-3067</td>\n",
              "      <td>1</td>\n",
              "    </tr>\n",
              "    <tr>\n",
              "      <th>4</th>\n",
              "      <td>27/01/2023</td>\n",
              "      <td>04:45:04</td>\n",
              "      <td>13537</td>\n",
              "      <td>3296</td>\n",
              "      <td>7080</td>\n",
              "      <td>1245</td>\n",
              "      <td>-2580</td>\n",
              "      <td>571</td>\n",
              "      <td>1</td>\n",
              "    </tr>\n",
              "  </tbody>\n",
              "</table>\n",
              "</div>\n",
              "      <button class=\"colab-df-convert\" onclick=\"convertToInteractive('df-88df4d04-73f2-497c-9cd0-bea040dad710')\"\n",
              "              title=\"Convert this dataframe to an interactive table.\"\n",
              "              style=\"display:none;\">\n",
              "        \n",
              "  <svg xmlns=\"http://www.w3.org/2000/svg\" height=\"24px\"viewBox=\"0 0 24 24\"\n",
              "       width=\"24px\">\n",
              "    <path d=\"M0 0h24v24H0V0z\" fill=\"none\"/>\n",
              "    <path d=\"M18.56 5.44l.94 2.06.94-2.06 2.06-.94-2.06-.94-.94-2.06-.94 2.06-2.06.94zm-11 1L8.5 8.5l.94-2.06 2.06-.94-2.06-.94L8.5 2.5l-.94 2.06-2.06.94zm10 10l.94 2.06.94-2.06 2.06-.94-2.06-.94-.94-2.06-.94 2.06-2.06.94z\"/><path d=\"M17.41 7.96l-1.37-1.37c-.4-.4-.92-.59-1.43-.59-.52 0-1.04.2-1.43.59L10.3 9.45l-7.72 7.72c-.78.78-.78 2.05 0 2.83L4 21.41c.39.39.9.59 1.41.59.51 0 1.02-.2 1.41-.59l7.78-7.78 2.81-2.81c.8-.78.8-2.07 0-2.86zM5.41 20L4 18.59l7.72-7.72 1.47 1.35L5.41 20z\"/>\n",
              "  </svg>\n",
              "      </button>\n",
              "      \n",
              "  <style>\n",
              "    .colab-df-container {\n",
              "      display:flex;\n",
              "      flex-wrap:wrap;\n",
              "      gap: 12px;\n",
              "    }\n",
              "\n",
              "    .colab-df-convert {\n",
              "      background-color: #E8F0FE;\n",
              "      border: none;\n",
              "      border-radius: 50%;\n",
              "      cursor: pointer;\n",
              "      display: none;\n",
              "      fill: #1967D2;\n",
              "      height: 32px;\n",
              "      padding: 0 0 0 0;\n",
              "      width: 32px;\n",
              "    }\n",
              "\n",
              "    .colab-df-convert:hover {\n",
              "      background-color: #E2EBFA;\n",
              "      box-shadow: 0px 1px 2px rgba(60, 64, 67, 0.3), 0px 1px 3px 1px rgba(60, 64, 67, 0.15);\n",
              "      fill: #174EA6;\n",
              "    }\n",
              "\n",
              "    [theme=dark] .colab-df-convert {\n",
              "      background-color: #3B4455;\n",
              "      fill: #D2E3FC;\n",
              "    }\n",
              "\n",
              "    [theme=dark] .colab-df-convert:hover {\n",
              "      background-color: #434B5C;\n",
              "      box-shadow: 0px 1px 3px 1px rgba(0, 0, 0, 0.15);\n",
              "      filter: drop-shadow(0px 1px 2px rgba(0, 0, 0, 0.3));\n",
              "      fill: #FFFFFF;\n",
              "    }\n",
              "  </style>\n",
              "\n",
              "      <script>\n",
              "        const buttonEl =\n",
              "          document.querySelector('#df-88df4d04-73f2-497c-9cd0-bea040dad710 button.colab-df-convert');\n",
              "        buttonEl.style.display =\n",
              "          google.colab.kernel.accessAllowed ? 'block' : 'none';\n",
              "\n",
              "        async function convertToInteractive(key) {\n",
              "          const element = document.querySelector('#df-88df4d04-73f2-497c-9cd0-bea040dad710');\n",
              "          const dataTable =\n",
              "            await google.colab.kernel.invokeFunction('convertToInteractive',\n",
              "                                                     [key], {});\n",
              "          if (!dataTable) return;\n",
              "\n",
              "          const docLinkHtml = 'Like what you see? Visit the ' +\n",
              "            '<a target=\"_blank\" href=https://colab.research.google.com/notebooks/data_table.ipynb>data table notebook</a>'\n",
              "            + ' to learn more about interactive tables.';\n",
              "          element.innerHTML = '';\n",
              "          dataTable['output_type'] = 'display_data';\n",
              "          await google.colab.output.renderOutput(dataTable, element);\n",
              "          const docLink = document.createElement('div');\n",
              "          docLink.innerHTML = docLinkHtml;\n",
              "          element.appendChild(docLink);\n",
              "        }\n",
              "      </script>\n",
              "    </div>\n",
              "  </div>\n",
              "  "
            ]
          },
          "metadata": {},
          "execution_count": 45
        }
      ]
    },
    {
      "cell_type": "code",
      "source": [
        "dados.dtypes"
      ],
      "metadata": {
        "colab": {
          "base_uri": "https://localhost:8080/"
        },
        "id": "Ovd2N_lhiuGD",
        "outputId": "362452ff-abff-4343-a8d7-a47142389e86"
      },
      "execution_count": 46,
      "outputs": [
        {
          "output_type": "execute_result",
          "data": {
            "text/plain": [
              "Data             object\n",
              "Hora             object\n",
              "ax                int64\n",
              "ay                int64\n",
              "az                int64\n",
              "gx                int64\n",
              "gy                int64\n",
              "gz                int64\n",
              "Comportamento     int64\n",
              "dtype: object"
            ]
          },
          "metadata": {},
          "execution_count": 46
        }
      ]
    },
    {
      "cell_type": "code",
      "source": [
        "dados.shape"
      ],
      "metadata": {
        "colab": {
          "base_uri": "https://localhost:8080/"
        },
        "id": "psjCeFbki52e",
        "outputId": "e7cf1741-9467-4e62-8847-22cb9f8b0281"
      },
      "execution_count": 47,
      "outputs": [
        {
          "output_type": "execute_result",
          "data": {
            "text/plain": [
              "(78621, 9)"
            ]
          },
          "metadata": {},
          "execution_count": 47
        }
      ]
    },
    {
      "cell_type": "code",
      "source": [
        "variaveis = ['ax','ay','az','gx','gy', 'gz ']"
      ],
      "metadata": {
        "id": "-Foq1iuEoMPc"
      },
      "execution_count": 48,
      "outputs": []
    },
    {
      "cell_type": "code",
      "source": [
        "x = dados[variaveis]\n",
        "y = dados['Comportamento']"
      ],
      "metadata": {
        "id": "eaA0WWoroyn6"
      },
      "execution_count": 49,
      "outputs": []
    },
    {
      "cell_type": "code",
      "source": [
        "X_train, X_test, y_train, y_test = train_test_split(x, y, test_size=0.3, shuffle=True, random_state=0)"
      ],
      "metadata": {
        "id": "st8hjJz1o_JR"
      },
      "execution_count": 50,
      "outputs": []
    },
    {
      "cell_type": "code",
      "source": [
        "y_train.value_counts(normalize=True)*100"
      ],
      "metadata": {
        "colab": {
          "base_uri": "https://localhost:8080/"
        },
        "id": "uH33y-s_ttfM",
        "outputId": "fa72c49f-4302-47a5-b756-5fabe533cc22"
      },
      "execution_count": 51,
      "outputs": [
        {
          "output_type": "execute_result",
          "data": {
            "text/plain": [
              "1    32.877857\n",
              "4    22.698695\n",
              "2    17.598212\n",
              "3    16.209979\n",
              "5    10.615256\n",
              "Name: Comportamento, dtype: float64"
            ]
          },
          "metadata": {},
          "execution_count": 51
        }
      ]
    },
    {
      "cell_type": "code",
      "source": [
        "y_test.value_counts(normalize=True)*100"
      ],
      "metadata": {
        "colab": {
          "base_uri": "https://localhost:8080/"
        },
        "id": "TP0mFPplt0km",
        "outputId": "a4419f96-6929-451d-8f00-95c908c39ae9"
      },
      "execution_count": 52,
      "outputs": [
        {
          "output_type": "execute_result",
          "data": {
            "text/plain": [
              "1    32.505194\n",
              "4    23.008437\n",
              "2    17.950566\n",
              "3    15.940984\n",
              "5    10.594819\n",
              "Name: Comportamento, dtype: float64"
            ]
          },
          "metadata": {},
          "execution_count": 52
        }
      ]
    },
    {
      "cell_type": "code",
      "source": [
        "from sklearn.model_selection import cross_val_score\n",
        "from sklearn.preprocessing import MinMaxScaler\n",
        "from sklearn.pipeline import Pipeline"
      ],
      "metadata": {
        "id": "wTLJqwpLt7CJ"
      },
      "execution_count": 53,
      "outputs": []
    },
    {
      "cell_type": "code",
      "source": [
        "from sklearn.ensemble import RandomForestClassifier\n",
        "rf_model = Pipeline([('Scaler', MinMaxScaler()), ('model', RandomForestClassifier(random_state=0, n_jobs=-1))])\n",
        "rf_scores = cross_val_score(rf_model, X_train, y_train,\n",
        "                            scoring=\"accuracy\", cv=10, n_jobs=-1)"
      ],
      "metadata": {
        "id": "EbQwMpE7t9XA"
      },
      "execution_count": 54,
      "outputs": []
    },
    {
      "cell_type": "code",
      "source": [
        "from numpy.core.fromnumeric import mean\n",
        "print(mean(rf_scores))"
      ],
      "metadata": {
        "colab": {
          "base_uri": "https://localhost:8080/"
        },
        "id": "SrZQOA6CujZY",
        "outputId": "d989b925-983f-4f03-ec4a-4ccc567977f4"
      },
      "execution_count": 55,
      "outputs": [
        {
          "output_type": "stream",
          "name": "stdout",
          "text": [
            "0.7626554846933385\n"
          ]
        }
      ]
    },
    {
      "cell_type": "code",
      "source": [
        "# Houldout\n",
        "preds = rf_model.fit(X_train, y_train).predict(X_test)\n",
        "probas = rf_model.predict_proba(X_test)\n",
        "\n",
        "from sklearn.metrics import classification_report, accuracy_score, cohen_kappa_score\n",
        "\n",
        "print(classification_report(y_test, preds))\n",
        "print('Accuracy: ', accuracy_score(y_test, preds)*100)\n",
        "print(\"Cohen's K: \", cohen_kappa_score(y_test, preds))"
      ],
      "metadata": {
        "colab": {
          "base_uri": "https://localhost:8080/"
        },
        "id": "2eWQfHWjupTa",
        "outputId": "aa97cd26-334f-4583-bb31-139e96c32e9a"
      },
      "execution_count": 56,
      "outputs": [
        {
          "output_type": "stream",
          "name": "stdout",
          "text": [
            "              precision    recall  f1-score   support\n",
            "\n",
            "           1       0.82      0.91      0.86      7667\n",
            "           2       0.86      0.82      0.84      4234\n",
            "           3       0.62      0.47      0.53      3760\n",
            "           4       0.75      0.85      0.80      5427\n",
            "           5       0.64      0.53      0.58      2499\n",
            "\n",
            "    accuracy                           0.77     23587\n",
            "   macro avg       0.74      0.72      0.72     23587\n",
            "weighted avg       0.76      0.77      0.76     23587\n",
            "\n",
            "Accuracy:  76.98732352567093\n",
            "Cohen's K:  0.6987795035233311\n"
          ]
        }
      ]
    }
  ]
}