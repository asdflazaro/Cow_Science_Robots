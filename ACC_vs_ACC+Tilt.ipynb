{
  "nbformat": 4,
  "nbformat_minor": 0,
  "metadata": {
    "colab": {
      "provenance": [],
      "authorship_tag": "ABX9TyNaBsj3LlXZtWa2mulhMNmx",
      "include_colab_link": true
    },
    "kernelspec": {
      "name": "python3",
      "display_name": "Python 3"
    },
    "language_info": {
      "name": "python"
    }
  },
  "cells": [
    {
      "cell_type": "markdown",
      "metadata": {
        "id": "view-in-github",
        "colab_type": "text"
      },
      "source": [
        "<a href=\"https://colab.research.google.com/github/asdflazaro/Cow_Science_Robots/blob/main/ACC_vs_ACC%2BTilt.ipynb\" target=\"_parent\"><img src=\"https://colab.research.google.com/assets/colab-badge.svg\" alt=\"Open In Colab\"/></a>"
      ]
    },
    {
      "cell_type": "code",
      "execution_count": 144,
      "metadata": {
        "colab": {
          "base_uri": "https://localhost:8080/"
        },
        "id": "cdgcOjJPwYwz",
        "outputId": "413b030a-94fb-45d3-86a2-e595bc6e5fcd"
      },
      "outputs": [
        {
          "output_type": "stream",
          "name": "stdout",
          "text": [
            "  Installing build dependencies ... \u001b[?25l\u001b[?25hdone\n",
            "  Getting requirements to build wheel ... \u001b[?25l\u001b[?25hdone\n",
            "  Preparing metadata (pyproject.toml) ... \u001b[?25l\u001b[?25hdone\n"
          ]
        }
      ],
      "source": [
        "#Baixar e instalar o skopt\n",
        "!pip install scikit-learn==1.0.0 -q -U\n",
        "!pip install git+https://github.com/scikit-optimize/scikit-optimize.git -q -U"
      ]
    },
    {
      "cell_type": "code",
      "source": [
        "# Imports\n",
        "import numpy as np\n",
        "import pandas as pd\n",
        "import skopt"
      ],
      "metadata": {
        "id": "nX0-aSStwiHb"
      },
      "execution_count": 220,
      "outputs": []
    },
    {
      "cell_type": "code",
      "source": [
        "# Leitura e amostra da tabela\n",
        "df = pd.read_csv('Tabela.all.csv', delimiter = ';')\n",
        "df.head()"
      ],
      "metadata": {
        "colab": {
          "base_uri": "https://localhost:8080/",
          "height": 206
        },
        "id": "_3BLLorMw8kI",
        "outputId": "89a94eef-31c1-4633-8455-a5b40916d0e5"
      },
      "execution_count": 221,
      "outputs": [
        {
          "output_type": "execute_result",
          "data": {
            "text/plain": [
              "         Data      Hora     ax    ay     az    gx    gy   gz   Comportamento\n",
              "0  27/01/2023  04:45:00  11669  5323   6348  1695  2941 -2270              1\n",
              "1  27/01/2023  04:45:01  11130  7025   7761 -2178 -1819  2134              1\n",
              "2  27/01/2023  04:45:02  10120  6610  10145 -2487   185  1868              1\n",
              "3  27/01/2023  04:45:03  13629  3053   7777  -837 -4725 -3067              1\n",
              "4  27/01/2023  04:45:04  13537  3296   7080  1245 -2580   571              1"
            ],
            "text/html": [
              "\n",
              "  <div id=\"df-71072e6f-b762-4dce-8af0-8568a9865d40\">\n",
              "    <div class=\"colab-df-container\">\n",
              "      <div>\n",
              "<style scoped>\n",
              "    .dataframe tbody tr th:only-of-type {\n",
              "        vertical-align: middle;\n",
              "    }\n",
              "\n",
              "    .dataframe tbody tr th {\n",
              "        vertical-align: top;\n",
              "    }\n",
              "\n",
              "    .dataframe thead th {\n",
              "        text-align: right;\n",
              "    }\n",
              "</style>\n",
              "<table border=\"1\" class=\"dataframe\">\n",
              "  <thead>\n",
              "    <tr style=\"text-align: right;\">\n",
              "      <th></th>\n",
              "      <th>Data</th>\n",
              "      <th>Hora</th>\n",
              "      <th>ax</th>\n",
              "      <th>ay</th>\n",
              "      <th>az</th>\n",
              "      <th>gx</th>\n",
              "      <th>gy</th>\n",
              "      <th>gz</th>\n",
              "      <th>Comportamento</th>\n",
              "    </tr>\n",
              "  </thead>\n",
              "  <tbody>\n",
              "    <tr>\n",
              "      <th>0</th>\n",
              "      <td>27/01/2023</td>\n",
              "      <td>04:45:00</td>\n",
              "      <td>11669</td>\n",
              "      <td>5323</td>\n",
              "      <td>6348</td>\n",
              "      <td>1695</td>\n",
              "      <td>2941</td>\n",
              "      <td>-2270</td>\n",
              "      <td>1</td>\n",
              "    </tr>\n",
              "    <tr>\n",
              "      <th>1</th>\n",
              "      <td>27/01/2023</td>\n",
              "      <td>04:45:01</td>\n",
              "      <td>11130</td>\n",
              "      <td>7025</td>\n",
              "      <td>7761</td>\n",
              "      <td>-2178</td>\n",
              "      <td>-1819</td>\n",
              "      <td>2134</td>\n",
              "      <td>1</td>\n",
              "    </tr>\n",
              "    <tr>\n",
              "      <th>2</th>\n",
              "      <td>27/01/2023</td>\n",
              "      <td>04:45:02</td>\n",
              "      <td>10120</td>\n",
              "      <td>6610</td>\n",
              "      <td>10145</td>\n",
              "      <td>-2487</td>\n",
              "      <td>185</td>\n",
              "      <td>1868</td>\n",
              "      <td>1</td>\n",
              "    </tr>\n",
              "    <tr>\n",
              "      <th>3</th>\n",
              "      <td>27/01/2023</td>\n",
              "      <td>04:45:03</td>\n",
              "      <td>13629</td>\n",
              "      <td>3053</td>\n",
              "      <td>7777</td>\n",
              "      <td>-837</td>\n",
              "      <td>-4725</td>\n",
              "      <td>-3067</td>\n",
              "      <td>1</td>\n",
              "    </tr>\n",
              "    <tr>\n",
              "      <th>4</th>\n",
              "      <td>27/01/2023</td>\n",
              "      <td>04:45:04</td>\n",
              "      <td>13537</td>\n",
              "      <td>3296</td>\n",
              "      <td>7080</td>\n",
              "      <td>1245</td>\n",
              "      <td>-2580</td>\n",
              "      <td>571</td>\n",
              "      <td>1</td>\n",
              "    </tr>\n",
              "  </tbody>\n",
              "</table>\n",
              "</div>\n",
              "      <button class=\"colab-df-convert\" onclick=\"convertToInteractive('df-71072e6f-b762-4dce-8af0-8568a9865d40')\"\n",
              "              title=\"Convert this dataframe to an interactive table.\"\n",
              "              style=\"display:none;\">\n",
              "        \n",
              "  <svg xmlns=\"http://www.w3.org/2000/svg\" height=\"24px\"viewBox=\"0 0 24 24\"\n",
              "       width=\"24px\">\n",
              "    <path d=\"M0 0h24v24H0V0z\" fill=\"none\"/>\n",
              "    <path d=\"M18.56 5.44l.94 2.06.94-2.06 2.06-.94-2.06-.94-.94-2.06-.94 2.06-2.06.94zm-11 1L8.5 8.5l.94-2.06 2.06-.94-2.06-.94L8.5 2.5l-.94 2.06-2.06.94zm10 10l.94 2.06.94-2.06 2.06-.94-2.06-.94-.94-2.06-.94 2.06-2.06.94z\"/><path d=\"M17.41 7.96l-1.37-1.37c-.4-.4-.92-.59-1.43-.59-.52 0-1.04.2-1.43.59L10.3 9.45l-7.72 7.72c-.78.78-.78 2.05 0 2.83L4 21.41c.39.39.9.59 1.41.59.51 0 1.02-.2 1.41-.59l7.78-7.78 2.81-2.81c.8-.78.8-2.07 0-2.86zM5.41 20L4 18.59l7.72-7.72 1.47 1.35L5.41 20z\"/>\n",
              "  </svg>\n",
              "      </button>\n",
              "      \n",
              "  <style>\n",
              "    .colab-df-container {\n",
              "      display:flex;\n",
              "      flex-wrap:wrap;\n",
              "      gap: 12px;\n",
              "    }\n",
              "\n",
              "    .colab-df-convert {\n",
              "      background-color: #E8F0FE;\n",
              "      border: none;\n",
              "      border-radius: 50%;\n",
              "      cursor: pointer;\n",
              "      display: none;\n",
              "      fill: #1967D2;\n",
              "      height: 32px;\n",
              "      padding: 0 0 0 0;\n",
              "      width: 32px;\n",
              "    }\n",
              "\n",
              "    .colab-df-convert:hover {\n",
              "      background-color: #E2EBFA;\n",
              "      box-shadow: 0px 1px 2px rgba(60, 64, 67, 0.3), 0px 1px 3px 1px rgba(60, 64, 67, 0.15);\n",
              "      fill: #174EA6;\n",
              "    }\n",
              "\n",
              "    [theme=dark] .colab-df-convert {\n",
              "      background-color: #3B4455;\n",
              "      fill: #D2E3FC;\n",
              "    }\n",
              "\n",
              "    [theme=dark] .colab-df-convert:hover {\n",
              "      background-color: #434B5C;\n",
              "      box-shadow: 0px 1px 3px 1px rgba(0, 0, 0, 0.15);\n",
              "      filter: drop-shadow(0px 1px 2px rgba(0, 0, 0, 0.3));\n",
              "      fill: #FFFFFF;\n",
              "    }\n",
              "  </style>\n",
              "\n",
              "      <script>\n",
              "        const buttonEl =\n",
              "          document.querySelector('#df-71072e6f-b762-4dce-8af0-8568a9865d40 button.colab-df-convert');\n",
              "        buttonEl.style.display =\n",
              "          google.colab.kernel.accessAllowed ? 'block' : 'none';\n",
              "\n",
              "        async function convertToInteractive(key) {\n",
              "          const element = document.querySelector('#df-71072e6f-b762-4dce-8af0-8568a9865d40');\n",
              "          const dataTable =\n",
              "            await google.colab.kernel.invokeFunction('convertToInteractive',\n",
              "                                                     [key], {});\n",
              "          if (!dataTable) return;\n",
              "\n",
              "          const docLinkHtml = 'Like what you see? Visit the ' +\n",
              "            '<a target=\"_blank\" href=https://colab.research.google.com/notebooks/data_table.ipynb>data table notebook</a>'\n",
              "            + ' to learn more about interactive tables.';\n",
              "          element.innerHTML = '';\n",
              "          dataTable['output_type'] = 'display_data';\n",
              "          await google.colab.output.renderOutput(dataTable, element);\n",
              "          const docLink = document.createElement('div');\n",
              "          docLink.innerHTML = docLinkHtml;\n",
              "          element.appendChild(docLink);\n",
              "        }\n",
              "      </script>\n",
              "    </div>\n",
              "  </div>\n",
              "  "
            ]
          },
          "metadata": {},
          "execution_count": 221
        }
      ]
    },
    {
      "cell_type": "code",
      "source": [
        "# Exibe os tipos presentes na tabela\n",
        "df.dtypes"
      ],
      "metadata": {
        "colab": {
          "base_uri": "https://localhost:8080/"
        },
        "id": "fD3rd18ZxgRo",
        "outputId": "451e9df7-1fd3-47ff-d2db-b87d1f3da1b4"
      },
      "execution_count": 222,
      "outputs": [
        {
          "output_type": "execute_result",
          "data": {
            "text/plain": [
              "Data             object\n",
              "Hora             object\n",
              "ax                int64\n",
              "ay                int64\n",
              "az                int64\n",
              "gx                int64\n",
              "gy                int64\n",
              "gz                int64\n",
              "Comportamento     int64\n",
              "dtype: object"
            ]
          },
          "metadata": {},
          "execution_count": 222
        }
      ]
    },
    {
      "cell_type": "code",
      "source": [
        "# Imports\n",
        "from sklearn.model_selection import train_test_split\n",
        "from sklearn.metrics import accuracy_score, confusion_matrix, classification_report\n",
        "from sklearn.model_selection import cross_val_score\n",
        "from sklearn.model_selection import RandomizedSearchCV\n",
        "from skopt import gp_minimize"
      ],
      "metadata": {
        "id": "f_MUIKvG34Zp"
      },
      "execution_count": 223,
      "outputs": []
    },
    {
      "cell_type": "code",
      "source": [
        "# Exibe as colunas existentes\n",
        "df.columns"
      ],
      "metadata": {
        "colab": {
          "base_uri": "https://localhost:8080/"
        },
        "id": "q9-sA8oCyCej",
        "outputId": "daa14836-6a83-4ed0-d3e5-fc4bb1088149"
      },
      "execution_count": 224,
      "outputs": [
        {
          "output_type": "execute_result",
          "data": {
            "text/plain": [
              "Index(['Data', 'Hora', 'ax', 'ay', 'az', 'gx', 'gy', 'gz ', 'Comportamento'], dtype='object')"
            ]
          },
          "metadata": {},
          "execution_count": 224
        }
      ]
    },
    {
      "cell_type": "markdown",
      "source": [
        "**ACC + Tilt**"
      ],
      "metadata": {
        "id": "EVO8kGzqyGZr"
      }
    },
    {
      "cell_type": "code",
      "source": [
        "# Lista com os atributos aplicáveis - colunas\n",
        "features_aplicaveis = ['ax', 'ay' ,'az', 'gx', 'gy', 'gz ', 'Comportamento']"
      ],
      "metadata": {
        "id": "2U6qha79yJWB"
      },
      "execution_count": 150,
      "outputs": []
    },
    {
      "cell_type": "code",
      "source": [
        "# Seleciona os abributos correspondentes da lista features_aplicaveis\n",
        "df = df[features_aplicaveis]"
      ],
      "metadata": {
        "id": "iWNhx5QMyMfM"
      },
      "execution_count": 151,
      "outputs": []
    },
    {
      "cell_type": "code",
      "source": [
        "def imprimir_quantidade_dados(X_train, X_test):\n",
        "    print(10*\"-\",\" Quantidade de dados \",  10*\"-\")\n",
        "    \n",
        "    print('Treino: ', X_train.shape[0])\n",
        "    print('Teste: ', X_test.shape[0])\n",
        "    \n",
        "    print(43*\"-\")"
      ],
      "metadata": {
        "id": "CjYXr2iXyQj6"
      },
      "execution_count": 152,
      "outputs": []
    },
    {
      "cell_type": "code",
      "source": [
        "y = df.Comportamento\n",
        "X = df.drop('Comportamento', axis=1)\n",
        "\n",
        "# Conjunto de dados PRO: Pastejando x Ruminando x Ócio\n",
        "X_train, X_test, y_train, y_test = train_test_split(X, y, train_size=0.8, random_state = 0, stratify=y)"
      ],
      "metadata": {
        "id": "4UtSt1tIyT7W"
      },
      "execution_count": 153,
      "outputs": []
    },
    {
      "cell_type": "code",
      "source": [
        "imprimir_quantidade_dados(X_train, X_test)"
      ],
      "metadata": {
        "colab": {
          "base_uri": "https://localhost:8080/"
        },
        "id": "SeP8jTGqyaoZ",
        "outputId": "185bcacb-2cd4-4fed-8233-6825cbda18c6"
      },
      "execution_count": 154,
      "outputs": [
        {
          "output_type": "stream",
          "name": "stdout",
          "text": [
            "----------  Quantidade de dados  ----------\n",
            "Treino:  62896\n",
            "Teste:  15725\n",
            "-------------------------------------------\n"
          ]
        }
      ]
    },
    {
      "cell_type": "code",
      "source": [
        "# Função para imprimir e salvar matriz de confusão\n",
        "def imprimeMatrizDeConfusão(y_test, preds, model, salvarFigura = False):\n",
        "    from sklearn.metrics import confusion_matrix\n",
        "    from sklearn.metrics import ConfusionMatrixDisplay\n",
        "    import matplotlib.pyplot as plt\n",
        "\n",
        "    cm = confusion_matrix(y_test, preds, normalize='true')\n",
        "    disp = ConfusionMatrixDisplay(confusion_matrix=cm, display_labels=model.classes_)\n",
        "    disp.plot(values_format= '.2%', xticks_rotation=60, colorbar=False)\n",
        "    disp.ax_.set_title(\"Matriz de confusão normalizada sobre as condições verdadeiras\")\n",
        "    if(salvarFigura):\n",
        "        plt.savefig(input('Nome da figura a ser salva:' ) + '.png')\n",
        "    plt.show()"
      ],
      "metadata": {
        "id": "fhdRiZF7yrIR"
      },
      "execution_count": 155,
      "outputs": []
    },
    {
      "cell_type": "code",
      "source": [
        "from sklearn.metrics import classification_report\n",
        "\n",
        "def classification_report_extendido(y_true: np.array, y_pred: np.array, classes: set = None):\n",
        "    report = classification_report(y_true, y_pred, output_dict=True, zero_division=0)\n",
        "    \n",
        "    if classes is None: # Determina classes pelos valores\n",
        "        classes = set(np.concatenate((np.unique(y_true), np.unique(y_pred))))\n",
        "    for cls in classes:\n",
        "        y_true_cls = (y_true == cls).astype(int)\n",
        "        y_pred_cls = (y_pred == cls).astype(int)\n",
        "\n",
        "        fp = sum(y_pred_cls[y_true_cls != 1])\n",
        "        tn = sum(y_pred_cls[y_true_cls == 0] == False)\n",
        "        fn = sum(y_pred_cls[y_true_cls == 1] == False)\n",
        "\n",
        "        \n",
        "        specificity_val = tn / (tn + fp)\n",
        "        report[cls]['specificity'] = specificity_val\n",
        "        npv_val = tn / (tn + fn)\n",
        "        report[cls]['npv'] = npv_val\n",
        "        \n",
        "    return report"
      ],
      "metadata": {
        "id": "8UgzoDjxyvbx"
      },
      "execution_count": 156,
      "outputs": []
    },
    {
      "cell_type": "markdown",
      "source": [
        "RF"
      ],
      "metadata": {
        "id": "j0WCruVCy4XZ"
      }
    },
    {
      "cell_type": "code",
      "source": [
        "# imports\n",
        "from sklearn.ensemble import RandomForestClassifier"
      ],
      "metadata": {
        "id": "IamQ4hJWy5im"
      },
      "execution_count": 157,
      "outputs": []
    },
    {
      "cell_type": "code",
      "source": [
        "rf_Model = RandomForestClassifier(random_state=0, n_jobs=-1)"
      ],
      "metadata": {
        "id": "OVv3mhsCy7pI"
      },
      "execution_count": 158,
      "outputs": []
    },
    {
      "cell_type": "code",
      "source": [
        "# criação de um grid\n",
        "rf_param_grid = {'n_estimators':  np.arange(50, 250, 50),\n",
        "               'max_features': ['auto', 'sqrt'],\n",
        "               'max_depth':[50, 100, 150, None],\n",
        "               'criterion': ['gini', 'entropy'],\n",
        "               'min_samples_split': [2, 5, 10, 30, 50],\n",
        "               'min_samples_leaf': [1, 2],\n",
        "               'bootstrap': [True, False]}"
      ],
      "metadata": {
        "id": "LeboOqVny9mS"
      },
      "execution_count": 159,
      "outputs": []
    },
    {
      "cell_type": "code",
      "source": [
        "rf_RandomGrid = RandomizedSearchCV(estimator = rf_Model, param_distributions = rf_param_grid, cv = 3, verbose=1, random_state=0)"
      ],
      "metadata": {
        "id": "CQ2YGZcfzACX"
      },
      "execution_count": 160,
      "outputs": []
    },
    {
      "cell_type": "code",
      "source": [
        "# Identificação do melhor hiperparametro para testes iniciais\n",
        "%%time\n",
        "rf_RandomGrid.fit(X_train, y_train)"
      ],
      "metadata": {
        "colab": {
          "base_uri": "https://localhost:8080/"
        },
        "id": "bya-FkD4zGV9",
        "outputId": "d5b25c3b-ad24-406d-f3f9-847b68b973e5"
      },
      "execution_count": 163,
      "outputs": [
        {
          "output_type": "stream",
          "name": "stdout",
          "text": [
            "Fitting 3 folds for each of 10 candidates, totalling 30 fits\n",
            "CPU times: user 1min 8s, sys: 5.21 s, total: 1min 13s\n",
            "Wall time: 10min 45s\n"
          ]
        },
        {
          "output_type": "execute_result",
          "data": {
            "text/plain": [
              "RandomizedSearchCV(cv=3,\n",
              "                   estimator=RandomForestClassifier(n_jobs=-1, random_state=0),\n",
              "                   param_distributions={'bootstrap': [True, False],\n",
              "                                        'criterion': ['gini', 'entropy'],\n",
              "                                        'max_depth': [50, 100, 150, None],\n",
              "                                        'max_features': ['auto', 'sqrt'],\n",
              "                                        'min_samples_leaf': [1, 2],\n",
              "                                        'min_samples_split': [2, 5, 10, 30, 50],\n",
              "                                        'n_estimators': array([ 50, 100, 150, 200])},\n",
              "                   random_state=0, verbose=1)"
            ]
          },
          "metadata": {},
          "execution_count": 163
        }
      ]
    },
    {
      "cell_type": "code",
      "source": [
        "# Retorna o melhor hiperparametro\n",
        "rf_RandomGrid.best_params_"
      ],
      "metadata": {
        "colab": {
          "base_uri": "https://localhost:8080/"
        },
        "id": "bLokUBGxzJUM",
        "outputId": "77fbf13a-f4d7-4e91-94d8-6fba301e3e13"
      },
      "execution_count": 164,
      "outputs": [
        {
          "output_type": "execute_result",
          "data": {
            "text/plain": [
              "{'n_estimators': 50,\n",
              " 'min_samples_split': 2,\n",
              " 'min_samples_leaf': 1,\n",
              " 'max_features': 'sqrt',\n",
              " 'max_depth': None,\n",
              " 'criterion': 'entropy',\n",
              " 'bootstrap': True}"
            ]
          },
          "metadata": {},
          "execution_count": 164
        }
      ]
    },
    {
      "cell_type": "code",
      "source": [
        "# Acurácia com o melhor hiperparametro pata teste inicial\n",
        "rf_RandomGrid.best_score_"
      ],
      "metadata": {
        "colab": {
          "base_uri": "https://localhost:8080/"
        },
        "id": "QUhyl1Kg1jUI",
        "outputId": "fb7f4fda-086b-435f-c5e1-abac2b009c65"
      },
      "execution_count": 165,
      "outputs": [
        {
          "output_type": "execute_result",
          "data": {
            "text/plain": [
              "0.7592374919877735"
            ]
          },
          "metadata": {},
          "execution_count": 165
        }
      ]
    },
    {
      "cell_type": "code",
      "source": [
        "preds_rf_RG = rf_RandomGrid.predict(X_test)"
      ],
      "metadata": {
        "id": "vtOlGPCf1l3y"
      },
      "execution_count": 166,
      "outputs": []
    },
    {
      "cell_type": "code",
      "source": [
        "accuracy_score(y_test, preds_rf_RG)*100"
      ],
      "metadata": {
        "colab": {
          "base_uri": "https://localhost:8080/"
        },
        "id": "ccLdJhDV1oE2",
        "outputId": "5d702d4b-c5e3-403d-e57d-b288d2dd5c72"
      },
      "execution_count": 167,
      "outputs": [
        {
          "output_type": "execute_result",
          "data": {
            "text/plain": [
              "77.35453100158982"
            ]
          },
          "metadata": {},
          "execution_count": 167
        }
      ]
    },
    {
      "cell_type": "code",
      "source": [
        "imprimeMatrizDeConfusão(y_test, preds_rf_RG, rf_RandomGrid)"
      ],
      "metadata": {
        "colab": {
          "base_uri": "https://localhost:8080/",
          "height": 296
        },
        "id": "y27ghC1i1rTZ",
        "outputId": "ec73e5fb-16ea-41a9-f463-1e06d508eb7f"
      },
      "execution_count": 168,
      "outputs": [
        {
          "output_type": "display_data",
          "data": {
            "text/plain": [
              "<Figure size 432x288 with 1 Axes>"
            ],
            "image/png": "[encoded data removed]"
          },
          "metadata": {
            "needs_background": "light"
          }
        }
      ]
    },
    {
      "cell_type": "code",
      "source": [
        "## Busca pelo melho hiperparametro ##\n",
        "def tune_rf(params):\n",
        "    n_estimators = params[0]\n",
        "    max_features = params[1]\n",
        "    max_depth = params[2]\n",
        "    criterion = params[3]\n",
        "    min_samples_split = params[4]\n",
        "    min_samples_leaf = params[5]\n",
        "    bootstrap = params[6]\n",
        "    \n",
        "    print(params, '\\n')\n",
        "    \n",
        "    rf_Model = RandomForestClassifier(n_estimators=n_estimators, max_features=max_features, max_depth=max_depth, criterion=criterion, min_samples_split=min_samples_split,\n",
        "                                       min_samples_leaf = min_samples_leaf, bootstrap=bootstrap, random_state=0, n_jobs=-1)\n",
        "    \n",
        "    auc = cross_val_score(rf_Model, X_train, y_train, cv=3, scoring ='accuracy')\n",
        "    \n",
        "    return -auc.mean()\n",
        "\n",
        "space = [ np.arange(50, 250, 50), # n_estimators\n",
        "         ['auto', 'sqrt'], # max_features\n",
        "         [50, 100, 150, None], # max_depth\n",
        "         ['gini', 'entropy'], # criterion\n",
        "         [2, 5, 10, 30, 50], # min_samples_split\n",
        "         [1,2,4], # min_samples_leaf\n",
        "         [True, False]] # bootstrap] "
      ],
      "metadata": {
        "id": "ek-YO2bo1y5s"
      },
      "execution_count": 169,
      "outputs": []
    },
    {
      "cell_type": "code",
      "source": [
        "%%time\n",
        "from skopt import forest_minimize\n",
        "resultado_rf = gp_minimize(tune_rf, space, random_state=0, verbose=1, n_calls=30, n_random_starts=15, n_jobs=-1)"
      ],
      "metadata": {
        "colab": {
          "base_uri": "https://localhost:8080/"
        },
        "id": "PfINTBN216ld",
        "outputId": "615e2ded-5346-4789-f99e-375d1c257a5f"
      },
      "execution_count": 170,
      "outputs": [
        {
          "output_type": "stream",
          "name": "stdout",
          "text": [
            "Iteration No: 1 started. Evaluating function at random point.\n",
            "[150, 'sqrt', None, 'gini', 10, 2, False] \n",
            "\n",
            "Iteration No: 1 ended. Evaluation done at random point.\n",
            "Time taken: 70.7086\n",
            "Function value obtained: -0.7609\n",
            "Current minimum: -0.7609\n",
            "Iteration No: 2 started. Evaluating function at random point.\n",
            "[50, 'auto', 100, 'gini', 10, 2, True] \n",
            "\n",
            "Iteration No: 2 ended. Evaluation done at random point.\n",
            "Time taken: 16.2093\n",
            "Function value obtained: -0.7579\n",
            "Current minimum: -0.7609\n",
            "Iteration No: 3 started. Evaluating function at random point.\n",
            "[100, 'sqrt', 100, 'gini', 5, 4, False] \n",
            "\n",
            "Iteration No: 3 ended. Evaluation done at random point.\n",
            "Time taken: 45.8967\n",
            "Function value obtained: -0.7596\n",
            "Current minimum: -0.7609\n",
            "Iteration No: 4 started. Evaluating function at random point.\n",
            "[150, 'sqrt', 150, 'gini', 10, 2, True] \n",
            "\n",
            "Iteration No: 4 ended. Evaluation done at random point.\n",
            "Time taken: 45.3603\n",
            "Function value obtained: -0.7601\n",
            "Current minimum: -0.7609\n",
            "Iteration No: 5 started. Evaluating function at random point.\n",
            "[50, 'auto', 100, 'gini', 5, 1, False] \n",
            "\n",
            "Iteration No: 5 ended. Evaluation done at random point.\n",
            "Time taken: 25.6718\n",
            "Function value obtained: -0.7580\n",
            "Current minimum: -0.7609\n",
            "Iteration No: 6 started. Evaluating function at random point.\n",
            "[50, 'auto', 100, 'gini', 10, 2, True] \n",
            "\n",
            "Iteration No: 6 ended. Evaluation done at random point.\n",
            "Time taken: 15.2821\n",
            "Function value obtained: -0.7579\n",
            "Current minimum: -0.7609\n",
            "Iteration No: 7 started. Evaluating function at random point.\n",
            "[50, 'sqrt', 150, 'entropy', 5, 4, True] \n",
            "\n",
            "Iteration No: 7 ended. Evaluation done at random point.\n",
            "Time taken: 21.5235\n",
            "Function value obtained: -0.7576\n",
            "Current minimum: -0.7609\n",
            "Iteration No: 8 started. Evaluating function at random point.\n",
            "[100, 'auto', 150, 'gini', 30, 2, True] \n",
            "\n",
            "Iteration No: 8 ended. Evaluation done at random point.\n",
            "Time taken: 29.3584\n",
            "Function value obtained: -0.7553\n",
            "Current minimum: -0.7609\n",
            "Iteration No: 9 started. Evaluating function at random point.\n",
            "[150, 'auto', 100, 'gini', 5, 2, False] \n",
            "\n",
            "Iteration No: 9 ended. Evaluation done at random point.\n",
            "Time taken: 73.8266\n",
            "Function value obtained: -0.7607\n",
            "Current minimum: -0.7609\n",
            "Iteration No: 10 started. Evaluating function at random point.\n",
            "[150, 'sqrt', 150, 'entropy', 10, 2, True] \n",
            "\n",
            "Iteration No: 10 ended. Evaluation done at random point.\n",
            "Time taken: 68.5198\n",
            "Function value obtained: -0.7608\n",
            "Current minimum: -0.7609\n",
            "Iteration No: 11 started. Evaluating function at random point.\n",
            "[200, 'sqrt', 50, 'entropy', 2, 2, True] \n",
            "\n",
            "Iteration No: 11 ended. Evaluation done at random point.\n",
            "Time taken: 91.8871\n",
            "Function value obtained: -0.7618\n",
            "Current minimum: -0.7618\n",
            "Iteration No: 12 started. Evaluating function at random point.\n",
            "[100, 'auto', 150, 'gini', 50, 1, True] \n",
            "\n",
            "Iteration No: 12 ended. Evaluation done at random point.\n",
            "Time taken: 28.4543\n",
            "Function value obtained: -0.7512\n",
            "Current minimum: -0.7618\n",
            "Iteration No: 13 started. Evaluating function at random point.\n",
            "[200, 'sqrt', None, 'gini', 2, 2, False] \n",
            "\n",
            "Iteration No: 13 ended. Evaluation done at random point.\n",
            "Time taken: 100.4256\n",
            "Function value obtained: -0.7611\n",
            "Current minimum: -0.7618\n",
            "Iteration No: 14 started. Evaluating function at random point.\n",
            "[200, 'sqrt', None, 'entropy', 10, 2, False] \n",
            "\n",
            "Iteration No: 14 ended. Evaluation done at random point.\n",
            "Time taken: 134.8125\n",
            "Function value obtained: -0.7623\n",
            "Current minimum: -0.7623\n",
            "Iteration No: 15 started. Evaluating function at random point.\n",
            "[100, 'auto', 150, 'gini', 5, 2, True] \n",
            "\n",
            "Iteration No: 15 ended. Evaluation done at random point.\n",
            "Time taken: 34.0611\n",
            "Function value obtained: -0.7601\n",
            "Current minimum: -0.7623\n",
            "Iteration No: 16 started. Searching for the next optimal point.\n",
            "[200, 'auto', None, 'entropy', 2, 4, False] \n",
            "\n",
            "Iteration No: 16 ended. Search finished for the next optimal point.\n",
            "Time taken: 131.3522\n",
            "Function value obtained: -0.7615\n",
            "Current minimum: -0.7623\n",
            "Iteration No: 17 started. Searching for the next optimal point.\n",
            "[150, 'auto', 150, 'entropy', 2, 1, True] \n",
            "\n",
            "Iteration No: 17 ended. Search finished for the next optimal point.\n",
            "Time taken: 73.4175\n",
            "Function value obtained: -0.7617\n",
            "Current minimum: -0.7623\n",
            "Iteration No: 18 started. Searching for the next optimal point.\n",
            "[100, 'auto', 50, 'entropy', 2, 4, True] \n",
            "\n",
            "Iteration No: 18 ended. Search finished for the next optimal point.\n",
            "Time taken: 45.4945\n",
            "Function value obtained: -0.7588\n",
            "Current minimum: -0.7623\n",
            "Iteration No: 19 started. Searching for the next optimal point.\n",
            "[200, 'auto', None, 'entropy', 5, 1, False] \n",
            "\n",
            "Iteration No: 19 ended. Search finished for the next optimal point.\n",
            "Time taken: 143.5964\n",
            "Function value obtained: -0.7612\n",
            "Current minimum: -0.7623\n",
            "Iteration No: 20 started. Searching for the next optimal point.\n",
            "[200, 'auto', 50, 'entropy', 30, 4, True] \n",
            "\n",
            "Iteration No: 20 ended. Search finished for the next optimal point.\n",
            "Time taken: 83.3148\n",
            "Function value obtained: -0.7550\n",
            "Current minimum: -0.7623\n",
            "Iteration No: 21 started. Searching for the next optimal point.\n",
            "[100, 'auto', 150, 'entropy', 10, 1, False] \n",
            "\n",
            "Iteration No: 21 ended. Search finished for the next optimal point.\n",
            "Time taken: 70.0123\n",
            "Function value obtained: -0.7614\n",
            "Current minimum: -0.7623\n",
            "Iteration No: 22 started. Searching for the next optimal point.\n",
            "[150, 'auto', 50, 'entropy', 2, 2, False] \n",
            "\n",
            "Iteration No: 22 ended. Search finished for the next optimal point.\n",
            "Time taken: 103.0071\n",
            "Function value obtained: -0.7614\n",
            "Current minimum: -0.7623\n",
            "Iteration No: 23 started. Searching for the next optimal point.\n",
            "[200, 'auto', 50, 'entropy', 10, 1, False] \n",
            "\n",
            "Iteration No: 23 ended. Search finished for the next optimal point.\n",
            "Time taken: 133.6629\n",
            "Function value obtained: -0.7623\n",
            "Current minimum: -0.7623\n",
            "Iteration No: 24 started. Searching for the next optimal point.\n",
            "[50, 'sqrt', 100, 'entropy', 2, 1, True] \n",
            "\n",
            "Iteration No: 24 ended. Search finished for the next optimal point.\n",
            "Time taken: 23.6078\n",
            "Function value obtained: -0.7592\n",
            "Current minimum: -0.7623\n",
            "Iteration No: 25 started. Searching for the next optimal point.\n",
            "[150, 'auto', 50, 'gini', 30, 1, False] \n",
            "\n",
            "Iteration No: 25 ended. Search finished for the next optimal point.\n",
            "Time taken: 65.4211\n",
            "Function value obtained: -0.7588\n",
            "Current minimum: -0.7623\n",
            "Iteration No: 26 started. Searching for the next optimal point.\n",
            "[150, 'auto', 50, 'entropy', 50, 1, False] \n",
            "\n",
            "Iteration No: 26 ended. Search finished for the next optimal point.\n",
            "Time taken: 89.3762\n",
            "Function value obtained: -0.7542\n",
            "Current minimum: -0.7623\n",
            "Iteration No: 27 started. Searching for the next optimal point.\n",
            "[50, 'sqrt', 100, 'entropy', 30, 1, False] \n",
            "\n",
            "Iteration No: 27 ended. Search finished for the next optimal point.\n",
            "Time taken: 31.1142\n",
            "Function value obtained: -0.7573\n",
            "Current minimum: -0.7623\n",
            "Iteration No: 28 started. Searching for the next optimal point.\n",
            "[200, 'sqrt', 100, 'entropy', 50, 2, False] \n",
            "\n",
            "Iteration No: 28 ended. Search finished for the next optimal point.\n",
            "Time taken: 115.5271\n",
            "Function value obtained: -0.7546\n",
            "Current minimum: -0.7623\n",
            "Iteration No: 29 started. Searching for the next optimal point.\n",
            "[50, 'auto', 50, 'gini', 50, 4, False] \n",
            "\n",
            "Iteration No: 29 ended. Search finished for the next optimal point.\n",
            "Time taken: 21.8399\n",
            "Function value obtained: -0.7541\n",
            "Current minimum: -0.7623\n",
            "Iteration No: 30 started. Searching for the next optimal point.\n",
            "[200, 'sqrt', 100, 'gini', 5, 2, True] \n",
            "\n",
            "Iteration No: 30 ended. Search finished for the next optimal point.\n",
            "Time taken: 60.6834\n",
            "Function value obtained: -0.7609\n",
            "Current minimum: -0.7623\n",
            "CPU times: user 2min 56s, sys: 18.9 s, total: 3min 15s\n",
            "Wall time: 33min 13s\n"
          ]
        }
      ]
    },
    {
      "cell_type": "code",
      "source": [
        "# Retorna o melhor hiperparametro\n",
        "# Em ordem: n_estimators, max_features, max_depth, criterion, min_samples_split, min_samples_leaf, bootstrap\n",
        "resultado_rf.x"
      ],
      "metadata": {
        "colab": {
          "base_uri": "https://localhost:8080/"
        },
        "id": "hbzuc2pU1zff",
        "outputId": "da68c5ad-3b5e-4665-b876-f850e05f20ef"
      },
      "execution_count": 171,
      "outputs": [
        {
          "output_type": "execute_result",
          "data": {
            "text/plain": [
              "[200, 'auto', 50, 'entropy', 10, 1, False]"
            ]
          },
          "metadata": {},
          "execution_count": 171
        }
      ]
    },
    {
      "cell_type": "code",
      "source": [
        "from skopt.plots import plot_convergence\n",
        "plot_convergence(resultado_rf)"
      ],
      "metadata": {
        "colab": {
          "base_uri": "https://localhost:8080/",
          "height": 314
        },
        "id": "VSseZ7x02AIl",
        "outputId": "64aee000-eddc-4d93-c19b-1b362d5e6c70"
      },
      "execution_count": 172,
      "outputs": [
        {
          "output_type": "execute_result",
          "data": {
            "text/plain": [
              "<matplotlib.axes._subplots.AxesSubplot at 0x7f588bdf7370>"
            ]
          },
          "metadata": {},
          "execution_count": 172
        },
        {
          "output_type": "display_data",
          "data": {
            "text/plain": [
              "<Figure size 432x288 with 1 Axes>"
            ],
            "image/png": "[encoded data removed]"
          },
          "metadata": {
            "needs_background": "light"
          }
        }
      ]
    },
    {
      "cell_type": "code",
      "source": [
        "# Inserir manualmente os melhores hiperparametros\n",
        "%%time\n",
        "rf_model = RandomForestClassifier(n_estimators=200, max_features='auto', max_depth=50, criterion='entropy',\n",
        "                                  min_samples_split=10, min_samples_leaf=1 , bootstrap=False, random_state=0, n_jobs=-1)\n",
        "rf_model.fit(X_train, y_train)\n",
        "preds = rf_model.predict(X_test)"
      ],
      "metadata": {
        "colab": {
          "base_uri": "https://localhost:8080/"
        },
        "id": "TYNe2CfO2Gfc",
        "outputId": "120705d0-09de-4cbc-dff3-1f6ac0d26885"
      },
      "execution_count": 173,
      "outputs": [
        {
          "output_type": "stream",
          "name": "stdout",
          "text": [
            "CPU times: user 1min 51s, sys: 261 ms, total: 1min 51s\n",
            "Wall time: 1min 8s\n"
          ]
        }
      ]
    },
    {
      "cell_type": "code",
      "source": [
        "# Retorna a acurácia\n",
        "accuracy_score(y_test, preds)*100"
      ],
      "metadata": {
        "colab": {
          "base_uri": "https://localhost:8080/"
        },
        "id": "keWHGyEx2JeP",
        "outputId": "3004f1b0-f832-4bd5-9693-e8f28935e16a"
      },
      "execution_count": 174,
      "outputs": [
        {
          "output_type": "execute_result",
          "data": {
            "text/plain": [
              "77.6852146263911"
            ]
          },
          "metadata": {},
          "execution_count": 174
        }
      ]
    },
    {
      "cell_type": "code",
      "source": [
        "# Retorna a tabela com alguns resultados\n",
        "# digits= define quantidade de casas após a virgula\n",
        "print(classification_report(y_test, preds, digits=4))"
      ],
      "metadata": {
        "colab": {
          "base_uri": "https://localhost:8080/"
        },
        "id": "3t4gncMU2MQv",
        "outputId": "c4d0d720-6884-4f32-e6dd-f34c26820434"
      },
      "execution_count": 175,
      "outputs": [
        {
          "output_type": "stream",
          "name": "stdout",
          "text": [
            "              precision    recall  f1-score   support\n",
            "\n",
            "           1     0.8228    0.9156    0.8667      5153\n",
            "           2     0.8697    0.8319    0.8504      2784\n",
            "           3     0.6287    0.4740    0.5405      2536\n",
            "           4     0.7690    0.8516    0.8082      3584\n",
            "           5     0.6413    0.5564    0.5958      1668\n",
            "\n",
            "    accuracy                         0.7769     15725\n",
            "   macro avg     0.7463    0.7259    0.7323     15725\n",
            "weighted avg     0.7683    0.7769    0.7691     15725\n",
            "\n"
          ]
        }
      ]
    },
    {
      "cell_type": "code",
      "source": [
        "imprimeMatrizDeConfusão(y_test, preds, rf_model)"
      ],
      "metadata": {
        "colab": {
          "base_uri": "https://localhost:8080/",
          "height": 296
        },
        "id": "-oaiA28Q2Rpi",
        "outputId": "afd3a020-a1fe-43e0-bcb6-e9d28895fd8e"
      },
      "execution_count": 176,
      "outputs": [
        {
          "output_type": "display_data",
          "data": {
            "text/plain": [
              "<Figure size 432x288 with 1 Axes>"
            ],
            "image/png": "[encoded data removed]"
          },
          "metadata": {
            "needs_background": "light"
          }
        }
      ]
    },
    {
      "cell_type": "markdown",
      "source": [
        "**ACC**"
      ],
      "metadata": {
        "id": "fvZej8mM2vGj"
      }
    },
    {
      "cell_type": "code",
      "source": [
        "# Lista com os atributos aplicáveis - colunas\n",
        "features_aplicaveis = ['ax', 'ay' ,'az', 'Comportamento']"
      ],
      "metadata": {
        "id": "eI4XCaoE25oL"
      },
      "execution_count": 177,
      "outputs": []
    },
    {
      "cell_type": "code",
      "source": [
        "# Seleciona os abributos correspondentes da lista features_aplicaveis\n",
        "df = df[features_aplicaveis]"
      ],
      "metadata": {
        "id": "FRYHmXx43CKX"
      },
      "execution_count": 178,
      "outputs": []
    },
    {
      "cell_type": "code",
      "source": [
        "def imprimir_quantidade_dados(X_train, X_test):\n",
        "    print(10*\"-\",\" Quantidade de dados \",  10*\"-\")\n",
        "    \n",
        "    print('Treino: ', X_train.shape[0])\n",
        "    print('Teste: ', X_test.shape[0])\n",
        "    \n",
        "    print(43*\"-\")"
      ],
      "metadata": {
        "id": "pr0hb9U03Gay"
      },
      "execution_count": 179,
      "outputs": []
    },
    {
      "cell_type": "code",
      "source": [
        "y = df.Comportamento\n",
        "X = df.drop('Comportamento', axis=1)\n",
        "\n",
        "# Conjunto de dados PRO: Pastejando x Ruminando x Ócio\n",
        "X_train, X_test, y_train, y_test = train_test_split(X, y, train_size=0.8, random_state = 0, stratify=y)"
      ],
      "metadata": {
        "id": "FUl7eIRy3JB1"
      },
      "execution_count": 180,
      "outputs": []
    },
    {
      "cell_type": "code",
      "source": [
        "imprimir_quantidade_dados(X_train, X_test)"
      ],
      "metadata": {
        "colab": {
          "base_uri": "https://localhost:8080/"
        },
        "id": "_pef-3Ug3VUm",
        "outputId": "a4af3e59-4582-48db-effe-0749d68d9208"
      },
      "execution_count": 181,
      "outputs": [
        {
          "output_type": "stream",
          "name": "stdout",
          "text": [
            "----------  Quantidade de dados  ----------\n",
            "Treino:  62896\n",
            "Teste:  15725\n",
            "-------------------------------------------\n"
          ]
        }
      ]
    },
    {
      "cell_type": "code",
      "source": [
        "# Função para imprimir e salvar matriz de confusão\n",
        "def imprimeMatrizDeConfusão(y_test, preds, model, salvarFigura = False):\n",
        "    from sklearn.metrics import confusion_matrix\n",
        "    from sklearn.metrics import ConfusionMatrixDisplay\n",
        "    import matplotlib.pyplot as plt\n",
        "\n",
        "    cm = confusion_matrix(y_test, preds, normalize='true')\n",
        "    disp = ConfusionMatrixDisplay(confusion_matrix=cm, display_labels=model.classes_)\n",
        "    disp.plot(values_format= '.2%', xticks_rotation=60, colorbar=False)\n",
        "    disp.ax_.set_title(\"Matriz de confusão normalizada sobre as condições verdadeiras\")\n",
        "    if(salvarFigura):\n",
        "        plt.savefig(input('Nome da figura a ser salva:' ) + '.png')\n",
        "    plt.show()"
      ],
      "metadata": {
        "id": "7_anIkGX3ZBJ"
      },
      "execution_count": 182,
      "outputs": []
    },
    {
      "cell_type": "code",
      "source": [
        "from sklearn.metrics import classification_report\n",
        "\n",
        "def classification_report_extendido(y_true: np.array, y_pred: np.array, classes: set = None):\n",
        "    report = classification_report(y_true, y_pred, output_dict=True, zero_division=0)\n",
        "    \n",
        "    if classes is None: # Determina classes pelos valores\n",
        "        classes = set(np.concatenate((np.unique(y_true), np.unique(y_pred))))\n",
        "    for cls in classes:\n",
        "        y_true_cls = (y_true == cls).astype(int)\n",
        "        y_pred_cls = (y_pred == cls).astype(int)\n",
        "\n",
        "        fp = sum(y_pred_cls[y_true_cls != 1])\n",
        "        tn = sum(y_pred_cls[y_true_cls == 0] == False)\n",
        "        fn = sum(y_pred_cls[y_true_cls == 1] == False)\n",
        "\n",
        "        \n",
        "        specificity_val = tn / (tn + fp)\n",
        "        report[cls]['specificity'] = specificity_val\n",
        "        npv_val = tn / (tn + fn)\n",
        "        report[cls]['npv'] = npv_val\n",
        "        \n",
        "    return report"
      ],
      "metadata": {
        "id": "egVmKoG63ddi"
      },
      "execution_count": 183,
      "outputs": []
    },
    {
      "cell_type": "markdown",
      "source": [
        "RF"
      ],
      "metadata": {
        "id": "68zsMg483fSs"
      }
    },
    {
      "cell_type": "code",
      "source": [
        "# imports\n",
        "from sklearn.ensemble import RandomForestClassifier"
      ],
      "metadata": {
        "id": "8bFJFNjr3ln8"
      },
      "execution_count": 184,
      "outputs": []
    },
    {
      "cell_type": "code",
      "source": [
        "rf_Model = RandomForestClassifier(random_state=0, n_jobs=-1)"
      ],
      "metadata": {
        "id": "iMwz8voY3oKX"
      },
      "execution_count": 185,
      "outputs": []
    },
    {
      "cell_type": "code",
      "source": [
        "# criação de um grid\n",
        "rf_param_grid = {'n_estimators':  np.arange(50, 250, 50),\n",
        "               'max_features': ['auto', 'sqrt'],\n",
        "               'max_depth':[50, 100, 150, None],\n",
        "               'criterion': ['gini', 'entropy'],\n",
        "               'min_samples_split': [2, 5, 10, 30, 50],\n",
        "               'min_samples_leaf': [1, 2],\n",
        "               'bootstrap': [True, False]}"
      ],
      "metadata": {
        "id": "k1hN7XeJ3okJ"
      },
      "execution_count": 186,
      "outputs": []
    },
    {
      "cell_type": "code",
      "source": [
        "rf_RandomGrid = RandomizedSearchCV(estimator = rf_Model, param_distributions = rf_param_grid, cv = 3, verbose=1, random_state=0)"
      ],
      "metadata": {
        "id": "xMZ-dq5j3wpY"
      },
      "execution_count": 187,
      "outputs": []
    },
    {
      "cell_type": "code",
      "source": [
        "# Identificação do melhor hiperparametro para testes iniciais\n",
        "%%time\n",
        "rf_RandomGrid.fit(X_train, y_train)"
      ],
      "metadata": {
        "colab": {
          "base_uri": "https://localhost:8080/"
        },
        "id": "BKQVZMwA31sh",
        "outputId": "20f15b30-81f3-419f-fb56-47fe54816315"
      },
      "execution_count": 188,
      "outputs": [
        {
          "output_type": "stream",
          "name": "stdout",
          "text": [
            "Fitting 3 folds for each of 10 candidates, totalling 30 fits\n",
            "CPU times: user 1min 23s, sys: 3.86 s, total: 1min 27s\n",
            "Wall time: 6min 11s\n"
          ]
        },
        {
          "output_type": "execute_result",
          "data": {
            "text/plain": [
              "RandomizedSearchCV(cv=3,\n",
              "                   estimator=RandomForestClassifier(n_jobs=-1, random_state=0),\n",
              "                   param_distributions={'bootstrap': [True, False],\n",
              "                                        'criterion': ['gini', 'entropy'],\n",
              "                                        'max_depth': [50, 100, 150, None],\n",
              "                                        'max_features': ['auto', 'sqrt'],\n",
              "                                        'min_samples_leaf': [1, 2],\n",
              "                                        'min_samples_split': [2, 5, 10, 30, 50],\n",
              "                                        'n_estimators': array([ 50, 100, 150, 200])},\n",
              "                   random_state=0, verbose=1)"
            ]
          },
          "metadata": {},
          "execution_count": 188
        }
      ]
    },
    {
      "cell_type": "code",
      "source": [
        "# Retorna o melhor hiperparametro\n",
        "rf_RandomGrid.best_params_"
      ],
      "metadata": {
        "colab": {
          "base_uri": "https://localhost:8080/"
        },
        "id": "5i4QtDEQ33g0",
        "outputId": "f5719080-f561-4222-e282-624b5ecc1243"
      },
      "execution_count": 198,
      "outputs": [
        {
          "output_type": "execute_result",
          "data": {
            "text/plain": [
              "{'n_estimators': 150,\n",
              " 'min_samples_split': 30,\n",
              " 'min_samples_leaf': 1,\n",
              " 'max_features': 'sqrt',\n",
              " 'max_depth': 100,\n",
              " 'criterion': 'entropy',\n",
              " 'bootstrap': False}"
            ]
          },
          "metadata": {},
          "execution_count": 198
        }
      ]
    },
    {
      "cell_type": "code",
      "source": [
        "# Acurácia com o melhor hiperparametro pata teste inicial\n",
        "rf_RandomGrid.best_score_"
      ],
      "metadata": {
        "colab": {
          "base_uri": "https://localhost:8080/"
        },
        "id": "mT8Garte35yg",
        "outputId": "aaf4508a-d5cf-4ef6-e884-c6c0ebf951dd"
      },
      "execution_count": 199,
      "outputs": [
        {
          "output_type": "execute_result",
          "data": {
            "text/plain": [
              "0.7243227461415523"
            ]
          },
          "metadata": {},
          "execution_count": 199
        }
      ]
    },
    {
      "cell_type": "code",
      "source": [
        "preds_rf_RG = rf_RandomGrid.predict(X_test)"
      ],
      "metadata": {
        "id": "nvFe0Qr137Vp"
      },
      "execution_count": 200,
      "outputs": []
    },
    {
      "cell_type": "code",
      "source": [
        "accuracy_score(y_test, preds_rf_RG)*100"
      ],
      "metadata": {
        "colab": {
          "base_uri": "https://localhost:8080/"
        },
        "id": "0SEZwvx239qO",
        "outputId": "affc5db9-a283-48e5-bb0f-026c79c2352e"
      },
      "execution_count": 201,
      "outputs": [
        {
          "output_type": "execute_result",
          "data": {
            "text/plain": [
              "73.50715421303656"
            ]
          },
          "metadata": {},
          "execution_count": 201
        }
      ]
    },
    {
      "cell_type": "code",
      "source": [
        "imprimeMatrizDeConfusão(y_test, preds_rf_RG, rf_RandomGrid)"
      ],
      "metadata": {
        "colab": {
          "base_uri": "https://localhost:8080/",
          "height": 296
        },
        "id": "19bZ7o4Y3_ao",
        "outputId": "3b8947ee-7378-4925-c4d5-9886fb89564d"
      },
      "execution_count": 202,
      "outputs": [
        {
          "output_type": "display_data",
          "data": {
            "text/plain": [
              "<Figure size 432x288 with 1 Axes>"
            ],
            "image/png": "[encoded data removed]"
          },
          "metadata": {
            "needs_background": "light"
          }
        }
      ]
    },
    {
      "cell_type": "code",
      "source": [
        "## Busca pelo melhor hiperparametro\n",
        "def tune_rf(params):\n",
        "    n_estimators = params[0]\n",
        "    max_features = params[1]\n",
        "    max_depth = params[2]\n",
        "    criterion = params[3]\n",
        "    min_samples_split = params[4]\n",
        "    min_samples_leaf = params[5]\n",
        "    bootstrap = params[6]\n",
        "    \n",
        "    print(params, '\\n')\n",
        "    \n",
        "    rf_Model = RandomForestClassifier(n_estimators=n_estimators, max_features=max_features, max_depth=max_depth, criterion=criterion, min_samples_split=min_samples_split,\n",
        "                                       min_samples_leaf = min_samples_leaf, bootstrap=bootstrap, random_state=0, n_jobs=-1)\n",
        "    \n",
        "    auc = cross_val_score(rf_Model, X_train, y_train, cv=3, scoring ='accuracy')\n",
        "    \n",
        "    return -auc.mean()\n",
        "\n",
        "space = [ np.arange(50, 250, 50), # n_estimators\n",
        "         ['auto', 'sqrt'], # max_features\n",
        "         [50, 100, 150, None], # max_depth\n",
        "         ['gini', 'entropy'], # criterion\n",
        "         [2, 5, 10, 30, 50], # min_samples_split\n",
        "         [1,2,4], # min_samples_leaf\n",
        "         [True, False]] # bootstrap] "
      ],
      "metadata": {
        "id": "HEFV0Q254E9i"
      },
      "execution_count": 194,
      "outputs": []
    },
    {
      "cell_type": "code",
      "source": [
        "%%time\n",
        "from skopt import forest_minimize\n",
        "resultado_rf = gp_minimize(tune_rf, space, random_state=0, verbose=1, n_calls=30, n_random_starts=15, n_jobs=-1)"
      ],
      "metadata": {
        "colab": {
          "base_uri": "https://localhost:8080/"
        },
        "id": "7-ErkwK44PRp",
        "outputId": "4b498774-2d9d-412f-9a44-c4f407796aa3"
      },
      "execution_count": 195,
      "outputs": [
        {
          "output_type": "stream",
          "name": "stdout",
          "text": [
            "Iteration No: 1 started. Evaluating function at random point.\n",
            "[150, 'sqrt', None, 'gini', 10, 2, False] \n",
            "\n",
            "Iteration No: 1 ended. Evaluation done at random point.\n",
            "Time taken: 39.5216\n",
            "Function value obtained: -0.7202\n",
            "Current minimum: -0.7202\n",
            "Iteration No: 2 started. Evaluating function at random point.\n",
            "[50, 'auto', 100, 'gini', 10, 2, True] \n",
            "\n",
            "Iteration No: 2 ended. Evaluation done at random point.\n",
            "Time taken: 7.7922\n",
            "Function value obtained: -0.7222\n",
            "Current minimum: -0.7222\n",
            "Iteration No: 3 started. Evaluating function at random point.\n",
            "[100, 'sqrt', 100, 'gini', 5, 4, False] \n",
            "\n",
            "Iteration No: 3 ended. Evaluation done at random point.\n",
            "Time taken: 26.2323\n",
            "Function value obtained: -0.7207\n",
            "Current minimum: -0.7222\n",
            "Iteration No: 4 started. Evaluating function at random point.\n",
            "[150, 'sqrt', 150, 'gini', 10, 2, True] \n",
            "\n",
            "Iteration No: 4 ended. Evaluation done at random point.\n",
            "Time taken: 26.4397\n",
            "Function value obtained: -0.7244\n",
            "Current minimum: -0.7244\n",
            "Iteration No: 5 started. Evaluating function at random point.\n",
            "[50, 'auto', 100, 'gini', 5, 1, False] \n",
            "\n",
            "Iteration No: 5 ended. Evaluation done at random point.\n",
            "Time taken: 14.3870\n",
            "Function value obtained: -0.7075\n",
            "Current minimum: -0.7244\n",
            "Iteration No: 6 started. Evaluating function at random point.\n",
            "[50, 'auto', 100, 'gini', 10, 2, True] \n",
            "\n",
            "Iteration No: 6 ended. Evaluation done at random point.\n",
            "Time taken: 9.4734\n",
            "Function value obtained: -0.7222\n",
            "Current minimum: -0.7244\n",
            "Iteration No: 7 started. Evaluating function at random point.\n",
            "[50, 'sqrt', 150, 'entropy', 5, 4, True] \n",
            "\n",
            "Iteration No: 7 ended. Evaluation done at random point.\n",
            "Time taken: 12.1535\n",
            "Function value obtained: -0.7234\n",
            "Current minimum: -0.7244\n",
            "Iteration No: 8 started. Evaluating function at random point.\n",
            "[100, 'auto', 150, 'gini', 30, 2, True] \n",
            "\n",
            "Iteration No: 8 ended. Evaluation done at random point.\n",
            "Time taken: 16.2280\n",
            "Function value obtained: -0.7226\n",
            "Current minimum: -0.7244\n",
            "Iteration No: 9 started. Evaluating function at random point.\n",
            "[150, 'auto', 100, 'gini', 5, 2, False] \n",
            "\n",
            "Iteration No: 9 ended. Evaluation done at random point.\n",
            "Time taken: 41.7035\n",
            "Function value obtained: -0.7137\n",
            "Current minimum: -0.7244\n",
            "Iteration No: 10 started. Evaluating function at random point.\n",
            "[150, 'sqrt', 150, 'entropy', 10, 2, True] \n",
            "\n",
            "Iteration No: 10 ended. Evaluation done at random point.\n",
            "Time taken: 35.2339\n",
            "Function value obtained: -0.7246\n",
            "Current minimum: -0.7246\n",
            "Iteration No: 11 started. Evaluating function at random point.\n",
            "[200, 'sqrt', 50, 'entropy', 2, 2, True] \n",
            "\n",
            "Iteration No: 11 ended. Evaluation done at random point.\n",
            "Time taken: 50.5840\n",
            "Function value obtained: -0.7217\n",
            "Current minimum: -0.7246\n",
            "Iteration No: 12 started. Evaluating function at random point.\n",
            "[100, 'auto', 150, 'gini', 50, 1, True] \n",
            "\n",
            "Iteration No: 12 ended. Evaluation done at random point.\n",
            "Time taken: 15.3230\n",
            "Function value obtained: -0.7189\n",
            "Current minimum: -0.7246\n",
            "Iteration No: 13 started. Evaluating function at random point.\n",
            "[200, 'sqrt', None, 'gini', 2, 2, False] \n",
            "\n",
            "Iteration No: 13 ended. Evaluation done at random point.\n",
            "Time taken: 55.7674\n",
            "Function value obtained: -0.7127\n",
            "Current minimum: -0.7246\n",
            "Iteration No: 14 started. Evaluating function at random point.\n",
            "[200, 'sqrt', None, 'entropy', 10, 2, False] \n",
            "\n",
            "Iteration No: 14 ended. Evaluation done at random point.\n",
            "Time taken: 70.4424\n",
            "Function value obtained: -0.7206\n",
            "Current minimum: -0.7246\n",
            "Iteration No: 15 started. Evaluating function at random point.\n",
            "[100, 'auto', 150, 'gini', 5, 2, True] \n",
            "\n",
            "Iteration No: 15 ended. Evaluation done at random point.\n",
            "Time taken: 20.4066\n",
            "Function value obtained: -0.7212\n",
            "Current minimum: -0.7246\n",
            "Iteration No: 16 started. Searching for the next optimal point.\n",
            "[150, 'auto', None, 'entropy', 30, 4, True] \n",
            "\n",
            "Iteration No: 16 ended. Search finished for the next optimal point.\n",
            "Time taken: 32.1589\n",
            "Function value obtained: -0.7222\n",
            "Current minimum: -0.7246\n",
            "Iteration No: 17 started. Searching for the next optimal point.\n",
            "[200, 'sqrt', None, 'entropy', 50, 4, True] \n",
            "\n",
            "Iteration No: 17 ended. Search finished for the next optimal point.\n",
            "Time taken: 41.4012\n",
            "Function value obtained: -0.7189\n",
            "Current minimum: -0.7246\n",
            "Iteration No: 18 started. Searching for the next optimal point.\n",
            "[150, 'sqrt', 150, 'entropy', 30, 1, True] \n",
            "\n",
            "Iteration No: 18 ended. Search finished for the next optimal point.\n",
            "Time taken: 33.8145\n",
            "Function value obtained: -0.7231\n",
            "Current minimum: -0.7246\n",
            "Iteration No: 19 started. Searching for the next optimal point.\n",
            "[200, 'auto', 150, 'entropy', 10, 4, False] \n",
            "\n",
            "Iteration No: 19 ended. Search finished for the next optimal point.\n",
            "Time taken: 67.9309\n",
            "Function value obtained: -0.7214\n",
            "Current minimum: -0.7246\n",
            "Iteration No: 20 started. Searching for the next optimal point.\n",
            "[200, 'sqrt', 50, 'entropy', 30, 4, False] \n",
            "\n",
            "Iteration No: 20 ended. Search finished for the next optimal point.\n",
            "Time taken: 64.3975\n",
            "Function value obtained: -0.7238\n",
            "Current minimum: -0.7246\n",
            "Iteration No: 21 started. Searching for the next optimal point.\n",
            "[200, 'sqrt', 50, 'entropy', 10, 1, True] \n",
            "\n",
            "Iteration No: 21 ended. Search finished for the next optimal point.\n",
            "Time taken: 50.3382\n",
            "Function value obtained: -0.7259\n",
            "Current minimum: -0.7259\n",
            "Iteration No: 22 started. Searching for the next optimal point.\n",
            "[200, 'sqrt', 50, 'entropy', 50, 4, False] \n",
            "\n",
            "Iteration No: 22 ended. Search finished for the next optimal point.\n",
            "Time taken: 59.7313\n",
            "Function value obtained: -0.7218\n",
            "Current minimum: -0.7259\n",
            "Iteration No: 23 started. Searching for the next optimal point.\n",
            "[100, 'sqrt', 50, 'entropy', 10, 4, True] \n",
            "\n",
            "Iteration No: 23 ended. Search finished for the next optimal point.\n",
            "Time taken: 24.6084\n",
            "Function value obtained: -0.7248\n",
            "Current minimum: -0.7259\n",
            "Iteration No: 24 started. Searching for the next optimal point.\n",
            "[150, 'auto', 150, 'entropy', 2, 1, True] \n",
            "\n",
            "Iteration No: 24 ended. Search finished for the next optimal point.\n",
            "Time taken: 42.3362\n",
            "Function value obtained: -0.7161\n",
            "Current minimum: -0.7259\n",
            "Iteration No: 25 started. Searching for the next optimal point.\n",
            "[200, 'sqrt', 50, 'entropy', 5, 1, True] \n",
            "\n",
            "Iteration No: 25 ended. Search finished for the next optimal point.\n",
            "Time taken: 51.8128\n",
            "Function value obtained: -0.7215\n",
            "Current minimum: -0.7259\n",
            "Iteration No: 26 started. Searching for the next optimal point.\n",
            "[200, 'sqrt', 50, 'entropy', 50, 2, True] \n",
            "\n",
            "Iteration No: 26 ended. Search finished for the next optimal point.\n",
            "Time taken: 41.9275\n",
            "Function value obtained: -0.7188\n",
            "Current minimum: -0.7259\n",
            "Iteration No: 27 started. Searching for the next optimal point.\n",
            "[100, 'sqrt', 150, 'entropy', 2, 4, True] \n",
            "\n",
            "Iteration No: 27 ended. Search finished for the next optimal point.\n",
            "Time taken: 23.5014\n",
            "Function value obtained: -0.7236\n",
            "Current minimum: -0.7259\n",
            "Iteration No: 28 started. Searching for the next optimal point.\n",
            "[200, 'sqrt', 150, 'entropy', 10, 1, False] \n",
            "\n",
            "Iteration No: 28 ended. Search finished for the next optimal point.\n",
            "Time taken: 74.5979\n",
            "Function value obtained: -0.7192\n",
            "Current minimum: -0.7259\n",
            "Iteration No: 29 started. Searching for the next optimal point.\n",
            "[200, 'auto', 50, 'entropy', 30, 4, False] \n",
            "\n",
            "Iteration No: 29 ended. Search finished for the next optimal point.\n",
            "Time taken: 63.1325\n",
            "Function value obtained: -0.7238\n",
            "Current minimum: -0.7259\n",
            "Iteration No: 30 started. Searching for the next optimal point.\n",
            "[200, 'sqrt', 50, 'entropy', 10, 4, False] \n",
            "\n",
            "Iteration No: 30 ended. Search finished for the next optimal point.\n",
            "Time taken: 68.9645\n",
            "Function value obtained: -0.7214\n",
            "Current minimum: -0.7259\n",
            "CPU times: user 2min 31s, sys: 13.7 s, total: 2min 45s\n",
            "Wall time: 19min 42s\n"
          ]
        }
      ]
    },
    {
      "cell_type": "code",
      "source": [
        "# Retorna o melhor hiperparametro\n",
        "# Em ordem: n_estimators, max_features, max_depth, criterion, min_samples_split, min_samples_leaf, bootstrap\n",
        "resultado_rf.x"
      ],
      "metadata": {
        "colab": {
          "base_uri": "https://localhost:8080/"
        },
        "id": "wrDxxeng4FkL",
        "outputId": "8d672d98-4f64-4a24-87b4-07cad9a62caf"
      },
      "execution_count": 203,
      "outputs": [
        {
          "output_type": "execute_result",
          "data": {
            "text/plain": [
              "[200, 'sqrt', 50, 'entropy', 10, 1, True]"
            ]
          },
          "metadata": {},
          "execution_count": 203
        }
      ]
    },
    {
      "cell_type": "code",
      "source": [
        "from skopt.plots import plot_convergence\n",
        "plot_convergence(resultado_rf)"
      ],
      "metadata": {
        "colab": {
          "base_uri": "https://localhost:8080/",
          "height": 314
        },
        "id": "cdwZr5A64UpE",
        "outputId": "3aa5110d-7526-48f8-b863-87589564bb48"
      },
      "execution_count": 197,
      "outputs": [
        {
          "output_type": "execute_result",
          "data": {
            "text/plain": [
              "<matplotlib.axes._subplots.AxesSubplot at 0x7f588aace730>"
            ]
          },
          "metadata": {},
          "execution_count": 197
        },
        {
          "output_type": "display_data",
          "data": {
            "text/plain": [
              "<Figure size 432x288 with 1 Axes>"
            ],
            "image/png": "[encoded data removed]"
          },
          "metadata": {
            "needs_background": "light"
          }
        }
      ]
    },
    {
      "cell_type": "code",
      "source": [
        "# Inserir manualmente os melhores hiperparametros\n",
        "%%time\n",
        "rf_model = RandomForestClassifier(n_estimators=200, max_features='sqrt', max_depth=50, criterion='entropy',\n",
        "                                  min_samples_split=10, min_samples_leaf=1 , bootstrap=True, random_state=0, n_jobs=-1)\n",
        "rf_model.fit(X_train, y_train)\n",
        "preds = rf_model.predict(X_test)"
      ],
      "metadata": {
        "colab": {
          "base_uri": "https://localhost:8080/"
        },
        "id": "m2HBepcD4cTX",
        "outputId": "21c4fa60-7d92-44f0-f564-38e6ed15e496"
      },
      "execution_count": 204,
      "outputs": [
        {
          "output_type": "stream",
          "name": "stdout",
          "text": [
            "CPU times: user 39.7 s, sys: 245 ms, total: 39.9 s\n",
            "Wall time: 23.1 s\n"
          ]
        }
      ]
    },
    {
      "cell_type": "code",
      "source": [
        "# Retorna a acurácia\n",
        "accuracy_score(y_test, preds)*100"
      ],
      "metadata": {
        "colab": {
          "base_uri": "https://localhost:8080/"
        },
        "id": "ZahPQ0NW4fWs",
        "outputId": "1fcfe3fd-bbe5-462e-e966-733de3965967"
      },
      "execution_count": 205,
      "outputs": [
        {
          "output_type": "execute_result",
          "data": {
            "text/plain": [
              "73.51987281399046"
            ]
          },
          "metadata": {},
          "execution_count": 205
        }
      ]
    },
    {
      "cell_type": "code",
      "source": [
        "# Retorna a tabela com alguns resultados\n",
        "# digits= define quantidade de casas após a virgula\n",
        "print(classification_report(y_test, preds, digits=4))"
      ],
      "metadata": {
        "colab": {
          "base_uri": "https://localhost:8080/"
        },
        "id": "gucDe7FQ4h2W",
        "outputId": "30309212-fcd3-4e8d-d64c-4de460c44ce1"
      },
      "execution_count": 206,
      "outputs": [
        {
          "output_type": "stream",
          "name": "stdout",
          "text": [
            "              precision    recall  f1-score   support\n",
            "\n",
            "           1     0.8149    0.9037    0.8570      5153\n",
            "           2     0.7645    0.7741    0.7692      2784\n",
            "           3     0.6088    0.4105    0.4903      2536\n",
            "           4     0.7145    0.8039    0.7566      3584\n",
            "           5     0.5707    0.4958    0.5306      1668\n",
            "\n",
            "    accuracy                         0.7352     15725\n",
            "   macro avg     0.6947    0.6776    0.6808     15725\n",
            "weighted avg     0.7239    0.7352    0.7248     15725\n",
            "\n"
          ]
        }
      ]
    },
    {
      "cell_type": "code",
      "source": [
        "imprimeMatrizDeConfusão(y_test, preds, rf_model)"
      ],
      "metadata": {
        "colab": {
          "base_uri": "https://localhost:8080/",
          "height": 296
        },
        "id": "j_f67D7T4mqr",
        "outputId": "0ee8a4d8-4343-4db4-92b9-31a5cea65179"
      },
      "execution_count": 207,
      "outputs": [
        {
          "output_type": "display_data",
          "data": {
            "text/plain": [
              "<Figure size 432x288 with 1 Axes>"
            ],
            "image/png": "[encoded data removed]"
          },
          "metadata": {
            "needs_background": "light"
          }
        }
      ]
    },
    {
      "cell_type": "markdown",
      "source": [
        "**Tilt**"
      ],
      "metadata": {
        "id": "PABLVcwJ1p4i"
      }
    },
    {
      "cell_type": "code",
      "source": [
        "# Lista com os atributos aplicáveis - colunas\n",
        "features_aplicaveis = ['gx', 'gy', 'gz ', 'Comportamento']"
      ],
      "metadata": {
        "id": "FT32Z4XB1rqs"
      },
      "execution_count": 225,
      "outputs": []
    },
    {
      "cell_type": "code",
      "source": [
        "# Seleciona os abributos correspondentes da lista features_aplicaveis\n",
        "df = df[features_aplicaveis]"
      ],
      "metadata": {
        "id": "z-I5CSKd2FLp"
      },
      "execution_count": 226,
      "outputs": []
    },
    {
      "cell_type": "code",
      "source": [
        "def imprimir_quantidade_dados(X_train, X_test):\n",
        "    print(10*\"-\",\" Quantidade de dados \",  10*\"-\")\n",
        "    \n",
        "    print('Treino: ', X_train.shape[0])\n",
        "    print('Teste: ', X_test.shape[0])\n",
        "    \n",
        "    print(43*\"-\")"
      ],
      "metadata": {
        "id": "QAISNNIY2tnV"
      },
      "execution_count": 227,
      "outputs": []
    },
    {
      "cell_type": "code",
      "source": [
        "y = df.Comportamento\n",
        "X = df.drop('Comportamento', axis=1)\n",
        "\n",
        "# Conjunto de dados PRO: Pastejando x Ruminando x Ócio\n",
        "X_train, X_test, y_train, y_test = train_test_split(X, y, train_size=0.8, random_state = 0, stratify=y)"
      ],
      "metadata": {
        "id": "eVyypEcX2v7k"
      },
      "execution_count": 228,
      "outputs": []
    },
    {
      "cell_type": "code",
      "source": [
        "imprimir_quantidade_dados(X_train, X_test)"
      ],
      "metadata": {
        "id": "RvyWkTzn20Rw",
        "outputId": "aad6592d-e7b8-4edc-9956-642a73e7d528",
        "colab": {
          "base_uri": "https://localhost:8080/"
        }
      },
      "execution_count": 229,
      "outputs": [
        {
          "output_type": "stream",
          "name": "stdout",
          "text": [
            "----------  Quantidade de dados  ----------\n",
            "Treino:  62896\n",
            "Teste:  15725\n",
            "-------------------------------------------\n"
          ]
        }
      ]
    },
    {
      "cell_type": "code",
      "source": [
        "# Função para imprimir e salvar matriz de confusão\n",
        "def imprimeMatrizDeConfusão(y_test, preds, model, salvarFigura = False):\n",
        "    from sklearn.metrics import confusion_matrix\n",
        "    from sklearn.metrics import ConfusionMatrixDisplay\n",
        "    import matplotlib.pyplot as plt\n",
        "\n",
        "    cm = confusion_matrix(y_test, preds, normalize='true')\n",
        "    disp = ConfusionMatrixDisplay(confusion_matrix=cm, display_labels=model.classes_)\n",
        "    disp.plot(values_format= '.2%', xticks_rotation=60, colorbar=False)\n",
        "    disp.ax_.set_title(\"Matriz de confusão normalizada sobre as condições verdadeiras\")\n",
        "    if(salvarFigura):\n",
        "        plt.savefig(input('Nome da figura a ser salva:' ) + '.png')\n",
        "    plt.show()"
      ],
      "metadata": {
        "id": "gReI3ylp23Lj"
      },
      "execution_count": 230,
      "outputs": []
    },
    {
      "cell_type": "code",
      "source": [
        "from sklearn.metrics import classification_report\n",
        "\n",
        "def classification_report_extendido(y_true: np.array, y_pred: np.array, classes: set = None):\n",
        "    report = classification_report(y_true, y_pred, output_dict=True, zero_division=0)\n",
        "    \n",
        "    if classes is None: # Determina classes pelos valores\n",
        "        classes = set(np.concatenate((np.unique(y_true), np.unique(y_pred))))\n",
        "    for cls in classes:\n",
        "        y_true_cls = (y_true == cls).astype(int)\n",
        "        y_pred_cls = (y_pred == cls).astype(int)\n",
        "\n",
        "        fp = sum(y_pred_cls[y_true_cls != 1])\n",
        "        tn = sum(y_pred_cls[y_true_cls == 0] == False)\n",
        "        fn = sum(y_pred_cls[y_true_cls == 1] == False)\n",
        "\n",
        "        \n",
        "        specificity_val = tn / (tn + fp)\n",
        "        report[cls]['specificity'] = specificity_val\n",
        "        npv_val = tn / (tn + fn)\n",
        "        report[cls]['npv'] = npv_val\n",
        "        \n",
        "    return report"
      ],
      "metadata": {
        "id": "R-bxy8ux28G3"
      },
      "execution_count": 231,
      "outputs": []
    },
    {
      "cell_type": "markdown",
      "source": [
        "RF"
      ],
      "metadata": {
        "id": "I54zGISz3BAv"
      }
    },
    {
      "cell_type": "code",
      "source": [
        "# imports\n",
        "from sklearn.ensemble import RandomForestClassifier"
      ],
      "metadata": {
        "id": "OG8SkN4v3B3S"
      },
      "execution_count": 232,
      "outputs": []
    },
    {
      "cell_type": "code",
      "source": [
        "rf_Model = RandomForestClassifier(random_state=0, n_jobs=-1)"
      ],
      "metadata": {
        "id": "Kn3I-TuQ3Ehp"
      },
      "execution_count": 233,
      "outputs": []
    },
    {
      "cell_type": "code",
      "source": [
        "# criação de um grid\n",
        "rf_param_grid = {'n_estimators':  np.arange(50, 250, 50),\n",
        "               'max_features': ['auto', 'sqrt'],\n",
        "               'max_depth':[50, 100, 150, None],\n",
        "               'criterion': ['gini', 'entropy'],\n",
        "               'min_samples_split': [2, 5, 10, 30, 50],\n",
        "               'min_samples_leaf': [1, 2],\n",
        "               'bootstrap': [True, False]}"
      ],
      "metadata": {
        "id": "W6dQ59nM3Ghv"
      },
      "execution_count": 234,
      "outputs": []
    },
    {
      "cell_type": "code",
      "source": [
        "rf_RandomGrid = RandomizedSearchCV(estimator = rf_Model, param_distributions = rf_param_grid, cv = 3, verbose=1, random_state=0)"
      ],
      "metadata": {
        "id": "T3eeoLaV3JD-"
      },
      "execution_count": 235,
      "outputs": []
    },
    {
      "cell_type": "code",
      "source": [
        "# Identificação do melhor hiperparametro para testes iniciais\n",
        "%%time\n",
        "rf_RandomGrid.fit(X_train, y_train)"
      ],
      "metadata": {
        "id": "BbGjHOqG3NJg",
        "outputId": "4991fc1f-6a2a-4859-89b5-54044ca0d6cf",
        "colab": {
          "base_uri": "https://localhost:8080/"
        }
      },
      "execution_count": 236,
      "outputs": [
        {
          "output_type": "stream",
          "name": "stdout",
          "text": [
            "Fitting 3 folds for each of 10 candidates, totalling 30 fits\n",
            "CPU times: user 1min 22s, sys: 4.33 s, total: 1min 26s\n",
            "Wall time: 6min 56s\n"
          ]
        },
        {
          "output_type": "execute_result",
          "data": {
            "text/plain": [
              "RandomizedSearchCV(cv=3,\n",
              "                   estimator=RandomForestClassifier(n_jobs=-1, random_state=0),\n",
              "                   param_distributions={'bootstrap': [True, False],\n",
              "                                        'criterion': ['gini', 'entropy'],\n",
              "                                        'max_depth': [50, 100, 150, None],\n",
              "                                        'max_features': ['auto', 'sqrt'],\n",
              "                                        'min_samples_leaf': [1, 2],\n",
              "                                        'min_samples_split': [2, 5, 10, 30, 50],\n",
              "                                        'n_estimators': array([ 50, 100, 150, 200])},\n",
              "                   random_state=0, verbose=1)"
            ]
          },
          "metadata": {},
          "execution_count": 236
        }
      ]
    },
    {
      "cell_type": "code",
      "source": [
        "# Retorna o melhor hiperparametro\n",
        "rf_RandomGrid.best_params_"
      ],
      "metadata": {
        "id": "K5jUXx_M3Qr2",
        "outputId": "c9ecde33-a269-4043-dc04-611a54cda2bc",
        "colab": {
          "base_uri": "https://localhost:8080/"
        }
      },
      "execution_count": 237,
      "outputs": [
        {
          "output_type": "execute_result",
          "data": {
            "text/plain": [
              "{'n_estimators': 200,\n",
              " 'min_samples_split': 50,\n",
              " 'min_samples_leaf': 2,\n",
              " 'max_features': 'sqrt',\n",
              " 'max_depth': 150,\n",
              " 'criterion': 'entropy',\n",
              " 'bootstrap': True}"
            ]
          },
          "metadata": {},
          "execution_count": 237
        }
      ]
    },
    {
      "cell_type": "code",
      "source": [
        "# Acurácia com o melhor hiperparametro pata teste inicial\n",
        "rf_RandomGrid.best_score_"
      ],
      "metadata": {
        "id": "HR60v-XJ3S60",
        "outputId": "a7a4725a-e345-4a93-d2fe-5e9ba25d4e1c",
        "colab": {
          "base_uri": "https://localhost:8080/"
        }
      },
      "execution_count": 238,
      "outputs": [
        {
          "output_type": "execute_result",
          "data": {
            "text/plain": [
              "0.49710631025028756"
            ]
          },
          "metadata": {},
          "execution_count": 238
        }
      ]
    },
    {
      "cell_type": "code",
      "source": [
        "preds_rf_RG = rf_RandomGrid.predict(X_test)"
      ],
      "metadata": {
        "id": "QTMqpk3R3VrI"
      },
      "execution_count": 239,
      "outputs": []
    },
    {
      "cell_type": "code",
      "source": [
        "accuracy_score(y_test, preds_rf_RG)*100"
      ],
      "metadata": {
        "id": "iTVrMNSj3YPo",
        "outputId": "83639b71-b0c8-4b93-f273-df9821176d84",
        "colab": {
          "base_uri": "https://localhost:8080/"
        }
      },
      "execution_count": 240,
      "outputs": [
        {
          "output_type": "execute_result",
          "data": {
            "text/plain": [
              "49.63434022257552"
            ]
          },
          "metadata": {},
          "execution_count": 240
        }
      ]
    },
    {
      "cell_type": "code",
      "source": [
        "imprimeMatrizDeConfusão(y_test, preds_rf_RG, rf_RandomGrid)"
      ],
      "metadata": {
        "id": "8FmKexqs3bO5",
        "outputId": "eafa3b6b-4bbd-47ce-cdc6-b44393391afc",
        "colab": {
          "base_uri": "https://localhost:8080/",
          "height": 296
        }
      },
      "execution_count": 241,
      "outputs": [
        {
          "output_type": "display_data",
          "data": {
            "text/plain": [
              "<Figure size 432x288 with 1 Axes>"
            ],
            "image/png": "[encoded data removed]"
          },
          "metadata": {
            "needs_background": "light"
          }
        }
      ]
    },
    {
      "cell_type": "code",
      "source": [
        "## Busca por hiperparametro\n",
        "def tune_rf(params):\n",
        "    n_estimators = params[0]\n",
        "    max_features = params[1]\n",
        "    max_depth = params[2]\n",
        "    criterion = params[3]\n",
        "    min_samples_split = params[4]\n",
        "    min_samples_leaf = params[5]\n",
        "    bootstrap = params[6]\n",
        "    \n",
        "    print(params, '\\n')\n",
        "    \n",
        "    rf_Model = RandomForestClassifier(n_estimators=n_estimators, max_features=max_features, max_depth=max_depth, criterion=criterion, min_samples_split=min_samples_split,\n",
        "                                       min_samples_leaf = min_samples_leaf, bootstrap=bootstrap, random_state=0, n_jobs=-1)\n",
        "    \n",
        "    auc = cross_val_score(rf_Model, X_train, y_train, cv=3, scoring ='accuracy')\n",
        "    \n",
        "    return -auc.mean()\n",
        "\n",
        "space = [ np.arange(50, 250, 50), # n_estimators\n",
        "         ['auto', 'sqrt'], # max_features\n",
        "         [50, 100, 150, None], # max_depth\n",
        "         ['gini', 'entropy'], # criterion\n",
        "         [2, 5, 10, 30, 50], # min_samples_split\n",
        "         [1,2,4], # min_samples_leaf\n",
        "         [True, False]] # bootstrap] "
      ],
      "metadata": {
        "id": "COhsF7N_3ew8"
      },
      "execution_count": 242,
      "outputs": []
    },
    {
      "cell_type": "code",
      "source": [
        "%%time\n",
        "from skopt import forest_minimize\n",
        "resultado_rf = gp_minimize(tune_rf, space, random_state=0, verbose=1, n_calls=30, n_random_starts=15, n_jobs=-1)"
      ],
      "metadata": {
        "id": "CYiR4mff3mS3",
        "outputId": "d98ed95c-b4cd-428e-8c6b-70e6b5a6bb58",
        "colab": {
          "base_uri": "https://localhost:8080/"
        }
      },
      "execution_count": 243,
      "outputs": [
        {
          "output_type": "stream",
          "name": "stdout",
          "text": [
            "Iteration No: 1 started. Evaluating function at random point.\n",
            "[150, 'sqrt', None, 'gini', 10, 2, False] \n",
            "\n",
            "Iteration No: 1 ended. Evaluation done at random point.\n",
            "Time taken: 42.3610\n",
            "Function value obtained: -0.4717\n",
            "Current minimum: -0.4717\n",
            "Iteration No: 2 started. Evaluating function at random point.\n",
            "[50, 'auto', 100, 'gini', 10, 2, True] \n",
            "\n",
            "Iteration No: 2 ended. Evaluation done at random point.\n",
            "Time taken: 8.8161\n",
            "Function value obtained: -0.4833\n",
            "Current minimum: -0.4833\n",
            "Iteration No: 3 started. Evaluating function at random point.\n",
            "[100, 'sqrt', 100, 'gini', 5, 4, False] \n",
            "\n",
            "Iteration No: 3 ended. Evaluation done at random point.\n",
            "Time taken: 27.5078\n",
            "Function value obtained: -0.4727\n",
            "Current minimum: -0.4833\n",
            "Iteration No: 4 started. Evaluating function at random point.\n",
            "[150, 'sqrt', 150, 'gini', 10, 2, True] \n",
            "\n",
            "Iteration No: 4 ended. Evaluation done at random point.\n",
            "Time taken: 29.2837\n",
            "Function value obtained: -0.4851\n",
            "Current minimum: -0.4851\n",
            "Iteration No: 5 started. Evaluating function at random point.\n",
            "[50, 'auto', 100, 'gini', 5, 1, False] \n",
            "\n",
            "Iteration No: 5 ended. Evaluation done at random point.\n",
            "Time taken: 16.4199\n",
            "Function value obtained: -0.4507\n",
            "Current minimum: -0.4851\n",
            "Iteration No: 6 started. Evaluating function at random point.\n",
            "[50, 'auto', 100, 'gini', 10, 2, True] \n",
            "\n",
            "Iteration No: 6 ended. Evaluation done at random point.\n",
            "Time taken: 8.3418\n",
            "Function value obtained: -0.4833\n",
            "Current minimum: -0.4851\n",
            "Iteration No: 7 started. Evaluating function at random point.\n",
            "[50, 'sqrt', 150, 'entropy', 5, 4, True] \n",
            "\n",
            "Iteration No: 7 ended. Evaluation done at random point.\n",
            "Time taken: 13.1849\n",
            "Function value obtained: -0.4854\n",
            "Current minimum: -0.4854\n",
            "Iteration No: 8 started. Evaluating function at random point.\n",
            "[100, 'auto', 150, 'gini', 30, 2, True] \n",
            "\n",
            "Iteration No: 8 ended. Evaluation done at random point.\n",
            "Time taken: 17.6281\n",
            "Function value obtained: -0.4943\n",
            "Current minimum: -0.4943\n",
            "Iteration No: 9 started. Evaluating function at random point.\n",
            "[150, 'auto', 100, 'gini', 5, 2, False] \n",
            "\n",
            "Iteration No: 9 ended. Evaluation done at random point.\n",
            "Time taken: 45.9710\n",
            "Function value obtained: -0.4590\n",
            "Current minimum: -0.4943\n",
            "Iteration No: 10 started. Evaluating function at random point.\n",
            "[150, 'sqrt', 150, 'entropy', 10, 2, True] \n",
            "\n",
            "Iteration No: 10 ended. Evaluation done at random point.\n",
            "Time taken: 41.8421\n",
            "Function value obtained: -0.4865\n",
            "Current minimum: -0.4943\n",
            "Iteration No: 11 started. Evaluating function at random point.\n",
            "[200, 'sqrt', 50, 'entropy', 2, 2, True] \n",
            "\n",
            "Iteration No: 11 ended. Evaluation done at random point.\n",
            "Time taken: 58.8906\n",
            "Function value obtained: -0.4773\n",
            "Current minimum: -0.4943\n",
            "Iteration No: 12 started. Evaluating function at random point.\n",
            "[100, 'auto', 150, 'gini', 50, 1, True] \n",
            "\n",
            "Iteration No: 12 ended. Evaluation done at random point.\n",
            "Time taken: 15.9848\n",
            "Function value obtained: -0.4977\n",
            "Current minimum: -0.4977\n",
            "Iteration No: 13 started. Evaluating function at random point.\n",
            "[200, 'sqrt', None, 'gini', 2, 2, False] \n",
            "\n",
            "Iteration No: 13 ended. Evaluation done at random point.\n",
            "Time taken: 64.7432\n",
            "Function value obtained: -0.4581\n",
            "Current minimum: -0.4977\n",
            "Iteration No: 14 started. Evaluating function at random point.\n",
            "[200, 'sqrt', None, 'entropy', 10, 2, False] \n",
            "\n",
            "Iteration No: 14 ended. Evaluation done at random point.\n",
            "Time taken: 82.8614\n",
            "Function value obtained: -0.4743\n",
            "Current minimum: -0.4977\n",
            "Iteration No: 15 started. Evaluating function at random point.\n",
            "[100, 'auto', 150, 'gini', 5, 2, True] \n",
            "\n",
            "Iteration No: 15 ended. Evaluation done at random point.\n",
            "Time taken: 21.8079\n",
            "Function value obtained: -0.4777\n",
            "Current minimum: -0.4977\n",
            "Iteration No: 16 started. Searching for the next optimal point.\n",
            "[150, 'sqrt', 150, 'entropy', 30, 1, True] \n",
            "\n",
            "Iteration No: 16 ended. Search finished for the next optimal point.\n",
            "Time taken: 36.7488\n",
            "Function value obtained: -0.4962\n",
            "Current minimum: -0.4977\n",
            "Iteration No: 17 started. Searching for the next optimal point.\n",
            "[100, 'sqrt', 150, 'entropy', 50, 4, True] \n",
            "\n",
            "Iteration No: 17 ended. Search finished for the next optimal point.\n",
            "Time taken: 23.9014\n",
            "Function value obtained: -0.4973\n",
            "Current minimum: -0.4977\n",
            "Iteration No: 18 started. Searching for the next optimal point.\n",
            "[200, 'sqrt', 150, 'entropy', 30, 4, True] \n",
            "\n",
            "Iteration No: 18 ended. Search finished for the next optimal point.\n",
            "Time taken: 47.5647\n",
            "Function value obtained: -0.4964\n",
            "Current minimum: -0.4977\n",
            "Iteration No: 19 started. Searching for the next optimal point.\n",
            "[200, 'auto', 150, 'entropy', 50, 4, False] \n",
            "\n",
            "Iteration No: 19 ended. Search finished for the next optimal point.\n",
            "Time taken: 68.3585\n",
            "Function value obtained: -0.4946\n",
            "Current minimum: -0.4977\n",
            "Iteration No: 20 started. Searching for the next optimal point.\n",
            "[200, 'sqrt', 150, 'entropy', 50, 2, True] \n",
            "\n",
            "Iteration No: 20 ended. Search finished for the next optimal point.\n",
            "Time taken: 47.5377\n",
            "Function value obtained: -0.4971\n",
            "Current minimum: -0.4977\n",
            "Iteration No: 21 started. Searching for the next optimal point.\n",
            "[200, 'auto', 50, 'entropy', 50, 2, True] \n",
            "\n",
            "Iteration No: 21 ended. Search finished for the next optimal point.\n",
            "Time taken: 45.4837\n",
            "Function value obtained: -0.4971\n",
            "Current minimum: -0.4977\n",
            "Iteration No: 22 started. Searching for the next optimal point.\n",
            "[150, 'sqrt', None, 'entropy', 50, 1, True] \n",
            "\n",
            "Iteration No: 22 ended. Search finished for the next optimal point.\n",
            "Time taken: 35.5024\n",
            "Function value obtained: -0.4983\n",
            "Current minimum: -0.4983\n",
            "Iteration No: 23 started. Searching for the next optimal point.\n",
            "[200, 'sqrt', 150, 'entropy', 30, 4, False] \n",
            "\n",
            "Iteration No: 23 ended. Search finished for the next optimal point.\n",
            "Time taken: 71.8688\n",
            "Function value obtained: -0.4914\n",
            "Current minimum: -0.4983\n",
            "Iteration No: 24 started. Searching for the next optimal point.\n",
            "[200, 'auto', 150, 'entropy', 10, 4, True] \n",
            "\n",
            "Iteration No: 24 ended. Search finished for the next optimal point.\n",
            "Time taken: 51.4286\n",
            "Function value obtained: -0.4882\n",
            "Current minimum: -0.4983\n",
            "Iteration No: 25 started. Searching for the next optimal point.\n",
            "[100, 'sqrt', 50, 'entropy', 10, 1, True] \n",
            "\n",
            "Iteration No: 25 ended. Search finished for the next optimal point.\n",
            "Time taken: 28.8547\n",
            "Function value obtained: -0.4840\n",
            "Current minimum: -0.4983\n",
            "Iteration No: 26 started. Searching for the next optimal point.\n",
            "[150, 'auto', None, 'entropy', 2, 4, True] \n",
            "\n",
            "Iteration No: 26 ended. Search finished for the next optimal point.\n",
            "Time taken: 40.6852\n",
            "Function value obtained: -0.4873\n",
            "Current minimum: -0.4983\n",
            "Iteration No: 27 started. Searching for the next optimal point.\n",
            "[200, 'auto', 150, 'entropy', 2, 1, True] \n",
            "\n",
            "Iteration No: 27 ended. Search finished for the next optimal point.\n",
            "Time taken: 66.4232\n",
            "Function value obtained: -0.4648\n",
            "Current minimum: -0.4983\n",
            "Iteration No: 28 started. Searching for the next optimal point.\n",
            "[100, 'sqrt', 50, 'entropy', 50, 1, False] \n",
            "\n",
            "Iteration No: 28 ended. Search finished for the next optimal point.\n",
            "Time taken: 36.0911\n",
            "Function value obtained: -0.4955\n",
            "Current minimum: -0.4983\n",
            "Iteration No: 29 started. Searching for the next optimal point.\n",
            "[100, 'sqrt', None, 'entropy', 50, 2, False] \n",
            "\n",
            "Iteration No: 29 ended. Search finished for the next optimal point.\n",
            "Time taken: 34.3677\n",
            "Function value obtained: -0.4962\n",
            "Current minimum: -0.4983\n",
            "Iteration No: 30 started. Searching for the next optimal point.\n",
            "[150, 'sqrt', None, 'gini', 50, 2, True] \n",
            "\n",
            "Iteration No: 30 ended. Search finished for the next optimal point.\n",
            "Time taken: 25.0835\n",
            "Function value obtained: -0.4972\n",
            "Current minimum: -0.4983\n",
            "CPU times: user 2min 39s, sys: 13.8 s, total: 2min 52s\n",
            "Wall time: 19min 15s\n"
          ]
        }
      ]
    },
    {
      "cell_type": "code",
      "source": [
        "# Retorna o melhor hiperparametro\n",
        "# Em ordem: n_estimators, max_features, max_depth, criterion, min_samples_split, min_samples_leaf, bootstrap\n",
        "resultado_rf.x"
      ],
      "metadata": {
        "id": "ABx7hCdn3prm",
        "outputId": "32c776eb-6d2c-4197-ed99-852ed31906e4",
        "colab": {
          "base_uri": "https://localhost:8080/"
        }
      },
      "execution_count": 244,
      "outputs": [
        {
          "output_type": "execute_result",
          "data": {
            "text/plain": [
              "[150, 'sqrt', None, 'entropy', 50, 1, True]"
            ]
          },
          "metadata": {},
          "execution_count": 244
        }
      ]
    },
    {
      "cell_type": "code",
      "source": [
        "from skopt.plots import plot_convergence\n",
        "plot_convergence(resultado_rf)"
      ],
      "metadata": {
        "id": "AoUSBNhc3rrQ",
        "outputId": "0072e463-9b5a-43d4-fe78-6a1418480934",
        "colab": {
          "base_uri": "https://localhost:8080/",
          "height": 314
        }
      },
      "execution_count": 245,
      "outputs": [
        {
          "output_type": "execute_result",
          "data": {
            "text/plain": [
              "<matplotlib.axes._subplots.AxesSubplot at 0x7f588bf125e0>"
            ]
          },
          "metadata": {},
          "execution_count": 245
        },
        {
          "output_type": "display_data",
          "data": {
            "text/plain": [
              "<Figure size 432x288 with 1 Axes>"
            ],
            "image/png": "[encoded data removed]"
          },
          "metadata": {
            "needs_background": "light"
          }
        }
      ]
    },
    {
      "cell_type": "code",
      "source": [
        "# Inserir manualmente os melhores hiperparametros\n",
        "%%time\n",
        "rf_model = RandomForestClassifier(n_estimators=150, max_features='sqrt', max_depth=None, criterion='entropy',\n",
        "                                  min_samples_split=50, min_samples_leaf=1 , bootstrap=True, random_state=0, n_jobs=-1)\n",
        "rf_model.fit(X_train, y_train)\n",
        "preds = rf_model.predict(X_test)"
      ],
      "metadata": {
        "id": "yUPhOmCR3vOc",
        "outputId": "be064ad7-c801-4096-db27-f9e2858feb30",
        "colab": {
          "base_uri": "https://localhost:8080/"
        }
      },
      "execution_count": 246,
      "outputs": [
        {
          "output_type": "stream",
          "name": "stdout",
          "text": [
            "CPU times: user 28.4 s, sys: 55.1 ms, total: 28.5 s\n",
            "Wall time: 16.4 s\n"
          ]
        }
      ]
    },
    {
      "cell_type": "code",
      "source": [
        "# Retorna a acurácia\n",
        "accuracy_score(y_test, preds)*100"
      ],
      "metadata": {
        "id": "OsKNivCc3wSo"
      },
      "execution_count": null,
      "outputs": []
    },
    {
      "cell_type": "code",
      "source": [
        "# Retorna a tabela com alguns resultados\n",
        "# digits= define quantidade de casas após a virgula\n",
        "print(classification_report(y_test, preds, digits=5))"
      ],
      "metadata": {
        "id": "txwGqmDj31Ls"
      },
      "execution_count": null,
      "outputs": []
    },
    {
      "cell_type": "code",
      "source": [
        "imprimeMatrizDeConfusão(y_test, preds, rf_model)"
      ],
      "metadata": {
        "id": "DFBB9LxA34ao"
      },
      "execution_count": null,
      "outputs": []
    }
  ]
}